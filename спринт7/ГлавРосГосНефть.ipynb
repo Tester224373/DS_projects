{
 "cells": [
  {
   "cell_type": "markdown",
   "metadata": {},
   "source": [
    "# Описание проекта"
   ]
  },
  {
   "cell_type": "markdown",
   "metadata": {},
   "source": [
    "Допустим, вы работаете в добывающей компании «ГлавРосГосНефть». Нужно решить, где бурить новую скважину.\n",
    "\n",
    "Вам предоставлены пробы нефти в трёх регионах: в каждом 10 000 месторождений, где измерили качество нефти и объём её запасов. Постройте модель машинного обучения, которая поможет определить регион, где добыча принесёт наибольшую прибыль. Проанализируйте возможную прибыль и риски техникой *Bootstrap.*\n",
    "\n",
    "Шаги для выбора локации:\n",
    "\n",
    "- В избранном регионе ищут месторождения, для каждого определяют значения признаков;\n",
    "- Строят модель и оценивают объём запасов;\n",
    "- Выбирают месторождения с самым высокими оценками значений. Количество месторождений зависит от бюджета компании и стоимости разработки одной скважины;\n",
    "- Прибыль равна суммарной прибыли отобранных месторождений."
   ]
  },
  {
   "cell_type": "markdown",
   "metadata": {},
   "source": [
    "1. [Загрузка и подготовка данных](#shag_1)\n",
    "2. [Обучение и проверка модели](#shag_2)\n",
    "3. [Подготовка к расчету прибыли](#shag_3)\n",
    "4. [Расчет прибыли и рисков](#shag_4)"
   ]
  },
  {
   "cell_type": "markdown",
   "metadata": {},
   "source": [
    "<a id='shag_1'></a>"
   ]
  },
  {
   "cell_type": "markdown",
   "metadata": {},
   "source": [
    "# 1. Загрузка и подготовка данных"
   ]
  },
  {
   "cell_type": "code",
   "execution_count": 1,
   "metadata": {},
   "outputs": [],
   "source": [
    "import pandas as pd\n",
    "import numpy as np\n",
    "from IPython.display import display\n",
    "import seaborn as sns\n",
    "import matplotlib.pyplot as plt\n",
    "from math import sqrt\n",
    "from statistics import mean\n",
    "from scipy import stats as st\n",
    "from sklearn.linear_model import LinearRegression\n",
    "from sklearn.model_selection import train_test_split\n",
    "from sklearn.metrics import precision_score, recall_score, roc_auc_score, f1_score, accuracy_score, mean_squared_error"
   ]
  },
  {
   "cell_type": "markdown",
   "metadata": {},
   "source": []
  },
  {
   "cell_type": "markdown",
   "metadata": {},
   "source": [
    "В этом разделе будем поочереди открывать пулы данных."
   ]
  },
  {
   "cell_type": "code",
   "execution_count": 2,
   "metadata": {},
   "outputs": [
    {
     "data": {
      "text/html": [
       "<div>\n",
       "<style scoped>\n",
       "    .dataframe tbody tr th:only-of-type {\n",
       "        vertical-align: middle;\n",
       "    }\n",
       "\n",
       "    .dataframe tbody tr th {\n",
       "        vertical-align: top;\n",
       "    }\n",
       "\n",
       "    .dataframe thead th {\n",
       "        text-align: right;\n",
       "    }\n",
       "</style>\n",
       "<table border=\"1\" class=\"dataframe\">\n",
       "  <thead>\n",
       "    <tr style=\"text-align: right;\">\n",
       "      <th></th>\n",
       "      <th>id</th>\n",
       "      <th>f0</th>\n",
       "      <th>f1</th>\n",
       "      <th>f2</th>\n",
       "      <th>product</th>\n",
       "    </tr>\n",
       "  </thead>\n",
       "  <tbody>\n",
       "    <tr>\n",
       "      <td>0</td>\n",
       "      <td>txEyH</td>\n",
       "      <td>0.705745</td>\n",
       "      <td>-0.497823</td>\n",
       "      <td>1.221170</td>\n",
       "      <td>105.280062</td>\n",
       "    </tr>\n",
       "    <tr>\n",
       "      <td>1</td>\n",
       "      <td>2acmU</td>\n",
       "      <td>1.334711</td>\n",
       "      <td>-0.340164</td>\n",
       "      <td>4.365080</td>\n",
       "      <td>73.037750</td>\n",
       "    </tr>\n",
       "    <tr>\n",
       "      <td>2</td>\n",
       "      <td>409Wp</td>\n",
       "      <td>1.022732</td>\n",
       "      <td>0.151990</td>\n",
       "      <td>1.419926</td>\n",
       "      <td>85.265647</td>\n",
       "    </tr>\n",
       "    <tr>\n",
       "      <td>3</td>\n",
       "      <td>iJLyR</td>\n",
       "      <td>-0.032172</td>\n",
       "      <td>0.139033</td>\n",
       "      <td>2.978566</td>\n",
       "      <td>168.620776</td>\n",
       "    </tr>\n",
       "    <tr>\n",
       "      <td>4</td>\n",
       "      <td>Xdl7t</td>\n",
       "      <td>1.988431</td>\n",
       "      <td>0.155413</td>\n",
       "      <td>4.751769</td>\n",
       "      <td>154.036647</td>\n",
       "    </tr>\n",
       "    <tr>\n",
       "      <td>...</td>\n",
       "      <td>...</td>\n",
       "      <td>...</td>\n",
       "      <td>...</td>\n",
       "      <td>...</td>\n",
       "      <td>...</td>\n",
       "    </tr>\n",
       "    <tr>\n",
       "      <td>99995</td>\n",
       "      <td>DLsed</td>\n",
       "      <td>0.971957</td>\n",
       "      <td>0.370953</td>\n",
       "      <td>6.075346</td>\n",
       "      <td>110.744026</td>\n",
       "    </tr>\n",
       "    <tr>\n",
       "      <td>99996</td>\n",
       "      <td>QKivN</td>\n",
       "      <td>1.392429</td>\n",
       "      <td>-0.382606</td>\n",
       "      <td>1.273912</td>\n",
       "      <td>122.346843</td>\n",
       "    </tr>\n",
       "    <tr>\n",
       "      <td>99997</td>\n",
       "      <td>3rnvd</td>\n",
       "      <td>1.029585</td>\n",
       "      <td>0.018787</td>\n",
       "      <td>-1.348308</td>\n",
       "      <td>64.375443</td>\n",
       "    </tr>\n",
       "    <tr>\n",
       "      <td>99998</td>\n",
       "      <td>7kl59</td>\n",
       "      <td>0.998163</td>\n",
       "      <td>-0.528582</td>\n",
       "      <td>1.583869</td>\n",
       "      <td>74.040764</td>\n",
       "    </tr>\n",
       "    <tr>\n",
       "      <td>99999</td>\n",
       "      <td>1CWhH</td>\n",
       "      <td>1.764754</td>\n",
       "      <td>-0.266417</td>\n",
       "      <td>5.722849</td>\n",
       "      <td>149.633246</td>\n",
       "    </tr>\n",
       "  </tbody>\n",
       "</table>\n",
       "<p>100000 rows × 5 columns</p>\n",
       "</div>"
      ],
      "text/plain": [
       "          id        f0        f1        f2     product\n",
       "0      txEyH  0.705745 -0.497823  1.221170  105.280062\n",
       "1      2acmU  1.334711 -0.340164  4.365080   73.037750\n",
       "2      409Wp  1.022732  0.151990  1.419926   85.265647\n",
       "3      iJLyR -0.032172  0.139033  2.978566  168.620776\n",
       "4      Xdl7t  1.988431  0.155413  4.751769  154.036647\n",
       "...      ...       ...       ...       ...         ...\n",
       "99995  DLsed  0.971957  0.370953  6.075346  110.744026\n",
       "99996  QKivN  1.392429 -0.382606  1.273912  122.346843\n",
       "99997  3rnvd  1.029585  0.018787 -1.348308   64.375443\n",
       "99998  7kl59  0.998163 -0.528582  1.583869   74.040764\n",
       "99999  1CWhH  1.764754 -0.266417  5.722849  149.633246\n",
       "\n",
       "[100000 rows x 5 columns]"
      ]
     },
     "metadata": {},
     "output_type": "display_data"
    },
    {
     "data": {
      "text/html": [
       "<div>\n",
       "<style scoped>\n",
       "    .dataframe tbody tr th:only-of-type {\n",
       "        vertical-align: middle;\n",
       "    }\n",
       "\n",
       "    .dataframe tbody tr th {\n",
       "        vertical-align: top;\n",
       "    }\n",
       "\n",
       "    .dataframe thead th {\n",
       "        text-align: right;\n",
       "    }\n",
       "</style>\n",
       "<table border=\"1\" class=\"dataframe\">\n",
       "  <thead>\n",
       "    <tr style=\"text-align: right;\">\n",
       "      <th></th>\n",
       "      <th>id</th>\n",
       "      <th>f0</th>\n",
       "      <th>f1</th>\n",
       "      <th>f2</th>\n",
       "      <th>product</th>\n",
       "    </tr>\n",
       "  </thead>\n",
       "  <tbody>\n",
       "    <tr>\n",
       "      <td>0</td>\n",
       "      <td>kBEdx</td>\n",
       "      <td>-15.001348</td>\n",
       "      <td>-8.276000</td>\n",
       "      <td>-0.005876</td>\n",
       "      <td>3.179103</td>\n",
       "    </tr>\n",
       "    <tr>\n",
       "      <td>1</td>\n",
       "      <td>62mP7</td>\n",
       "      <td>14.272088</td>\n",
       "      <td>-3.475083</td>\n",
       "      <td>0.999183</td>\n",
       "      <td>26.953261</td>\n",
       "    </tr>\n",
       "    <tr>\n",
       "      <td>2</td>\n",
       "      <td>vyE1P</td>\n",
       "      <td>6.263187</td>\n",
       "      <td>-5.948386</td>\n",
       "      <td>5.001160</td>\n",
       "      <td>134.766305</td>\n",
       "    </tr>\n",
       "    <tr>\n",
       "      <td>3</td>\n",
       "      <td>KcrkZ</td>\n",
       "      <td>-13.081196</td>\n",
       "      <td>-11.506057</td>\n",
       "      <td>4.999415</td>\n",
       "      <td>137.945408</td>\n",
       "    </tr>\n",
       "    <tr>\n",
       "      <td>4</td>\n",
       "      <td>AHL4O</td>\n",
       "      <td>12.702195</td>\n",
       "      <td>-8.147433</td>\n",
       "      <td>5.004363</td>\n",
       "      <td>134.766305</td>\n",
       "    </tr>\n",
       "    <tr>\n",
       "      <td>...</td>\n",
       "      <td>...</td>\n",
       "      <td>...</td>\n",
       "      <td>...</td>\n",
       "      <td>...</td>\n",
       "      <td>...</td>\n",
       "    </tr>\n",
       "    <tr>\n",
       "      <td>99995</td>\n",
       "      <td>QywKC</td>\n",
       "      <td>9.535637</td>\n",
       "      <td>-6.878139</td>\n",
       "      <td>1.998296</td>\n",
       "      <td>53.906522</td>\n",
       "    </tr>\n",
       "    <tr>\n",
       "      <td>99996</td>\n",
       "      <td>ptvty</td>\n",
       "      <td>-10.160631</td>\n",
       "      <td>-12.558096</td>\n",
       "      <td>5.005581</td>\n",
       "      <td>137.945408</td>\n",
       "    </tr>\n",
       "    <tr>\n",
       "      <td>99997</td>\n",
       "      <td>09gWa</td>\n",
       "      <td>-7.378891</td>\n",
       "      <td>-3.084104</td>\n",
       "      <td>4.998651</td>\n",
       "      <td>137.945408</td>\n",
       "    </tr>\n",
       "    <tr>\n",
       "      <td>99998</td>\n",
       "      <td>rqwUm</td>\n",
       "      <td>0.665714</td>\n",
       "      <td>-6.152593</td>\n",
       "      <td>1.000146</td>\n",
       "      <td>30.132364</td>\n",
       "    </tr>\n",
       "    <tr>\n",
       "      <td>99999</td>\n",
       "      <td>relB0</td>\n",
       "      <td>-3.426139</td>\n",
       "      <td>-7.794274</td>\n",
       "      <td>-0.003299</td>\n",
       "      <td>3.179103</td>\n",
       "    </tr>\n",
       "  </tbody>\n",
       "</table>\n",
       "<p>100000 rows × 5 columns</p>\n",
       "</div>"
      ],
      "text/plain": [
       "          id         f0         f1        f2     product\n",
       "0      kBEdx -15.001348  -8.276000 -0.005876    3.179103\n",
       "1      62mP7  14.272088  -3.475083  0.999183   26.953261\n",
       "2      vyE1P   6.263187  -5.948386  5.001160  134.766305\n",
       "3      KcrkZ -13.081196 -11.506057  4.999415  137.945408\n",
       "4      AHL4O  12.702195  -8.147433  5.004363  134.766305\n",
       "...      ...        ...        ...       ...         ...\n",
       "99995  QywKC   9.535637  -6.878139  1.998296   53.906522\n",
       "99996  ptvty -10.160631 -12.558096  5.005581  137.945408\n",
       "99997  09gWa  -7.378891  -3.084104  4.998651  137.945408\n",
       "99998  rqwUm   0.665714  -6.152593  1.000146   30.132364\n",
       "99999  relB0  -3.426139  -7.794274 -0.003299    3.179103\n",
       "\n",
       "[100000 rows x 5 columns]"
      ]
     },
     "metadata": {},
     "output_type": "display_data"
    },
    {
     "data": {
      "text/html": [
       "<div>\n",
       "<style scoped>\n",
       "    .dataframe tbody tr th:only-of-type {\n",
       "        vertical-align: middle;\n",
       "    }\n",
       "\n",
       "    .dataframe tbody tr th {\n",
       "        vertical-align: top;\n",
       "    }\n",
       "\n",
       "    .dataframe thead th {\n",
       "        text-align: right;\n",
       "    }\n",
       "</style>\n",
       "<table border=\"1\" class=\"dataframe\">\n",
       "  <thead>\n",
       "    <tr style=\"text-align: right;\">\n",
       "      <th></th>\n",
       "      <th>id</th>\n",
       "      <th>f0</th>\n",
       "      <th>f1</th>\n",
       "      <th>f2</th>\n",
       "      <th>product</th>\n",
       "    </tr>\n",
       "  </thead>\n",
       "  <tbody>\n",
       "    <tr>\n",
       "      <td>0</td>\n",
       "      <td>fwXo0</td>\n",
       "      <td>-1.146987</td>\n",
       "      <td>0.963328</td>\n",
       "      <td>-0.828965</td>\n",
       "      <td>27.758673</td>\n",
       "    </tr>\n",
       "    <tr>\n",
       "      <td>1</td>\n",
       "      <td>WJtFt</td>\n",
       "      <td>0.262778</td>\n",
       "      <td>0.269839</td>\n",
       "      <td>-2.530187</td>\n",
       "      <td>56.069697</td>\n",
       "    </tr>\n",
       "    <tr>\n",
       "      <td>2</td>\n",
       "      <td>ovLUW</td>\n",
       "      <td>0.194587</td>\n",
       "      <td>0.289035</td>\n",
       "      <td>-5.586433</td>\n",
       "      <td>62.871910</td>\n",
       "    </tr>\n",
       "    <tr>\n",
       "      <td>3</td>\n",
       "      <td>q6cA6</td>\n",
       "      <td>2.236060</td>\n",
       "      <td>-0.553760</td>\n",
       "      <td>0.930038</td>\n",
       "      <td>114.572842</td>\n",
       "    </tr>\n",
       "    <tr>\n",
       "      <td>4</td>\n",
       "      <td>WPMUX</td>\n",
       "      <td>-0.515993</td>\n",
       "      <td>1.716266</td>\n",
       "      <td>5.899011</td>\n",
       "      <td>149.600746</td>\n",
       "    </tr>\n",
       "    <tr>\n",
       "      <td>...</td>\n",
       "      <td>...</td>\n",
       "      <td>...</td>\n",
       "      <td>...</td>\n",
       "      <td>...</td>\n",
       "      <td>...</td>\n",
       "    </tr>\n",
       "    <tr>\n",
       "      <td>99995</td>\n",
       "      <td>4GxBu</td>\n",
       "      <td>-1.777037</td>\n",
       "      <td>1.125220</td>\n",
       "      <td>6.263374</td>\n",
       "      <td>172.327046</td>\n",
       "    </tr>\n",
       "    <tr>\n",
       "      <td>99996</td>\n",
       "      <td>YKFjq</td>\n",
       "      <td>-1.261523</td>\n",
       "      <td>-0.894828</td>\n",
       "      <td>2.524545</td>\n",
       "      <td>138.748846</td>\n",
       "    </tr>\n",
       "    <tr>\n",
       "      <td>99997</td>\n",
       "      <td>tKPY3</td>\n",
       "      <td>-1.199934</td>\n",
       "      <td>-2.957637</td>\n",
       "      <td>5.219411</td>\n",
       "      <td>157.080080</td>\n",
       "    </tr>\n",
       "    <tr>\n",
       "      <td>99998</td>\n",
       "      <td>nmxp2</td>\n",
       "      <td>-2.419896</td>\n",
       "      <td>2.417221</td>\n",
       "      <td>-5.548444</td>\n",
       "      <td>51.795253</td>\n",
       "    </tr>\n",
       "    <tr>\n",
       "      <td>99999</td>\n",
       "      <td>V9kWn</td>\n",
       "      <td>-2.551421</td>\n",
       "      <td>-2.025625</td>\n",
       "      <td>6.090891</td>\n",
       "      <td>102.775767</td>\n",
       "    </tr>\n",
       "  </tbody>\n",
       "</table>\n",
       "<p>100000 rows × 5 columns</p>\n",
       "</div>"
      ],
      "text/plain": [
       "          id        f0        f1        f2     product\n",
       "0      fwXo0 -1.146987  0.963328 -0.828965   27.758673\n",
       "1      WJtFt  0.262778  0.269839 -2.530187   56.069697\n",
       "2      ovLUW  0.194587  0.289035 -5.586433   62.871910\n",
       "3      q6cA6  2.236060 -0.553760  0.930038  114.572842\n",
       "4      WPMUX -0.515993  1.716266  5.899011  149.600746\n",
       "...      ...       ...       ...       ...         ...\n",
       "99995  4GxBu -1.777037  1.125220  6.263374  172.327046\n",
       "99996  YKFjq -1.261523 -0.894828  2.524545  138.748846\n",
       "99997  tKPY3 -1.199934 -2.957637  5.219411  157.080080\n",
       "99998  nmxp2 -2.419896  2.417221 -5.548444   51.795253\n",
       "99999  V9kWn -2.551421 -2.025625  6.090891  102.775767\n",
       "\n",
       "[100000 rows x 5 columns]"
      ]
     },
     "metadata": {},
     "output_type": "display_data"
    },
    {
     "name": "stdout",
     "output_type": "stream",
     "text": [
      "<class 'pandas.core.frame.DataFrame'>\n",
      "RangeIndex: 100000 entries, 0 to 99999\n",
      "Data columns (total 5 columns):\n",
      "id         100000 non-null object\n",
      "f0         100000 non-null float64\n",
      "f1         100000 non-null float64\n",
      "f2         100000 non-null float64\n",
      "product    100000 non-null float64\n",
      "dtypes: float64(4), object(1)\n",
      "memory usage: 3.8+ MB\n",
      "None\n",
      "<class 'pandas.core.frame.DataFrame'>\n",
      "RangeIndex: 100000 entries, 0 to 99999\n",
      "Data columns (total 5 columns):\n",
      "id         100000 non-null object\n",
      "f0         100000 non-null float64\n",
      "f1         100000 non-null float64\n",
      "f2         100000 non-null float64\n",
      "product    100000 non-null float64\n",
      "dtypes: float64(4), object(1)\n",
      "memory usage: 3.8+ MB\n",
      "None\n",
      "<class 'pandas.core.frame.DataFrame'>\n",
      "RangeIndex: 100000 entries, 0 to 99999\n",
      "Data columns (total 5 columns):\n",
      "id         100000 non-null object\n",
      "f0         100000 non-null float64\n",
      "f1         100000 non-null float64\n",
      "f2         100000 non-null float64\n",
      "product    100000 non-null float64\n",
      "dtypes: float64(4), object(1)\n",
      "memory usage: 3.8+ MB\n",
      "None\n"
     ]
    }
   ],
   "source": [
    "data0 = pd.read_csv('/datasets/geo_data_0.csv')\n",
    "data1 = pd.read_csv('/datasets/geo_data_1.csv')\n",
    "data2 = pd.read_csv('/datasets/geo_data_2.csv')\n",
    "display(data0)\n",
    "display(data1)\n",
    "display(data2)\n",
    "print(data0.info())\n",
    "print(data1.info())\n",
    "print(data2.info())"
   ]
  },
  {
   "cell_type": "markdown",
   "metadata": {},
   "source": [
    "У нас есть 3 файла с данными - по файлу для каждого региона добычи. В каждом файле id скважины, 3 фактора и объем добычи. Пропущенных значений нет. Создадим функцию для выделения выборки из датафрейма. Поскольку в одном регионе может быть главным один фактор, а в другом регионе - другой, будем делать отдельные выборки по регионам и проводить отдельное обучение."
   ]
  },
  {
   "cell_type": "code",
   "execution_count": 3,
   "metadata": {},
   "outputs": [],
   "source": [
    "def features_target(data):\n",
    "    features = data.drop(['product','id'],1)\n",
    "    target = data['product']\n",
    "    features_train, features_valid, target_train, target_valid = train_test_split(\n",
    "        features, target, test_size=0.25, random_state=12345) \n",
    "\n",
    "    return(features_train,target_train,features_valid,target_valid)\n",
    "\n",
    "features_train,target_train,features_valid,target_valid = features_target(data0)"
   ]
  },
  {
   "cell_type": "markdown",
   "metadata": {},
   "source": [
    "<a id='shag_2'></a>"
   ]
  },
  {
   "cell_type": "markdown",
   "metadata": {},
   "source": [
    "# 2. Обучение и проверка модели"
   ]
  },
  {
   "cell_type": "markdown",
   "metadata": {},
   "source": [
    "Воспользуемся нашей функцией для разбиения выборки для 1 региона.\n",
    "Обучим модель и сделаем предсказания на валидационной выборке.\n",
    "Сохраним предсказания и правильные ответы на валидационной выборке.\n",
    "Посмотрим на средний запас предсказанного сырья и RMSE модели."
   ]
  },
  {
   "cell_type": "code",
   "execution_count": 4,
   "metadata": {},
   "outputs": [
    {
     "name": "stdout",
     "output_type": "stream",
     "text": [
      "          predict       valid\n",
      "71751   95.894952   10.038645\n",
      "80493   77.572583  114.551489\n",
      "2655    77.892640  132.603635\n",
      "53233   90.175134  169.072125\n",
      "91141   70.510088  122.325180\n",
      "...           ...         ...\n",
      "12581  103.037104  170.116726\n",
      "18456   85.403255   93.632175\n",
      "73035   61.509833  127.352259\n",
      "63834  118.180397   99.782700\n",
      "43558  118.169392  177.821022\n",
      "\n",
      "[25000 rows x 2 columns]\n"
     ]
    }
   ],
   "source": [
    "features_train0,target_train0,features_valid0,target_valid0 = features_target(data0)\n",
    "model = LinearRegression().fit(features_train0, target_train0)\n",
    "target_predict0 = model.predict(features_valid0)\n",
    "target_predict0_valid=pd.DataFrame(target_predict0, index=target_valid0.index)\n",
    "target_predict0_valid.columns=['predict']\n",
    "target_predict0_valid['valid']=target_valid0\n",
    "print(target_predict0_valid)\n",
    "#r_sq = model.score(features_train, target_train)\n",
    "#mean_product = mean(target_predict)\n",
    "#RMSE = mean_squared_error(target_valid,target_predict)"
   ]
  },
  {
   "cell_type": "code",
   "execution_count": 5,
   "metadata": {},
   "outputs": [],
   "source": [
    "def print_result_model(target_predict,target_valid,features_train,target_train,):\n",
    "    #r_sq = model.score(features_train, target_train)\n",
    "    mean_product = mean(target_predict)\n",
    "    sum_product=target_predict.sum()\n",
    "    RMSE = sqrt(mean_squared_error(target_valid,target_predict))\n",
    "    #print('coefficient of determination:', r_sq)\n",
    "    #print(model.intercept_, model.coef_)\n",
    "    print('RMSE:', RMSE)\n",
    "    print('Средний объем запасов:', mean_product)\n",
    "    return(sum_product)"
   ]
  },
  {
   "cell_type": "code",
   "execution_count": 6,
   "metadata": {},
   "outputs": [
    {
     "name": "stdout",
     "output_type": "stream",
     "text": [
      "RMSE: 37.5794217150813\n",
      "Средний объем запасов: 92.59256778438038\n"
     ]
    },
    {
     "data": {
      "text/plain": [
       "2314814.1946095093"
      ]
     },
     "execution_count": 6,
     "metadata": {},
     "output_type": "execute_result"
    }
   ],
   "source": [
    "print_result_model(target_predict0,target_valid0,features_train0,target_train0)"
   ]
  },
  {
   "cell_type": "markdown",
   "metadata": {},
   "source": [
    "По первому региону получили данные\n",
    "\n",
    "RMSE: 37.5794217150813\n",
    "\n",
    "Средний объем запасов: 92.59256778438038"
   ]
  },
  {
   "cell_type": "code",
   "execution_count": 7,
   "metadata": {},
   "outputs": [
    {
     "name": "stdout",
     "output_type": "stream",
     "text": [
      "RMSE: 0.893099286775616\n",
      "Средний объем запасов: 68.72854689544602\n"
     ]
    },
    {
     "data": {
      "text/plain": [
       "1718213.67238615"
      ]
     },
     "execution_count": 7,
     "metadata": {},
     "output_type": "execute_result"
    }
   ],
   "source": [
    "features_train1,target_train1,features_valid1,target_valid1 = features_target(data1)\n",
    "model = LinearRegression().fit(features_train1, target_train1)\n",
    "target_predict1 = model.predict(features_valid1)\n",
    "target_predict1_valid=pd.DataFrame(target_predict1, index=target_valid1.index)\n",
    "target_predict1_valid.columns=['predict']\n",
    "target_predict1_valid['valid']=target_valid1\n",
    "print_result_model(target_predict1,target_valid1,features_train1,target_train1,)"
   ]
  },
  {
   "cell_type": "markdown",
   "metadata": {},
   "source": [
    "По второму региону получили \n",
    "\n",
    "RMSE: 0.893099286775616\n",
    "\n",
    "Средний объем запасов: 68.72854689544602"
   ]
  },
  {
   "cell_type": "code",
   "execution_count": 8,
   "metadata": {},
   "outputs": [
    {
     "name": "stdout",
     "output_type": "stream",
     "text": [
      "RMSE: 40.02970873393434\n",
      "Средний объем запасов: 94.9650459680049\n",
      "RMSE: 40.02970873393434\n",
      "Средний объем запасов: 94.9650459680049\n"
     ]
    },
    {
     "data": {
      "text/plain": [
       "2374126.1492001223"
      ]
     },
     "execution_count": 8,
     "metadata": {},
     "output_type": "execute_result"
    }
   ],
   "source": [
    "features_train2,target_train2,features_valid2,target_valid2 = features_target(data2)\n",
    "model = LinearRegression().fit(features_train2, target_train2)\n",
    "target_predict2 = model.predict(features_valid2)\n",
    "target_predict2_valid=pd.DataFrame(target_predict2, index=target_valid2.index)\n",
    "target_predict2_valid.columns=['predict']\n",
    "target_predict2_valid['valid']=target_valid2\n",
    "print_result_model(target_predict2,target_valid2,features_train2,target_train2,)\n",
    "print_result_model(target_predict2,target_valid2,features_train2,target_train2,)"
   ]
  },
  {
   "cell_type": "markdown",
   "metadata": {},
   "source": [
    "По третьему региону получили \n",
    "\n",
    "RMSE: 40.02970873393434\n",
    "\n",
    "Средний объем запасов: 94.9650459680049"
   ]
  },
  {
   "cell_type": "markdown",
   "metadata": {},
   "source": [
    "В третьем регионе самый высокий предсказанный объем сырья, но и самая высокая среднеквадратичная ошибка."
   ]
  },
  {
   "cell_type": "markdown",
   "metadata": {},
   "source": [
    "<div class=\"alert alert-info\">  Добавил корень в RMSE </div>"
   ]
  },
  {
   "cell_type": "markdown",
   "metadata": {},
   "source": [
    "<a id='shag_3'></a>"
   ]
  },
  {
   "cell_type": "markdown",
   "metadata": {},
   "source": []
  },
  {
   "cell_type": "markdown",
   "metadata": {},
   "source": [
    "# 3. Подготовка к расчёту прибыли"
   ]
  },
  {
   "cell_type": "markdown",
   "metadata": {},
   "source": [
    "Все ключевые значения для расчётов сохраним в отдельных переменных.\n",
    "Рассчитаем достаточный объём сырья для безубыточной разработки новой скважины. Сравните полученный объём сырья со средним запасом в каждом регионе.\n",
    "Сделаем выводы по этапу подготовки расчёта прибыли."
   ]
  },
  {
   "cell_type": "markdown",
   "metadata": {},
   "source": [
    "Затраты на каждый регион на 200 скважин составляют 10 000 000 тыс. руб. Выручка будет равна объему с 200 лучших скважин умноженная на 450 тыс. руб. Итого полученная прибыль = выручка - затраты = запасы*450-10000000 (в тыс. руб.)"
   ]
  },
  {
   "cell_type": "code",
   "execution_count": 9,
   "metadata": {},
   "outputs": [
    {
     "name": "stdout",
     "output_type": "stream",
     "text": [
      "Безубыточный объем добьем добычи будет составлять: 111.11 тыс.баррелей\n"
     ]
    }
   ],
   "source": [
    "print('Безубыточный объем добьем добычи будет составлять:',round(10000000/200/450,2),'тыс.баррелей')"
   ]
  },
  {
   "cell_type": "markdown",
   "metadata": {},
   "source": [
    "Видим что показатель безубыточного объема превышает расчитанные средний объемы во всех регионах."
   ]
  },
  {
   "cell_type": "code",
   "execution_count": 10,
   "metadata": {},
   "outputs": [],
   "source": [
    "def profit_calc(target_valid_sub):\n",
    "    price = 450\n",
    "    cost = 10000000\n",
    "    sum_profit=target_valid_sub['valid'].sum()*price-cost\n",
    "    return(sum_profit)  "
   ]
  },
  {
   "cell_type": "code",
   "execution_count": 11,
   "metadata": {},
   "outputs": [],
   "source": [
    "def predict_zapas(target_predict):\n",
    "    predict_zapas0=pd.DataFrame(target_predict)\n",
    "    predict_zapas0.columns=['product']\n",
    "    predict_zapas0=predict_zapas0.sort_values(by='product',ascending=False)[:200]\n",
    "    return(predict_zapas0)"
   ]
  },
  {
   "cell_type": "code",
   "execution_count": 12,
   "metadata": {},
   "outputs": [],
   "source": [
    "def profit_region(data):\n",
    "    data['income']=round(data['target_predict']*450-50000)\n",
    "    data['profit']=((data['income']>=0)*1)\n",
    "    return(data)"
   ]
  },
  {
   "cell_type": "markdown",
   "metadata": {},
   "source": [
    "В этой функции создаем столбец выручки ['income'] со скважины в тыс.руб. и столбец ['profit'], показывающий превышает ли выручка скважины ее себестоимость."
   ]
  },
  {
   "cell_type": "markdown",
   "metadata": {},
   "source": [
    "Риск убыточности скважины расчитаем как отношение всех скважин с объемом добычи менее 111.11 тыс.бар к общему их числу"
   ]
  },
  {
   "cell_type": "code",
   "execution_count": 27,
   "metadata": {},
   "outputs": [],
   "source": [
    "def profit_target_by_predict(target_predict, target_valid):\n",
    "    target_predict_sorted=[]\n",
    "    target_predict = pd.Series(target_predict)   \n",
    "    #result = target_valid_selected.sum() * barel - budget  \n",
    "    total_target = target_predict.to_frame().join(target_valid.to_frame(),how='inner')\n",
    "    total_target.columns=['target_predict', 'target_valid']\n",
    "    total_target = total_target.sort_values(by=['target_predict'],ascending=False)[:200]\n",
    "    return(total_target)\n",
    "\n",
    "def profit_1(target, predictions):\n",
    "    predictions = pd.Series(predictions)\n",
    "    pred_sorted = predictions.sort_values(ascending=True)\n",
    "    select_points = target[pred_sorted.index][:200]\n",
    "    product = select_points.sum()\n",
    "    rev = product * 450\n",
    "    return rev - 10000000\n",
    "\n",
    "state = np.random.RandomState(12345)\n",
    "def profit(pred_valid, target_valid, n):\n",
    "    predictions_valid_sorted = pd.Series(pred_valid).sort_values(ascending=False) #.reset_index(drop=True)\n",
    "    target_valid_selected = target_valid[predictions_valid_sorted.index][:n]\n",
    "    result = target_valid_selected.sum() * 450 - 10000000\n",
    "#     print('Прибыль с 200 лучших скважин составила - {:.2f} тысяч рублей'.format(result))\n",
    "    return result\n",
    "\n",
    "def bootstrap_calc(target_predict_valid):\n",
    "    risk_list = []\n",
    "    profit_list=[]\n",
    "    for i in range(1000):\n",
    "        target_valid_sub = target_predict_valid.sample(n=500, replace=True, random_state=state) #.reset_index(drop=True) #Тут у нас 500 значений\n",
    "        target_valid_sub = target_valid_sub.sort_values(by=['predict'],ascending=False)[:200]\n",
    "        target_valid_sub['unprofit']=((target_valid_sub['valid']<111.11 )*1) \n",
    "        risk = target_valid_sub['unprofit'].sum()/200\n",
    "        risk_list.append(risk)\n",
    "        total_profit = profit_calc(target_valid_sub)\n",
    "        profit_list.append(total_profit)\n",
    "    profit_series = pd.Series(profit_list)\n",
    "    risk_series = pd.Series(risk_list)\n",
    "    mean_profit = profit_series.mean()\n",
    "    confidence_interval = (profit_series.quantile(0.025), profit_series.quantile(0.975))\n",
    "    risk = (((profit_series < 0).sum())/1000)*100\n",
    "    #print('риск убыточной скважины = ',risk,'%')\n",
    "    print('риск убыточной скважины = ',risk,'%')    # ДОБАВЛЕНО РЕВЬЮЕРОМ\n",
    "    print()\n",
    "    print('Средняя прибыль рибыль =',mean_profit,'тыс.руб.')\n",
    "    print()\n",
    "    print(\"95%-ый доверительный интервал:\", confidence_interval)\n",
    "    return(risk,mean_profit,confidence_interval)\n"
   ]
  },
  {
   "cell_type": "markdown",
   "metadata": {},
   "source": [
    "<a id='shag_4'></a>"
   ]
  },
  {
   "cell_type": "markdown",
   "metadata": {},
   "source": [
    "# 4. Расчёт прибыли и рисков "
   ]
  },
  {
   "cell_type": "markdown",
   "metadata": {},
   "source": [
    "Выберем скважины с максимальными значениями предсказаний.\n",
    "Просуммируем целевое значение объёма сырья, соответствующее этим предсказаниям.\n",
    "Рассчитаем прибыль для полученного объёма сырья."
   ]
  },
  {
   "cell_type": "code",
   "execution_count": 14,
   "metadata": {},
   "outputs": [
    {
     "name": "stdout",
     "output_type": "stream",
     "text": [
      "Прибыль 1 региона =  2912877.0 тыс.руб.\n"
     ]
    }
   ],
   "source": [
    "region_0 = profit_target_by_predict(target_predict0, target_valid0)\n",
    "region_0 = profit_region(region_0)\n",
    "print('Прибыль 1 региона = ',region_0['income'].sum(), 'тыс.руб.')"
   ]
  },
  {
   "cell_type": "code",
   "execution_count": 15,
   "metadata": {},
   "outputs": [
    {
     "name": "stdout",
     "output_type": "stream",
     "text": [
      "Прибыль 2 региона =  2431596.0 тыс.руб.\n"
     ]
    }
   ],
   "source": [
    "region_1 = profit_target_by_predict(target_predict1, target_valid1)\n",
    "region_1 = profit_region(region_1)\n",
    "print('Прибыль 2 региона = ',region_1['income'].sum(), 'тыс.руб.')"
   ]
  },
  {
   "cell_type": "code",
   "execution_count": 16,
   "metadata": {},
   "outputs": [
    {
     "name": "stdout",
     "output_type": "stream",
     "text": [
      "Прибыль 3 региона =  2496013.0 тыс.руб.\n"
     ]
    }
   ],
   "source": [
    "region_2 = profit_target_by_predict(target_predict2, target_valid2)\n",
    "region_2 = profit_region(region_2)\n",
    "print('Прибыль 3 региона = ',region_2['income'].sum(), 'тыс.руб.')"
   ]
  },
  {
   "cell_type": "markdown",
   "metadata": {},
   "source": [
    "Самая высокая прибыль в 3 регионе."
   ]
  },
  {
   "cell_type": "markdown",
   "metadata": {},
   "source": [
    "Применим технику Bootstrap с 1000 выборок, чтобы найти распределение прибыли.\n",
    "Найдем среднюю прибыль, 95%-й доверительный интервал и риск убытков. Убыток — это отрицательная прибыль.\n",
    "Сделаем выводы: какой регион подходит для разработки скважин и почему."
   ]
  },
  {
   "cell_type": "markdown",
   "metadata": {},
   "source": [
    "Расчет для первого региона:"
   ]
  },
  {
   "cell_type": "code",
   "execution_count": 28,
   "metadata": {},
   "outputs": [
    {
     "name": "stdout",
     "output_type": "stream",
     "text": [
      "риск убыточной скважины =  6.9 %\n",
      "\n",
      "Средняя прибыль рибыль = 396164.98480237107 тыс.руб.\n",
      "\n",
      "95%-ый доверительный интервал: (-111215.54589049605, 909766.941553422)\n"
     ]
    }
   ],
   "source": [
    "df = pd.DataFrame(columns = ['Риск', 'Средняя прибыль', 'Интервал'])\n",
    "risk,mean_profit,confidence_interval = bootstrap_calc(target_predict0_valid)\n",
    "df.loc[0] = [risk,mean_profit,confidence_interval]"
   ]
  },
  {
   "cell_type": "markdown",
   "metadata": {},
   "source": [
    "Расчет для второго региона:"
   ]
  },
  {
   "cell_type": "code",
   "execution_count": 29,
   "metadata": {},
   "outputs": [
    {
     "name": "stdout",
     "output_type": "stream",
     "text": [
      "риск убыточной скважины =  0.7000000000000001 %\n",
      "\n",
      "Средняя прибыль рибыль = 461155.8172772397 тыс.руб.\n",
      "\n",
      "95%-ый доверительный интервал: (78050.81075174107, 862952.0602637231)\n"
     ]
    }
   ],
   "source": [
    "risk,mean_profit,confidence_interval = bootstrap_calc(target_predict1_valid)\n",
    "df.loc[1] = [risk,mean_profit,confidence_interval]"
   ]
  },
  {
   "cell_type": "markdown",
   "metadata": {},
   "source": [
    "Расчет для третьего региона:"
   ]
  },
  {
   "cell_type": "code",
   "execution_count": 30,
   "metadata": {},
   "outputs": [
    {
     "name": "stdout",
     "output_type": "stream",
     "text": [
      "риск убыточной скважины =  6.5 %\n",
      "\n",
      "Средняя прибыль рибыль = 392950.4751706045 тыс.руб.\n",
      "\n",
      "95%-ый доверительный интервал: (-112227.62537857569, 934562.914551164)\n"
     ]
    }
   ],
   "source": [
    "risk,mean_profit,confidence_interval = bootstrap_calc(target_predict2_valid)\n",
    "df.loc[2] = [risk,mean_profit,confidence_interval]"
   ]
  },
  {
   "cell_type": "code",
   "execution_count": 31,
   "metadata": {},
   "outputs": [
    {
     "data": {
      "text/html": [
       "<div>\n",
       "<style scoped>\n",
       "    .dataframe tbody tr th:only-of-type {\n",
       "        vertical-align: middle;\n",
       "    }\n",
       "\n",
       "    .dataframe tbody tr th {\n",
       "        vertical-align: top;\n",
       "    }\n",
       "\n",
       "    .dataframe thead th {\n",
       "        text-align: right;\n",
       "    }\n",
       "</style>\n",
       "<table border=\"1\" class=\"dataframe\">\n",
       "  <thead>\n",
       "    <tr style=\"text-align: right;\">\n",
       "      <th></th>\n",
       "      <th>Риск</th>\n",
       "      <th>Средняя прибыль</th>\n",
       "      <th>Интервал</th>\n",
       "    </tr>\n",
       "  </thead>\n",
       "  <tbody>\n",
       "    <tr>\n",
       "      <td>0</td>\n",
       "      <td>6.9</td>\n",
       "      <td>396164.984802</td>\n",
       "      <td>(-111215.54589049605, 909766.941553422)</td>\n",
       "    </tr>\n",
       "    <tr>\n",
       "      <td>1</td>\n",
       "      <td>0.7</td>\n",
       "      <td>461155.817277</td>\n",
       "      <td>(78050.81075174107, 862952.0602637231)</td>\n",
       "    </tr>\n",
       "    <tr>\n",
       "      <td>2</td>\n",
       "      <td>6.5</td>\n",
       "      <td>392950.475171</td>\n",
       "      <td>(-112227.62537857569, 934562.914551164)</td>\n",
       "    </tr>\n",
       "  </tbody>\n",
       "</table>\n",
       "</div>"
      ],
      "text/plain": [
       "   Риск  Средняя прибыль                                 Интервал\n",
       "0   6.9    396164.984802  (-111215.54589049605, 909766.941553422)\n",
       "1   0.7    461155.817277   (78050.81075174107, 862952.0602637231)\n",
       "2   6.5    392950.475171  (-112227.62537857569, 934562.914551164)"
      ]
     },
     "metadata": {},
     "output_type": "display_data"
    }
   ],
   "source": [
    "display(df)"
   ]
  },
  {
   "cell_type": "markdown",
   "metadata": {},
   "source": [
    "В результате расчетов выяснили, что доверительный интервал прибыли и расчитанная средняя прибыль по второму региону добычи самая высокая, риск убыика практически отсутствует (0,7%). К разработке новых скважин рекомендован 2 регион."
   ]
  },
  {
   "cell_type": "markdown",
   "metadata": {},
   "source": [
    "*********************"
   ]
  },
  {
   "cell_type": "code",
   "execution_count": 21,
   "metadata": {},
   "outputs": [],
   "source": [
    "# функция прибыли \n",
    "def profit_1(target, predictions):\n",
    "    pred_sorted = predictions.sort_values(ascending=False)\n",
    "    select_points = target[pred_sorted.index][:200]\n",
    "    product = select_points.sum()\n",
    "    rev = product * PRODUCT_PRICE\n",
    "    return rev - cost"
   ]
  },
  {
   "cell_type": "raw",
   "metadata": {},
   "source": [
    "# расчёт региона (прибыль ожидается около 300-500 млн +-)\n",
    "profit_values = []\n",
    "for i in range(BOOTSTRAP_SIZE):\n",
    "    t_sample = target.sample(SAMPLE_SIZE, replace=True, random_state=state)\n",
    "    pred_sample = predictions[target_sample.index]\n",
    "    profit_values.append(profit_1(t_sample, pred_sample))\n",
    "profit_values = pd.Series(profit_values)\n",
    "\n",
    "mean_profit = profit_values.mean()\n",
    "confidence_interval = (profit_values.quantile(0.025), profit_values.quantile(0.975))\n",
    "risk = ((profit_values < 0).mean()* 100, \"%\")\n",
    "\n",
    "print(\"-- Регион\", region, \"--\")\n",
    "print(\"Средняя прибыль =\", mean_profit)\n",
    "print(\"95%-ый доверительный интервал:\", confidence_interval)\n",
    "print(\"Риск убытков =\", risk)\n",
    "print()"
   ]
  },
  {
   "cell_type": "markdown",
   "metadata": {},
   "source": [
    "*******************"
   ]
  },
  {
   "cell_type": "markdown",
   "metadata": {},
   "source": [
    "# Чек-лист готовности проекта"
   ]
  },
  {
   "cell_type": "markdown",
   "metadata": {},
   "source": [
    "Поставьте 'x' в выполненных пунктах. Далее нажмите Shift+Enter."
   ]
  },
  {
   "cell_type": "markdown",
   "metadata": {},
   "source": [
    "- [x]  Jupyter Notebook открыт\n",
    "- [x]  Весь код выполняется без ошибок\n",
    "- [x]  Ячейки с кодом расположены в порядке исполнения\n",
    "- [x]  Выполнен шаг 1: данные подготовлены\n",
    "- [x]  Выполнен шаг 2: модели обучены и проверены\n",
    "    - [x]  Данные корректно разбиты на обучающую и валидационную выборки\n",
    "    - [x]  Модели обучены, предсказания сделаны\n",
    "    - [x]  Предсказания и правильные ответы на валидационной выборке сохранены\n",
    "    - [x]  На экране напечатаны результаты\n",
    "    - [x]  Сделаны выводы\n",
    "- [x]  Выполнен шаг 3: проведена подготовка к расчёту прибыли\n",
    "    - [x]  Для всех ключевых значений созданы константы Python\n",
    "    - [x]  Посчитано минимальное среднее количество продукта в месторождениях региона, достаточное для разработки\n",
    "    - [x]  По предыдущему пункту сделаны выводы\n",
    "    - [x]  Написана функция расчёта прибыли\n",
    "- [x]  Выполнен шаг 4: посчитаны риски и прибыль\n",
    "    - [x]  Проведена процедура *Bootstrap*\n",
    "    - [x]  Все параметры бутстрепа соответствуют условию\n",
    "    - [x]  Найдены все нужные величины\n",
    "    - [x]  Предложен регион для разработки месторождения\n",
    "    - [x]  Выбор региона обоснован"
   ]
  }
 ],
 "metadata": {
  "kernelspec": {
   "display_name": "Python 3",
   "language": "python",
   "name": "python3"
  },
  "language_info": {
   "codemirror_mode": {
    "name": "ipython",
    "version": 3
   },
   "file_extension": ".py",
   "mimetype": "text/x-python",
   "name": "python",
   "nbconvert_exporter": "python",
   "pygments_lexer": "ipython3",
   "version": "3.8.3"
  }
 },
 "nbformat": 4,
 "nbformat_minor": 2
}
