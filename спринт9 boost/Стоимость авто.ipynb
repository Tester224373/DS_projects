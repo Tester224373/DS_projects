{
 "cells": [
  {
   "cell_type": "markdown",
   "metadata": {},
   "source": [
    "# Определение стоимости автомобилей"
   ]
  },
  {
   "cell_type": "markdown",
   "metadata": {},
   "source": [
    "Сервис по продаже автомобилей с пробегом «Не бит, не крашен» разрабатывает приложение для привлечения новых клиентов. В нём можно быстро узнать рыночную стоимость своего автомобиля. В вашем распоряжении исторические данные: технические характеристики, комплектации и цены автомобилей. Вам нужно построить модель для определения стоимости. \n",
    "\n",
    "Заказчику важны:\n",
    "\n",
    "- качество предсказания;\n",
    "- скорость предсказания;\n",
    "- время обучения."
   ]
  },
  {
   "cell_type": "markdown",
   "metadata": {},
   "source": [
    "1. [ПОДГОТОВКА ДАННЫХ](#shag_1)\n",
    "\n",
    "а) [обработка пропущенных значений](#shag_1_1)\n",
    "\n",
    "б) [ОНЕ](#shag_1_2)\n",
    "\n",
    "2. [ОБУЧЕНИЕ МОДЕЛЕЙ](#shag_2)\n",
    "\n",
    "3. [АНАЛИЗ МОДЕЛЕЙ](#shag_3)\n"
   ]
  },
  {
   "cell_type": "markdown",
   "metadata": {},
   "source": [
    "<a id='shag_1'></a>"
   ]
  },
  {
   "cell_type": "markdown",
   "metadata": {},
   "source": [
    "## Подготовка данных"
   ]
  },
  {
   "cell_type": "code",
   "execution_count": 1,
   "metadata": {},
   "outputs": [],
   "source": [
    "#pip install hpsklearn"
   ]
  },
  {
   "cell_type": "code",
   "execution_count": 2,
   "metadata": {},
   "outputs": [],
   "source": [
    "import pandas as pd\n",
    "import numpy as np\n",
    "from sklearn.datasets import make_classification\n",
    "from lightgbm import LGBMClassifier, LGBMRegressor\n",
    "from sklearn import metrics\n",
    "from sklearn.ensemble import RandomForestRegressor\n",
    "from sklearn.model_selection import train_test_split,RandomizedSearchCV,GridSearchCV,cross_val_score,RepeatedStratifiedKFold\n",
    "from sklearn.ensemble import RandomForestClassifier\n",
    "from sklearn.tree import DecisionTreeClassifier\n",
    "from sklearn.linear_model import LinearRegression, LogisticRegression\n",
    "from sklearn.dummy import DummyClassifier\n",
    "from sklearn.preprocessing import OrdinalEncoder, StandardScaler\n",
    "from sklearn.utils import shuffle\n",
    "from sklearn.preprocessing import MinMaxScaler, Imputer\n",
    "from sklearn.preprocessing import OrdinalEncoder\n",
    "from sklearn.pipeline import Pipeline\n",
    "import matplotlib.pyplot as plt\n",
    "import seaborn as sns; sns.set(style=\"ticks\", color_codes=True)\n",
    "from sklearn.neighbors import KNeighborsRegressor\n",
    "from sklearn.svm import SVR\n",
    "from sklearn.ensemble import RandomForestRegressor\n",
    "from sklearn.metrics import r2_score\n",
    "from pandas import DataFrame\n",
    "import timeit"
   ]
  },
  {
   "cell_type": "code",
   "execution_count": 3,
   "metadata": {},
   "outputs": [
    {
     "data": {
      "text/html": [
       "<div>\n",
       "<style scoped>\n",
       "    .dataframe tbody tr th:only-of-type {\n",
       "        vertical-align: middle;\n",
       "    }\n",
       "\n",
       "    .dataframe tbody tr th {\n",
       "        vertical-align: top;\n",
       "    }\n",
       "\n",
       "    .dataframe thead th {\n",
       "        text-align: right;\n",
       "    }\n",
       "</style>\n",
       "<table border=\"1\" class=\"dataframe\">\n",
       "  <thead>\n",
       "    <tr style=\"text-align: right;\">\n",
       "      <th></th>\n",
       "      <th>DateCrawled</th>\n",
       "      <th>Price</th>\n",
       "      <th>VehicleType</th>\n",
       "      <th>RegistrationYear</th>\n",
       "      <th>Gearbox</th>\n",
       "      <th>Power</th>\n",
       "      <th>Model</th>\n",
       "      <th>Kilometer</th>\n",
       "      <th>RegistrationMonth</th>\n",
       "      <th>FuelType</th>\n",
       "      <th>Brand</th>\n",
       "      <th>NotRepaired</th>\n",
       "      <th>DateCreated</th>\n",
       "      <th>NumberOfPictures</th>\n",
       "      <th>PostalCode</th>\n",
       "      <th>LastSeen</th>\n",
       "    </tr>\n",
       "  </thead>\n",
       "  <tbody>\n",
       "    <tr>\n",
       "      <td>0</td>\n",
       "      <td>2016-03-24 11:52:17</td>\n",
       "      <td>480</td>\n",
       "      <td>NaN</td>\n",
       "      <td>1993</td>\n",
       "      <td>manual</td>\n",
       "      <td>0</td>\n",
       "      <td>golf</td>\n",
       "      <td>150000</td>\n",
       "      <td>0</td>\n",
       "      <td>petrol</td>\n",
       "      <td>volkswagen</td>\n",
       "      <td>NaN</td>\n",
       "      <td>2016-03-24 00:00:00</td>\n",
       "      <td>0</td>\n",
       "      <td>70435</td>\n",
       "      <td>2016-04-07 03:16:57</td>\n",
       "    </tr>\n",
       "    <tr>\n",
       "      <td>1</td>\n",
       "      <td>2016-03-24 10:58:45</td>\n",
       "      <td>18300</td>\n",
       "      <td>coupe</td>\n",
       "      <td>2011</td>\n",
       "      <td>manual</td>\n",
       "      <td>190</td>\n",
       "      <td>NaN</td>\n",
       "      <td>125000</td>\n",
       "      <td>5</td>\n",
       "      <td>gasoline</td>\n",
       "      <td>audi</td>\n",
       "      <td>yes</td>\n",
       "      <td>2016-03-24 00:00:00</td>\n",
       "      <td>0</td>\n",
       "      <td>66954</td>\n",
       "      <td>2016-04-07 01:46:50</td>\n",
       "    </tr>\n",
       "    <tr>\n",
       "      <td>2</td>\n",
       "      <td>2016-03-14 12:52:21</td>\n",
       "      <td>9800</td>\n",
       "      <td>suv</td>\n",
       "      <td>2004</td>\n",
       "      <td>auto</td>\n",
       "      <td>163</td>\n",
       "      <td>grand</td>\n",
       "      <td>125000</td>\n",
       "      <td>8</td>\n",
       "      <td>gasoline</td>\n",
       "      <td>jeep</td>\n",
       "      <td>NaN</td>\n",
       "      <td>2016-03-14 00:00:00</td>\n",
       "      <td>0</td>\n",
       "      <td>90480</td>\n",
       "      <td>2016-04-05 12:47:46</td>\n",
       "    </tr>\n",
       "    <tr>\n",
       "      <td>3</td>\n",
       "      <td>2016-03-17 16:54:04</td>\n",
       "      <td>1500</td>\n",
       "      <td>small</td>\n",
       "      <td>2001</td>\n",
       "      <td>manual</td>\n",
       "      <td>75</td>\n",
       "      <td>golf</td>\n",
       "      <td>150000</td>\n",
       "      <td>6</td>\n",
       "      <td>petrol</td>\n",
       "      <td>volkswagen</td>\n",
       "      <td>no</td>\n",
       "      <td>2016-03-17 00:00:00</td>\n",
       "      <td>0</td>\n",
       "      <td>91074</td>\n",
       "      <td>2016-03-17 17:40:17</td>\n",
       "    </tr>\n",
       "    <tr>\n",
       "      <td>4</td>\n",
       "      <td>2016-03-31 17:25:20</td>\n",
       "      <td>3600</td>\n",
       "      <td>small</td>\n",
       "      <td>2008</td>\n",
       "      <td>manual</td>\n",
       "      <td>69</td>\n",
       "      <td>fabia</td>\n",
       "      <td>90000</td>\n",
       "      <td>7</td>\n",
       "      <td>gasoline</td>\n",
       "      <td>skoda</td>\n",
       "      <td>no</td>\n",
       "      <td>2016-03-31 00:00:00</td>\n",
       "      <td>0</td>\n",
       "      <td>60437</td>\n",
       "      <td>2016-04-06 10:17:21</td>\n",
       "    </tr>\n",
       "  </tbody>\n",
       "</table>\n",
       "</div>"
      ],
      "text/plain": [
       "           DateCrawled  Price VehicleType  RegistrationYear Gearbox  Power  \\\n",
       "0  2016-03-24 11:52:17    480         NaN              1993  manual      0   \n",
       "1  2016-03-24 10:58:45  18300       coupe              2011  manual    190   \n",
       "2  2016-03-14 12:52:21   9800         suv              2004    auto    163   \n",
       "3  2016-03-17 16:54:04   1500       small              2001  manual     75   \n",
       "4  2016-03-31 17:25:20   3600       small              2008  manual     69   \n",
       "\n",
       "   Model  Kilometer  RegistrationMonth  FuelType       Brand NotRepaired  \\\n",
       "0   golf     150000                  0    petrol  volkswagen         NaN   \n",
       "1    NaN     125000                  5  gasoline        audi         yes   \n",
       "2  grand     125000                  8  gasoline        jeep         NaN   \n",
       "3   golf     150000                  6    petrol  volkswagen          no   \n",
       "4  fabia      90000                  7  gasoline       skoda          no   \n",
       "\n",
       "           DateCreated  NumberOfPictures  PostalCode             LastSeen  \n",
       "0  2016-03-24 00:00:00                 0       70435  2016-04-07 03:16:57  \n",
       "1  2016-03-24 00:00:00                 0       66954  2016-04-07 01:46:50  \n",
       "2  2016-03-14 00:00:00                 0       90480  2016-04-05 12:47:46  \n",
       "3  2016-03-17 00:00:00                 0       91074  2016-03-17 17:40:17  \n",
       "4  2016-03-31 00:00:00                 0       60437  2016-04-06 10:17:21  "
      ]
     },
     "metadata": {},
     "output_type": "display_data"
    }
   ],
   "source": [
    "df = pd.read_csv('/datasets/autos.csv')\n",
    "display(df.head())"
   ]
  },
  {
   "cell_type": "code",
   "execution_count": 4,
   "metadata": {},
   "outputs": [
    {
     "name": "stdout",
     "output_type": "stream",
     "text": [
      "<class 'pandas.core.frame.DataFrame'>\n",
      "RangeIndex: 354369 entries, 0 to 354368\n",
      "Data columns (total 16 columns):\n",
      "DateCrawled          354369 non-null object\n",
      "Price                354369 non-null int64\n",
      "VehicleType          316879 non-null object\n",
      "RegistrationYear     354369 non-null int64\n",
      "Gearbox              334536 non-null object\n",
      "Power                354369 non-null int64\n",
      "Model                334664 non-null object\n",
      "Kilometer            354369 non-null int64\n",
      "RegistrationMonth    354369 non-null int64\n",
      "FuelType             321474 non-null object\n",
      "Brand                354369 non-null object\n",
      "NotRepaired          283215 non-null object\n",
      "DateCreated          354369 non-null object\n",
      "NumberOfPictures     354369 non-null int64\n",
      "PostalCode           354369 non-null int64\n",
      "LastSeen             354369 non-null object\n",
      "dtypes: int64(7), object(9)\n",
      "memory usage: 43.3+ MB\n",
      "None\n"
     ]
    }
   ],
   "source": [
    "print(df.info())"
   ]
  },
  {
   "cell_type": "markdown",
   "metadata": {},
   "source": [
    "Поскольку цель - уметь предсказывать цену для автомобиля перед подачей объявления, уберем лишние признаки, такие как: DateCrawled — дата скачивания анкеты из базы\n",
    "RegistrationYear — год регистрации автомобиля\n",
    "RegistrationMonth — месяц регистрации автомобиля\n",
    "DateCreated — дата создания анкеты\n",
    "PostalCode — почтовый индекс владельца анкеты (пользователя)\n",
    "LastSeen — дата последней активности пользователя"
   ]
  },
  {
   "cell_type": "code",
   "execution_count": 5,
   "metadata": {},
   "outputs": [],
   "source": [
    "df = df.drop(['DateCrawled', 'DateCreated', 'PostalCode', 'LastSeen', 'RegistrationMonth'], axis=1)"
   ]
  },
  {
   "cell_type": "code",
   "execution_count": 6,
   "metadata": {},
   "outputs": [
    {
     "name": "stdout",
     "output_type": "stream",
     "text": [
      "<class 'pandas.core.frame.DataFrame'>\n",
      "RangeIndex: 354369 entries, 0 to 354368\n",
      "Data columns (total 11 columns):\n",
      "Price               354369 non-null int64\n",
      "VehicleType         316879 non-null object\n",
      "RegistrationYear    354369 non-null int64\n",
      "Gearbox             334536 non-null object\n",
      "Power               354369 non-null int64\n",
      "Model               334664 non-null object\n",
      "Kilometer           354369 non-null int64\n",
      "FuelType            321474 non-null object\n",
      "Brand               354369 non-null object\n",
      "NotRepaired         283215 non-null object\n",
      "NumberOfPictures    354369 non-null int64\n",
      "dtypes: int64(5), object(6)\n",
      "memory usage: 29.7+ MB\n",
      "None\n",
      "               Price  RegistrationYear          Power      Kilometer  \\\n",
      "count  354369.000000     354369.000000  354369.000000  354369.000000   \n",
      "mean     4416.656776       2004.234448     110.094337  128211.172535   \n",
      "std      4514.158514         90.227958     189.850405   37905.341530   \n",
      "min         0.000000       1000.000000       0.000000    5000.000000   \n",
      "25%      1050.000000       1999.000000      69.000000  125000.000000   \n",
      "50%      2700.000000       2003.000000     105.000000  150000.000000   \n",
      "75%      6400.000000       2008.000000     143.000000  150000.000000   \n",
      "max     20000.000000       9999.000000   20000.000000  150000.000000   \n",
      "\n",
      "       NumberOfPictures  \n",
      "count          354369.0  \n",
      "mean                0.0  \n",
      "std                 0.0  \n",
      "min                 0.0  \n",
      "25%                 0.0  \n",
      "50%                 0.0  \n",
      "75%                 0.0  \n",
      "max                 0.0  \n"
     ]
    }
   ],
   "source": [
    "print(df.info())\n",
    "print(df.describe())"
   ]
  },
  {
   "cell_type": "markdown",
   "metadata": {},
   "source": [
    "<a id='vibros'></a>"
   ]
  },
  {
   "cell_type": "markdown",
   "metadata": {},
   "source": [
    "Обратми внимание, что минимальные значения по цене, мощности и году регистрации составляют: 0, 0 и 1000, что говорит об ошибке. Максимальные значения года регистрации и мощности: 9999 и 20000. Проанализируем выбросы и избавимся от них"
   ]
  },
  {
   "cell_type": "code",
   "execution_count": 7,
   "metadata": {},
   "outputs": [
    {
     "data": {
      "text/plain": [
       "Text(0.5, 0, 'Цена')"
      ]
     },
     "execution_count": 7,
     "metadata": {},
     "output_type": "execute_result"
    },
    {
     "data": {
      "image/png": "[encoded data removed]",
      "text/plain": [
       "<Figure size 1080x360 with 1 Axes>"
      ]
     },
     "metadata": {},
     "output_type": "display_data"
    }
   ],
   "source": [
    "plt.figure(figsize=(15,5))\n",
    "sns.boxplot(data=df, x='Price')\n",
    "plt.title('диаграмма размаха', fontsize=12)\n",
    "plt.xlabel('Цена', fontsize=10)"
   ]
  },
  {
   "cell_type": "code",
   "execution_count": 8,
   "metadata": {},
   "outputs": [],
   "source": [
    "df.loc[df['Price']>140000] = np.NaN"
   ]
  },
  {
   "cell_type": "code",
   "execution_count": 9,
   "metadata": {},
   "outputs": [
    {
     "data": {
      "text/plain": [
       "Text(0.5, 0, 'Год регистрации')"
      ]
     },
     "execution_count": 9,
     "metadata": {},
     "output_type": "execute_result"
    },
    {
     "data": {
      "image/png": "[encoded data removed]",
      "text/plain": [
       "<Figure size 1080x360 with 1 Axes>"
      ]
     },
     "metadata": {},
     "output_type": "display_data"
    }
   ],
   "source": [
    "plt.figure(figsize=(15,5))\n",
    "sns.boxplot(data=df, x='RegistrationYear')\n",
    "plt.title('диаграмма размаха', fontsize=12)\n",
    "plt.xlabel('Год регистрации', fontsize=10)"
   ]
  },
  {
   "cell_type": "code",
   "execution_count": 10,
   "metadata": {},
   "outputs": [],
   "source": [
    "df.loc[df['RegistrationYear']>2021] = np.NaN\n",
    "df.loc[df['RegistrationYear']<1960] = np.NaN"
   ]
  },
  {
   "cell_type": "code",
   "execution_count": 11,
   "metadata": {},
   "outputs": [
    {
     "data": {
      "text/plain": [
       "Text(0.5, 0, 'Мощность')"
      ]
     },
     "execution_count": 11,
     "metadata": {},
     "output_type": "execute_result"
    },
    {
     "data": {
      "image/png": "[encoded data removed]",
      "text/plain": [
       "<Figure size 1080x360 with 1 Axes>"
      ]
     },
     "metadata": {},
     "output_type": "display_data"
    }
   ],
   "source": [
    "plt.figure(figsize=(15,5))\n",
    "sns.boxplot(data=df, x='Power')\n",
    "plt.title('диаграмма размаха', fontsize=12)\n",
    "plt.xlabel('Мощность', fontsize=10)"
   ]
  },
  {
   "cell_type": "code",
   "execution_count": 12,
   "metadata": {},
   "outputs": [],
   "source": [
    "df.loc[df['Power']>500] = np.NaN"
   ]
  },
  {
   "cell_type": "markdown",
   "metadata": {},
   "source": [
    "<a id='data2'></a>"
   ]
  },
  {
   "cell_type": "markdown",
   "metadata": {},
   "source": [
    "Кроме датафрейма с заменой пропущенных значений подготовим альтернативный датафрейм с удалением таких строк."
   ]
  },
  {
   "cell_type": "code",
   "execution_count": 13,
   "metadata": {},
   "outputs": [],
   "source": [
    "data2=df.dropna()"
   ]
  },
  {
   "cell_type": "code",
   "execution_count": 14,
   "metadata": {},
   "outputs": [
    {
     "name": "stdout",
     "output_type": "stream",
     "text": [
      "Price                 971\n",
      "VehicleType         38154\n",
      "RegistrationYear      971\n",
      "Gearbox             20512\n",
      "Power                 971\n",
      "Model               20386\n",
      "Kilometer             971\n",
      "FuelType            33536\n",
      "Brand                 971\n",
      "NotRepaired         71647\n",
      "NumberOfPictures      971\n",
      "dtype: int64\n"
     ]
    }
   ],
   "source": [
    "print(df.isna().sum())"
   ]
  },
  {
   "cell_type": "markdown",
   "metadata": {},
   "source": [
    "<a id='shag_1_1'></a>"
   ]
  },
  {
   "cell_type": "markdown",
   "metadata": {},
   "source": [
    "Пропущенные значения 'VehicleType', 'Gearbox', 'FuelType' заполним в зависимости от самых распространенных значений для соответствующих моделей авто. Аналогично заполним нулевые значения 'Power'.\n",
    "Пропущенные значения 'Model' придется удалить, т.к. от модели может очень сильно зависеть цена, и неверное заполнение значений может сильно ухудшить \n",
    "Пропущенные значения NotRepaired заполним в соответствующей вероятности от значения в общей выборке."
   ]
  },
  {
   "cell_type": "code",
   "execution_count": 15,
   "metadata": {},
   "outputs": [
    {
     "data": {
      "text/html": [
       "<div>\n",
       "<style scoped>\n",
       "    .dataframe tbody tr th:only-of-type {\n",
       "        vertical-align: middle;\n",
       "    }\n",
       "\n",
       "    .dataframe tbody tr th {\n",
       "        vertical-align: top;\n",
       "    }\n",
       "\n",
       "    .dataframe thead th {\n",
       "        text-align: right;\n",
       "    }\n",
       "</style>\n",
       "<table border=\"1\" class=\"dataframe\">\n",
       "  <thead>\n",
       "    <tr style=\"text-align: right;\">\n",
       "      <th></th>\n",
       "      <th>Price</th>\n",
       "      <th>VehicleType</th>\n",
       "      <th>RegistrationYear</th>\n",
       "      <th>Gearbox</th>\n",
       "      <th>Power</th>\n",
       "      <th>Model</th>\n",
       "      <th>Kilometer</th>\n",
       "      <th>FuelType</th>\n",
       "      <th>Brand</th>\n",
       "      <th>NotRepaired</th>\n",
       "      <th>NumberOfPictures</th>\n",
       "    </tr>\n",
       "  </thead>\n",
       "  <tbody>\n",
       "    <tr>\n",
       "      <td>0</td>\n",
       "      <td>480.0</td>\n",
       "      <td>NaN</td>\n",
       "      <td>1993.0</td>\n",
       "      <td>manual</td>\n",
       "      <td>0.0</td>\n",
       "      <td>golf</td>\n",
       "      <td>150000.0</td>\n",
       "      <td>petrol</td>\n",
       "      <td>volkswagen</td>\n",
       "      <td>NaN</td>\n",
       "      <td>0.0</td>\n",
       "    </tr>\n",
       "    <tr>\n",
       "      <td>1</td>\n",
       "      <td>18300.0</td>\n",
       "      <td>coupe</td>\n",
       "      <td>2011.0</td>\n",
       "      <td>manual</td>\n",
       "      <td>190.0</td>\n",
       "      <td>NaN</td>\n",
       "      <td>125000.0</td>\n",
       "      <td>gasoline</td>\n",
       "      <td>audi</td>\n",
       "      <td>yes</td>\n",
       "      <td>0.0</td>\n",
       "    </tr>\n",
       "    <tr>\n",
       "      <td>2</td>\n",
       "      <td>9800.0</td>\n",
       "      <td>suv</td>\n",
       "      <td>2004.0</td>\n",
       "      <td>auto</td>\n",
       "      <td>163.0</td>\n",
       "      <td>grand</td>\n",
       "      <td>125000.0</td>\n",
       "      <td>gasoline</td>\n",
       "      <td>jeep</td>\n",
       "      <td>NaN</td>\n",
       "      <td>0.0</td>\n",
       "    </tr>\n",
       "    <tr>\n",
       "      <td>3</td>\n",
       "      <td>1500.0</td>\n",
       "      <td>small</td>\n",
       "      <td>2001.0</td>\n",
       "      <td>manual</td>\n",
       "      <td>75.0</td>\n",
       "      <td>golf</td>\n",
       "      <td>150000.0</td>\n",
       "      <td>petrol</td>\n",
       "      <td>volkswagen</td>\n",
       "      <td>no</td>\n",
       "      <td>0.0</td>\n",
       "    </tr>\n",
       "    <tr>\n",
       "      <td>4</td>\n",
       "      <td>3600.0</td>\n",
       "      <td>small</td>\n",
       "      <td>2008.0</td>\n",
       "      <td>manual</td>\n",
       "      <td>69.0</td>\n",
       "      <td>fabia</td>\n",
       "      <td>90000.0</td>\n",
       "      <td>gasoline</td>\n",
       "      <td>skoda</td>\n",
       "      <td>no</td>\n",
       "      <td>0.0</td>\n",
       "    </tr>\n",
       "  </tbody>\n",
       "</table>\n",
       "</div>"
      ],
      "text/plain": [
       "     Price VehicleType  RegistrationYear Gearbox  Power  Model  Kilometer  \\\n",
       "0    480.0         NaN            1993.0  manual    0.0   golf   150000.0   \n",
       "1  18300.0       coupe            2011.0  manual  190.0    NaN   125000.0   \n",
       "2   9800.0         suv            2004.0    auto  163.0  grand   125000.0   \n",
       "3   1500.0       small            2001.0  manual   75.0   golf   150000.0   \n",
       "4   3600.0       small            2008.0  manual   69.0  fabia    90000.0   \n",
       "\n",
       "   FuelType       Brand NotRepaired  NumberOfPictures  \n",
       "0    petrol  volkswagen         NaN               0.0  \n",
       "1  gasoline        audi         yes               0.0  \n",
       "2  gasoline        jeep         NaN               0.0  \n",
       "3    petrol  volkswagen          no               0.0  \n",
       "4  gasoline       skoda          no               0.0  "
      ]
     },
     "metadata": {},
     "output_type": "display_data"
    }
   ],
   "source": [
    "display(df.head())"
   ]
  },
  {
   "cell_type": "markdown",
   "metadata": {},
   "source": [
    "Заполним пропуски"
   ]
  },
  {
   "cell_type": "code",
   "execution_count": 16,
   "metadata": {},
   "outputs": [
    {
     "data": {
      "text/html": [
       "<div>\n",
       "<style scoped>\n",
       "    .dataframe tbody tr th:only-of-type {\n",
       "        vertical-align: middle;\n",
       "    }\n",
       "\n",
       "    .dataframe tbody tr th {\n",
       "        vertical-align: top;\n",
       "    }\n",
       "\n",
       "    .dataframe thead th {\n",
       "        text-align: right;\n",
       "    }\n",
       "</style>\n",
       "<table border=\"1\" class=\"dataframe\">\n",
       "  <thead>\n",
       "    <tr style=\"text-align: right;\">\n",
       "      <th></th>\n",
       "      <th>Price</th>\n",
       "      <th>VehicleType</th>\n",
       "      <th>RegistrationYear</th>\n",
       "      <th>Gearbox</th>\n",
       "      <th>Power</th>\n",
       "      <th>Model</th>\n",
       "      <th>Kilometer</th>\n",
       "      <th>FuelType</th>\n",
       "      <th>Brand</th>\n",
       "      <th>NotRepaired</th>\n",
       "      <th>NumberOfPictures</th>\n",
       "    </tr>\n",
       "  </thead>\n",
       "  <tbody>\n",
       "    <tr>\n",
       "      <td>0</td>\n",
       "      <td>480.0</td>\n",
       "      <td>NaN</td>\n",
       "      <td>1993.0</td>\n",
       "      <td>manual</td>\n",
       "      <td>0.0</td>\n",
       "      <td>golf</td>\n",
       "      <td>150000.0</td>\n",
       "      <td>petrol</td>\n",
       "      <td>volkswagen</td>\n",
       "      <td>NaN</td>\n",
       "      <td>0.0</td>\n",
       "    </tr>\n",
       "    <tr>\n",
       "      <td>1</td>\n",
       "      <td>18300.0</td>\n",
       "      <td>coupe</td>\n",
       "      <td>2011.0</td>\n",
       "      <td>manual</td>\n",
       "      <td>190.0</td>\n",
       "      <td>NaN</td>\n",
       "      <td>125000.0</td>\n",
       "      <td>gasoline</td>\n",
       "      <td>audi</td>\n",
       "      <td>yes</td>\n",
       "      <td>0.0</td>\n",
       "    </tr>\n",
       "    <tr>\n",
       "      <td>2</td>\n",
       "      <td>9800.0</td>\n",
       "      <td>suv</td>\n",
       "      <td>2004.0</td>\n",
       "      <td>auto</td>\n",
       "      <td>163.0</td>\n",
       "      <td>grand</td>\n",
       "      <td>125000.0</td>\n",
       "      <td>gasoline</td>\n",
       "      <td>jeep</td>\n",
       "      <td>NaN</td>\n",
       "      <td>0.0</td>\n",
       "    </tr>\n",
       "    <tr>\n",
       "      <td>3</td>\n",
       "      <td>1500.0</td>\n",
       "      <td>small</td>\n",
       "      <td>2001.0</td>\n",
       "      <td>manual</td>\n",
       "      <td>75.0</td>\n",
       "      <td>golf</td>\n",
       "      <td>150000.0</td>\n",
       "      <td>petrol</td>\n",
       "      <td>volkswagen</td>\n",
       "      <td>no</td>\n",
       "      <td>0.0</td>\n",
       "    </tr>\n",
       "    <tr>\n",
       "      <td>4</td>\n",
       "      <td>3600.0</td>\n",
       "      <td>small</td>\n",
       "      <td>2008.0</td>\n",
       "      <td>manual</td>\n",
       "      <td>69.0</td>\n",
       "      <td>fabia</td>\n",
       "      <td>90000.0</td>\n",
       "      <td>gasoline</td>\n",
       "      <td>skoda</td>\n",
       "      <td>no</td>\n",
       "      <td>0.0</td>\n",
       "    </tr>\n",
       "    <tr>\n",
       "      <td>5</td>\n",
       "      <td>650.0</td>\n",
       "      <td>sedan</td>\n",
       "      <td>1995.0</td>\n",
       "      <td>manual</td>\n",
       "      <td>102.0</td>\n",
       "      <td>3er</td>\n",
       "      <td>150000.0</td>\n",
       "      <td>petrol</td>\n",
       "      <td>bmw</td>\n",
       "      <td>yes</td>\n",
       "      <td>0.0</td>\n",
       "    </tr>\n",
       "    <tr>\n",
       "      <td>6</td>\n",
       "      <td>2200.0</td>\n",
       "      <td>convertible</td>\n",
       "      <td>2004.0</td>\n",
       "      <td>manual</td>\n",
       "      <td>109.0</td>\n",
       "      <td>2_reihe</td>\n",
       "      <td>150000.0</td>\n",
       "      <td>petrol</td>\n",
       "      <td>peugeot</td>\n",
       "      <td>no</td>\n",
       "      <td>0.0</td>\n",
       "    </tr>\n",
       "    <tr>\n",
       "      <td>7</td>\n",
       "      <td>0.0</td>\n",
       "      <td>sedan</td>\n",
       "      <td>1980.0</td>\n",
       "      <td>manual</td>\n",
       "      <td>50.0</td>\n",
       "      <td>other</td>\n",
       "      <td>40000.0</td>\n",
       "      <td>petrol</td>\n",
       "      <td>volkswagen</td>\n",
       "      <td>no</td>\n",
       "      <td>0.0</td>\n",
       "    </tr>\n",
       "    <tr>\n",
       "      <td>8</td>\n",
       "      <td>14500.0</td>\n",
       "      <td>bus</td>\n",
       "      <td>2014.0</td>\n",
       "      <td>manual</td>\n",
       "      <td>125.0</td>\n",
       "      <td>c_max</td>\n",
       "      <td>30000.0</td>\n",
       "      <td>petrol</td>\n",
       "      <td>ford</td>\n",
       "      <td>NaN</td>\n",
       "      <td>0.0</td>\n",
       "    </tr>\n",
       "    <tr>\n",
       "      <td>9</td>\n",
       "      <td>999.0</td>\n",
       "      <td>small</td>\n",
       "      <td>1998.0</td>\n",
       "      <td>manual</td>\n",
       "      <td>101.0</td>\n",
       "      <td>golf</td>\n",
       "      <td>150000.0</td>\n",
       "      <td>NaN</td>\n",
       "      <td>volkswagen</td>\n",
       "      <td>NaN</td>\n",
       "      <td>0.0</td>\n",
       "    </tr>\n",
       "    <tr>\n",
       "      <td>10</td>\n",
       "      <td>2000.0</td>\n",
       "      <td>sedan</td>\n",
       "      <td>2004.0</td>\n",
       "      <td>manual</td>\n",
       "      <td>105.0</td>\n",
       "      <td>3_reihe</td>\n",
       "      <td>150000.0</td>\n",
       "      <td>petrol</td>\n",
       "      <td>mazda</td>\n",
       "      <td>no</td>\n",
       "      <td>0.0</td>\n",
       "    </tr>\n",
       "    <tr>\n",
       "      <td>11</td>\n",
       "      <td>2799.0</td>\n",
       "      <td>wagon</td>\n",
       "      <td>2005.0</td>\n",
       "      <td>manual</td>\n",
       "      <td>140.0</td>\n",
       "      <td>passat</td>\n",
       "      <td>150000.0</td>\n",
       "      <td>gasoline</td>\n",
       "      <td>volkswagen</td>\n",
       "      <td>yes</td>\n",
       "      <td>0.0</td>\n",
       "    </tr>\n",
       "    <tr>\n",
       "      <td>12</td>\n",
       "      <td>999.0</td>\n",
       "      <td>wagon</td>\n",
       "      <td>1995.0</td>\n",
       "      <td>manual</td>\n",
       "      <td>115.0</td>\n",
       "      <td>passat</td>\n",
       "      <td>150000.0</td>\n",
       "      <td>petrol</td>\n",
       "      <td>volkswagen</td>\n",
       "      <td>NaN</td>\n",
       "      <td>0.0</td>\n",
       "    </tr>\n",
       "    <tr>\n",
       "      <td>13</td>\n",
       "      <td>2500.0</td>\n",
       "      <td>wagon</td>\n",
       "      <td>2004.0</td>\n",
       "      <td>manual</td>\n",
       "      <td>131.0</td>\n",
       "      <td>passat</td>\n",
       "      <td>150000.0</td>\n",
       "      <td>NaN</td>\n",
       "      <td>volkswagen</td>\n",
       "      <td>no</td>\n",
       "      <td>0.0</td>\n",
       "    </tr>\n",
       "    <tr>\n",
       "      <td>14</td>\n",
       "      <td>17999.0</td>\n",
       "      <td>suv</td>\n",
       "      <td>2011.0</td>\n",
       "      <td>manual</td>\n",
       "      <td>190.0</td>\n",
       "      <td>navara</td>\n",
       "      <td>70000.0</td>\n",
       "      <td>gasoline</td>\n",
       "      <td>nissan</td>\n",
       "      <td>no</td>\n",
       "      <td>0.0</td>\n",
       "    </tr>\n",
       "    <tr>\n",
       "      <td>15</td>\n",
       "      <td>NaN</td>\n",
       "      <td>NaN</td>\n",
       "      <td>NaN</td>\n",
       "      <td>NaN</td>\n",
       "      <td>NaN</td>\n",
       "      <td>NaN</td>\n",
       "      <td>NaN</td>\n",
       "      <td>NaN</td>\n",
       "      <td>NaN</td>\n",
       "      <td>NaN</td>\n",
       "      <td>NaN</td>\n",
       "    </tr>\n",
       "  </tbody>\n",
       "</table>\n",
       "</div>"
      ],
      "text/plain": [
       "      Price  VehicleType  RegistrationYear Gearbox  Power    Model  Kilometer  \\\n",
       "0     480.0          NaN            1993.0  manual    0.0     golf   150000.0   \n",
       "1   18300.0        coupe            2011.0  manual  190.0      NaN   125000.0   \n",
       "2    9800.0          suv            2004.0    auto  163.0    grand   125000.0   \n",
       "3    1500.0        small            2001.0  manual   75.0     golf   150000.0   \n",
       "4    3600.0        small            2008.0  manual   69.0    fabia    90000.0   \n",
       "5     650.0        sedan            1995.0  manual  102.0      3er   150000.0   \n",
       "6    2200.0  convertible            2004.0  manual  109.0  2_reihe   150000.0   \n",
       "7       0.0        sedan            1980.0  manual   50.0    other    40000.0   \n",
       "8   14500.0          bus            2014.0  manual  125.0    c_max    30000.0   \n",
       "9     999.0        small            1998.0  manual  101.0     golf   150000.0   \n",
       "10   2000.0        sedan            2004.0  manual  105.0  3_reihe   150000.0   \n",
       "11   2799.0        wagon            2005.0  manual  140.0   passat   150000.0   \n",
       "12    999.0        wagon            1995.0  manual  115.0   passat   150000.0   \n",
       "13   2500.0        wagon            2004.0  manual  131.0   passat   150000.0   \n",
       "14  17999.0          suv            2011.0  manual  190.0   navara    70000.0   \n",
       "15      NaN          NaN               NaN     NaN    NaN      NaN        NaN   \n",
       "\n",
       "    FuelType       Brand NotRepaired  NumberOfPictures  \n",
       "0     petrol  volkswagen         NaN               0.0  \n",
       "1   gasoline        audi         yes               0.0  \n",
       "2   gasoline        jeep         NaN               0.0  \n",
       "3     petrol  volkswagen          no               0.0  \n",
       "4   gasoline       skoda          no               0.0  \n",
       "5     petrol         bmw         yes               0.0  \n",
       "6     petrol     peugeot          no               0.0  \n",
       "7     petrol  volkswagen          no               0.0  \n",
       "8     petrol        ford         NaN               0.0  \n",
       "9        NaN  volkswagen         NaN               0.0  \n",
       "10    petrol       mazda          no               0.0  \n",
       "11  gasoline  volkswagen         yes               0.0  \n",
       "12    petrol  volkswagen         NaN               0.0  \n",
       "13       NaN  volkswagen          no               0.0  \n",
       "14  gasoline      nissan          no               0.0  \n",
       "15       NaN         NaN         NaN               NaN  "
      ]
     },
     "metadata": {},
     "output_type": "display_data"
    }
   ],
   "source": [
    "display(df.head(16))"
   ]
  },
  {
   "cell_type": "markdown",
   "metadata": {},
   "source": [
    "Пропущенные значения VehicleType,\tGearbox,\tPower\t заменим в зависимости от значения Model."
   ]
  },
  {
   "cell_type": "code",
   "execution_count": 17,
   "metadata": {},
   "outputs": [
    {
     "name": "stdout",
     "output_type": "stream",
     "text": [
      "count    353398.000000\n",
      "mean     128337.582556\n",
      "std       37731.707626\n",
      "min        5000.000000\n",
      "25%      125000.000000\n",
      "50%      150000.000000\n",
      "75%      150000.000000\n",
      "max      150000.000000\n",
      "Name: Kilometer, dtype: float64\n"
     ]
    }
   ],
   "source": [
    "print(df['Kilometer'].describe())"
   ]
  },
  {
   "cell_type": "code",
   "execution_count": 18,
   "metadata": {},
   "outputs": [],
   "source": [
    "median = df['Kilometer'].median()\n",
    "df['Kilometer'].fillna(median, inplace=True)"
   ]
  },
  {
   "cell_type": "code",
   "execution_count": 19,
   "metadata": {},
   "outputs": [
    {
     "name": "stdout",
     "output_type": "stream",
     "text": [
      "                    Model  VehicleType  Power Gearbox  FuelType  counts\n",
      "11930                golf        sedan   75.0  manual    petrol    3005\n",
      "19118                polo        small   60.0  manual    petrol    2077\n",
      "9093                corsa        small   60.0  manual    petrol    1514\n",
      "22121              twingo        small   58.0  manual    petrol    1476\n",
      "10513              fiesta        small   60.0  manual    petrol    1139\n",
      "...                   ...          ...    ...     ...       ...     ...\n",
      "20100              samara        wagon    0.0  manual    petrol       2\n",
      "19683  range_rover_evoque          suv  296.0    auto  gasoline       2\n",
      "20452             serie_1        wagon    0.0  manual  gasoline       1\n",
      "19691          rangerover          suv    0.0  manual  gasoline       1\n",
      "12588                  i3  convertible  170.0    auto    petrol       1\n",
      "\n",
      "[250 rows x 6 columns]\n"
     ]
    }
   ],
   "source": [
    "df_select = df.groupby(['Model','VehicleType','Power','Gearbox','FuelType']).size().reset_index(name='counts').sort_values(by='counts',ascending=False)\n",
    "df_select.rename_axis('index').reset_index()\n",
    "df_select = df_select.drop_duplicates(['Model'])\n",
    "print(df_select)"
   ]
  },
  {
   "cell_type": "code",
   "execution_count": 20,
   "metadata": {},
   "outputs": [
    {
     "name": "stdout",
     "output_type": "stream",
     "text": [
      "['golf', 'polo', 'corsa', 'twingo', 'fiesta', 'punto', 'ka', 'lupo', 'passat', 'clio', 'transporter', '3er', '2_reihe', 'c_klasse', 'touran', 'astra', 'focus', 'a4', 'arosa', 'fortwo', '5er', '1er', 'a3', 'fox', 'vectra', 'mx_reihe', '80', 'a6', 'a_klasse', 'ibiza', 'mondeo', 'other', '500', '1_reihe', 'aygo', 'cooper', 'micra', 'zafira', 'seicento', 'one', 'c1', 'e_klasse', 'sharan', 'slk', 'octavia', '3_reihe', 'scenic', 'swift', 'clk', 'a1', 'fabia', 'picanto', 'm_klasse', 'tiguan', 'tigra', 'leon', 'panda', 'omega', 'civic', 'up', 'scirocco', 'yaris', 'galaxy', 'tt', 's_max', 'caddy', 'colt', 'meriva', 'a2', 'kangoo', 'matiz', 'touareg', 'x_reihe', 'i_reihe', 'kuga', 'insignia', 'megane', 'b_klasse', 'c2', 'sandero', 'eos', '5_reihe', '147', 'berlingo', 'escort', 'tucson', 'stilo', 'alhambra', 'carisma', 'bora', 'a8', 'c_max', 'avensis', 'laguna', 'v50', 'sprinter', '6_reihe', 'beetle', 'roadster', 'jimny', 'agila', 'c3', 'v40', 'getz', 'x_trail', 'z_reihe', 'ypsilon', 'vito', 'xc_reihe', 'transit', '7er', 'cayenne', 'viano', 'corolla', 'grand', 'sorento', 'espace', 'santa', 'forfour', '601', 'sl', 'carnival', 'jazz', 'fusion', 'vivaro', 'signum', 'a5', 'modus', 's_klasse', 'duster', 'rav', 'rx_reihe', 'cuore', '156', 'logan', 'cl', 'v70', '4_reihe', 'cordoba', 'combo', 'roomster', 'spark', 'verso', 'niva', 'toledo', 'qashqai', 'altea', 'ptcruiser', 'q7', 'almera', 'mii', 'rio', 'cr_reihe', 'phaeton', '159', 'primera', 'citigo', 'boxster', '300c', 'spider', 'superb', '850', 'note', 'kaefer', 'defender', 'exeo', 'sportage', 'yeti', '100', 'freelander', 'ceed', 'antara', 'calibra', 'c5', 'v_klasse', 'q5', 'doblo', 'range_rover_sport', 'jetta', 'captiva', 'voyager', 'ducato', 's60', 's_type', 'bravo', 'auris', '90', 'accord', 'justy', '6er', 'kadett', 'cx_reihe', 'discovery', 'juke', 'glk', 'c4', 'crossfire', 'cc', 'forester', 'pajero', 'm_reihe', 'clubman', 'galant', 'aveo', 'c_reihe', 'sirion', 'legacy', 'r19', 'navara', 'wrangler', 'impreza', 'lancer', 'lodgy', 'cherokee', 'kalos', 'range_rover', 'lanos', 'x_type', '911', 'amarok', 'g_klasse', 'nubira', 'terios', '900', 'mustang', 'outlander', 'move', 'gl', 'lybra', 'materia', 'v60', 'croma', '145', 'q3', 'elefantino', 'musa', 'b_max', 'kappa', '9000', '200', 'delta', 'charade', 'kalina', 'serie_2', 'serie_3', 'samara', 'range_rover_evoque', 'serie_1', 'rangerover', 'i3']\n"
     ]
    }
   ],
   "source": [
    "model_list = list(df_select['Model'])\n",
    "print(model_list)"
   ]
  },
  {
   "cell_type": "code",
   "execution_count": 21,
   "metadata": {},
   "outputs": [],
   "source": [
    "change_list = ['VehicleType', 'Gearbox', 'FuelType']"
   ]
  },
  {
   "cell_type": "code",
   "execution_count": 22,
   "metadata": {},
   "outputs": [],
   "source": [
    "for column_name in change_list:\n",
    "    for model in model_list:\n",
    "        result_df = df_select.loc[df_select['Model']==model,column_name].reset_index()\n",
    "        df.loc[df[column_name].isna()&(df['Model']==model),column_name]=result_df[column_name][0]"
   ]
  },
  {
   "cell_type": "code",
   "execution_count": 23,
   "metadata": {},
   "outputs": [],
   "source": [
    "for model in model_list:\n",
    "    result_df = df_select.loc[df_select['Model']==model,'Power'].reset_index()\n",
    "    df.loc[(df['Power']==0)&(df['Model']==model),'Power']=result_df['Power'][0]"
   ]
  },
  {
   "cell_type": "code",
   "execution_count": 24,
   "metadata": {},
   "outputs": [
    {
     "name": "stdout",
     "output_type": "stream",
     "text": [
      "no     246789\n",
      "yes     35933\n",
      "Name: NotRepaired, dtype: int64\n"
     ]
    }
   ],
   "source": [
    "print(df['NotRepaired'].value_counts())"
   ]
  },
  {
   "cell_type": "markdown",
   "metadata": {},
   "source": [
    "Подавляющее большинство значений NotRepaired = no. Заполним соответствующе."
   ]
  },
  {
   "cell_type": "code",
   "execution_count": 25,
   "metadata": {},
   "outputs": [],
   "source": [
    "df.loc[df['NotRepaired'].isna(),'NotRepaired']='no'"
   ]
  },
  {
   "cell_type": "code",
   "execution_count": 26,
   "metadata": {},
   "outputs": [
    {
     "name": "stdout",
     "output_type": "stream",
     "text": [
      "<class 'pandas.core.frame.DataFrame'>\n",
      "Int64Index: 333983 entries, 0 to 354368\n",
      "Data columns (total 11 columns):\n",
      "Price               333983 non-null float64\n",
      "VehicleType         333983 non-null object\n",
      "RegistrationYear    333983 non-null float64\n",
      "Gearbox             333983 non-null object\n",
      "Power               333983 non-null float64\n",
      "Model               333983 non-null object\n",
      "Kilometer           333983 non-null float64\n",
      "FuelType            333983 non-null object\n",
      "Brand               333983 non-null object\n",
      "NotRepaired         333983 non-null object\n",
      "NumberOfPictures    333983 non-null float64\n",
      "dtypes: float64(5), object(6)\n",
      "memory usage: 30.6+ MB\n",
      "None\n",
      "         Price  VehicleType  RegistrationYear Gearbox  Power        Model  \\\n",
      "0        480.0        sedan            1993.0  manual   75.0         golf   \n",
      "2       9800.0          suv            2004.0    auto  163.0        grand   \n",
      "3       1500.0        small            2001.0  manual   75.0         golf   \n",
      "4       3600.0        small            2008.0  manual   69.0        fabia   \n",
      "5        650.0        sedan            1995.0  manual  102.0          3er   \n",
      "...        ...          ...               ...     ...    ...          ...   \n",
      "354363  1150.0          bus            2000.0  manual  125.0       zafira   \n",
      "354364     0.0        small            2005.0  manual   75.0         colt   \n",
      "354366  1199.0  convertible            2000.0    auto  101.0       fortwo   \n",
      "354367  9200.0          bus            1996.0  manual  102.0  transporter   \n",
      "354368  3400.0        wagon            2002.0  manual  100.0         golf   \n",
      "\n",
      "        Kilometer  FuelType       Brand NotRepaired  NumberOfPictures  \n",
      "0        150000.0    petrol  volkswagen          no               0.0  \n",
      "2        125000.0  gasoline        jeep          no               0.0  \n",
      "3        150000.0    petrol  volkswagen          no               0.0  \n",
      "4         90000.0  gasoline       skoda          no               0.0  \n",
      "5        150000.0    petrol         bmw         yes               0.0  \n",
      "...           ...       ...         ...         ...               ...  \n",
      "354363   150000.0    petrol        opel          no               0.0  \n",
      "354364   150000.0    petrol  mitsubishi         yes               0.0  \n",
      "354366   125000.0    petrol       smart          no               0.0  \n",
      "354367   150000.0  gasoline  volkswagen          no               0.0  \n",
      "354368   150000.0  gasoline  volkswagen          no               0.0  \n",
      "\n",
      "[333983 rows x 11 columns]\n"
     ]
    }
   ],
   "source": [
    "df=df.dropna()\n",
    "print(df.info())\n",
    "print(df)"
   ]
  },
  {
   "cell_type": "markdown",
   "metadata": {},
   "source": [
    "<a id='shag_1_2'></a>"
   ]
  },
  {
   "cell_type": "markdown",
   "metadata": {},
   "source": [
    "Сделаем масштабирование. Обработка ОНЕ + для Model и Brand, у которых много значений, попробуем обработать ordinal-ом. "
   ]
  },
  {
   "cell_type": "code",
   "execution_count": 27,
   "metadata": {},
   "outputs": [
    {
     "name": "stdout",
     "output_type": "stream",
     "text": [
      "Price               float64\n",
      "VehicleType          object\n",
      "RegistrationYear    float64\n",
      "Gearbox              object\n",
      "Power               float64\n",
      "Model                object\n",
      "Kilometer           float64\n",
      "FuelType             object\n",
      "Brand                object\n",
      "NotRepaired          object\n",
      "NumberOfPictures    float64\n",
      "dtype: object\n"
     ]
    }
   ],
   "source": [
    "print(df.dtypes)"
   ]
  },
  {
   "cell_type": "code",
   "execution_count": 28,
   "metadata": {},
   "outputs": [
    {
     "name": "stdout",
     "output_type": "stream",
     "text": [
      "sedan          100703\n",
      "small           87098\n",
      "wagon           65786\n",
      "bus             30858\n",
      "convertible     19541\n",
      "coupe           15574\n",
      "suv             11652\n",
      "other            2771\n",
      "Name: VehicleType, dtype: int64\n"
     ]
    }
   ],
   "source": [
    "print(df['VehicleType'].value_counts())"
   ]
  },
  {
   "cell_type": "code",
   "execution_count": 29,
   "metadata": {},
   "outputs": [
    {
     "name": "stdout",
     "output_type": "stream",
     "text": [
      "volkswagen       73386\n",
      "opel             37957\n",
      "bmw              34915\n",
      "mercedes_benz    30773\n",
      "audi             28129\n",
      "ford             24112\n",
      "renault          17162\n",
      "peugeot          10095\n",
      "fiat              9111\n",
      "seat              6661\n",
      "skoda             5353\n",
      "mazda             5261\n",
      "smart             4973\n",
      "citroen           4873\n",
      "nissan            4729\n",
      "toyota            4444\n",
      "hyundai           3356\n",
      "mini              3136\n",
      "volvo             3094\n",
      "mitsubishi        2856\n",
      "honda             2660\n",
      "kia               2350\n",
      "suzuki            2184\n",
      "alfa_romeo        2170\n",
      "chevrolet         1626\n",
      "chrysler          1344\n",
      "dacia              877\n",
      "daihatsu           767\n",
      "subaru             716\n",
      "porsche            704\n",
      "jeep               638\n",
      "land_rover         531\n",
      "saab               509\n",
      "daewoo             495\n",
      "trabant            488\n",
      "jaguar             488\n",
      "lancia             446\n",
      "rover              404\n",
      "lada               210\n",
      "Name: Brand, dtype: int64\n"
     ]
    }
   ],
   "source": [
    "print(df['Brand'].value_counts())"
   ]
  },
  {
   "cell_type": "code",
   "execution_count": 30,
   "metadata": {},
   "outputs": [],
   "source": [
    "ohe_columns = ['VehicleType', 'Gearbox', 'FuelType', 'NotRepaired']\n",
    "ord_columns = ['Model', 'Brand']\n"
   ]
  },
  {
   "cell_type": "code",
   "execution_count": 31,
   "metadata": {},
   "outputs": [
    {
     "data": {
      "text/html": [
       "<div>\n",
       "<style scoped>\n",
       "    .dataframe tbody tr th:only-of-type {\n",
       "        vertical-align: middle;\n",
       "    }\n",
       "\n",
       "    .dataframe tbody tr th {\n",
       "        vertical-align: top;\n",
       "    }\n",
       "\n",
       "    .dataframe thead th {\n",
       "        text-align: right;\n",
       "    }\n",
       "</style>\n",
       "<table border=\"1\" class=\"dataframe\">\n",
       "  <thead>\n",
       "    <tr style=\"text-align: right;\">\n",
       "      <th></th>\n",
       "      <th>Price</th>\n",
       "      <th>VehicleType</th>\n",
       "      <th>RegistrationYear</th>\n",
       "      <th>Gearbox</th>\n",
       "      <th>Power</th>\n",
       "      <th>Model</th>\n",
       "      <th>Kilometer</th>\n",
       "      <th>FuelType</th>\n",
       "      <th>Brand</th>\n",
       "      <th>NotRepaired</th>\n",
       "      <th>NumberOfPictures</th>\n",
       "    </tr>\n",
       "  </thead>\n",
       "  <tbody>\n",
       "    <tr>\n",
       "      <td>0</td>\n",
       "      <td>480.0</td>\n",
       "      <td>sedan</td>\n",
       "      <td>1993.0</td>\n",
       "      <td>manual</td>\n",
       "      <td>75.0</td>\n",
       "      <td>golf</td>\n",
       "      <td>150000.0</td>\n",
       "      <td>petrol</td>\n",
       "      <td>volkswagen</td>\n",
       "      <td>no</td>\n",
       "      <td>0.0</td>\n",
       "    </tr>\n",
       "    <tr>\n",
       "      <td>2</td>\n",
       "      <td>9800.0</td>\n",
       "      <td>suv</td>\n",
       "      <td>2004.0</td>\n",
       "      <td>auto</td>\n",
       "      <td>163.0</td>\n",
       "      <td>grand</td>\n",
       "      <td>125000.0</td>\n",
       "      <td>gasoline</td>\n",
       "      <td>jeep</td>\n",
       "      <td>no</td>\n",
       "      <td>0.0</td>\n",
       "    </tr>\n",
       "    <tr>\n",
       "      <td>3</td>\n",
       "      <td>1500.0</td>\n",
       "      <td>small</td>\n",
       "      <td>2001.0</td>\n",
       "      <td>manual</td>\n",
       "      <td>75.0</td>\n",
       "      <td>golf</td>\n",
       "      <td>150000.0</td>\n",
       "      <td>petrol</td>\n",
       "      <td>volkswagen</td>\n",
       "      <td>no</td>\n",
       "      <td>0.0</td>\n",
       "    </tr>\n",
       "    <tr>\n",
       "      <td>4</td>\n",
       "      <td>3600.0</td>\n",
       "      <td>small</td>\n",
       "      <td>2008.0</td>\n",
       "      <td>manual</td>\n",
       "      <td>69.0</td>\n",
       "      <td>fabia</td>\n",
       "      <td>90000.0</td>\n",
       "      <td>gasoline</td>\n",
       "      <td>skoda</td>\n",
       "      <td>no</td>\n",
       "      <td>0.0</td>\n",
       "    </tr>\n",
       "    <tr>\n",
       "      <td>5</td>\n",
       "      <td>650.0</td>\n",
       "      <td>sedan</td>\n",
       "      <td>1995.0</td>\n",
       "      <td>manual</td>\n",
       "      <td>102.0</td>\n",
       "      <td>3er</td>\n",
       "      <td>150000.0</td>\n",
       "      <td>petrol</td>\n",
       "      <td>bmw</td>\n",
       "      <td>yes</td>\n",
       "      <td>0.0</td>\n",
       "    </tr>\n",
       "  </tbody>\n",
       "</table>\n",
       "</div>"
      ],
      "text/plain": [
       "    Price VehicleType  RegistrationYear Gearbox  Power  Model  Kilometer  \\\n",
       "0   480.0       sedan            1993.0  manual   75.0   golf   150000.0   \n",
       "2  9800.0         suv            2004.0    auto  163.0  grand   125000.0   \n",
       "3  1500.0       small            2001.0  manual   75.0   golf   150000.0   \n",
       "4  3600.0       small            2008.0  manual   69.0  fabia    90000.0   \n",
       "5   650.0       sedan            1995.0  manual  102.0    3er   150000.0   \n",
       "\n",
       "   FuelType       Brand NotRepaired  NumberOfPictures  \n",
       "0    petrol  volkswagen          no               0.0  \n",
       "2  gasoline        jeep          no               0.0  \n",
       "3    petrol  volkswagen          no               0.0  \n",
       "4  gasoline       skoda          no               0.0  \n",
       "5    petrol         bmw         yes               0.0  "
      ]
     },
     "metadata": {},
     "output_type": "display_data"
    },
    {
     "name": "stdout",
     "output_type": "stream",
     "text": [
      "(333983, 11)\n"
     ]
    },
    {
     "data": {
      "text/html": [
       "<div>\n",
       "<style scoped>\n",
       "    .dataframe tbody tr th:only-of-type {\n",
       "        vertical-align: middle;\n",
       "    }\n",
       "\n",
       "    .dataframe tbody tr th {\n",
       "        vertical-align: top;\n",
       "    }\n",
       "\n",
       "    .dataframe thead th {\n",
       "        text-align: right;\n",
       "    }\n",
       "</style>\n",
       "<table border=\"1\" class=\"dataframe\">\n",
       "  <thead>\n",
       "    <tr style=\"text-align: right;\">\n",
       "      <th></th>\n",
       "      <th>VehicleType_convertible</th>\n",
       "      <th>VehicleType_coupe</th>\n",
       "      <th>VehicleType_other</th>\n",
       "      <th>VehicleType_sedan</th>\n",
       "      <th>VehicleType_small</th>\n",
       "      <th>VehicleType_suv</th>\n",
       "      <th>VehicleType_wagon</th>\n",
       "      <th>Gearbox_manual</th>\n",
       "      <th>FuelType_electric</th>\n",
       "      <th>FuelType_gasoline</th>\n",
       "      <th>FuelType_hybrid</th>\n",
       "      <th>FuelType_lpg</th>\n",
       "      <th>FuelType_other</th>\n",
       "      <th>FuelType_petrol</th>\n",
       "      <th>NotRepaired_yes</th>\n",
       "    </tr>\n",
       "  </thead>\n",
       "  <tbody>\n",
       "    <tr>\n",
       "      <td>0</td>\n",
       "      <td>0</td>\n",
       "      <td>0</td>\n",
       "      <td>0</td>\n",
       "      <td>1</td>\n",
       "      <td>0</td>\n",
       "      <td>0</td>\n",
       "      <td>0</td>\n",
       "      <td>1</td>\n",
       "      <td>0</td>\n",
       "      <td>0</td>\n",
       "      <td>0</td>\n",
       "      <td>0</td>\n",
       "      <td>0</td>\n",
       "      <td>1</td>\n",
       "      <td>0</td>\n",
       "    </tr>\n",
       "    <tr>\n",
       "      <td>2</td>\n",
       "      <td>0</td>\n",
       "      <td>0</td>\n",
       "      <td>0</td>\n",
       "      <td>0</td>\n",
       "      <td>0</td>\n",
       "      <td>1</td>\n",
       "      <td>0</td>\n",
       "      <td>0</td>\n",
       "      <td>0</td>\n",
       "      <td>1</td>\n",
       "      <td>0</td>\n",
       "      <td>0</td>\n",
       "      <td>0</td>\n",
       "      <td>0</td>\n",
       "      <td>0</td>\n",
       "    </tr>\n",
       "    <tr>\n",
       "      <td>3</td>\n",
       "      <td>0</td>\n",
       "      <td>0</td>\n",
       "      <td>0</td>\n",
       "      <td>0</td>\n",
       "      <td>1</td>\n",
       "      <td>0</td>\n",
       "      <td>0</td>\n",
       "      <td>1</td>\n",
       "      <td>0</td>\n",
       "      <td>0</td>\n",
       "      <td>0</td>\n",
       "      <td>0</td>\n",
       "      <td>0</td>\n",
       "      <td>1</td>\n",
       "      <td>0</td>\n",
       "    </tr>\n",
       "    <tr>\n",
       "      <td>4</td>\n",
       "      <td>0</td>\n",
       "      <td>0</td>\n",
       "      <td>0</td>\n",
       "      <td>0</td>\n",
       "      <td>1</td>\n",
       "      <td>0</td>\n",
       "      <td>0</td>\n",
       "      <td>1</td>\n",
       "      <td>0</td>\n",
       "      <td>1</td>\n",
       "      <td>0</td>\n",
       "      <td>0</td>\n",
       "      <td>0</td>\n",
       "      <td>0</td>\n",
       "      <td>0</td>\n",
       "    </tr>\n",
       "    <tr>\n",
       "      <td>5</td>\n",
       "      <td>0</td>\n",
       "      <td>0</td>\n",
       "      <td>0</td>\n",
       "      <td>1</td>\n",
       "      <td>0</td>\n",
       "      <td>0</td>\n",
       "      <td>0</td>\n",
       "      <td>1</td>\n",
       "      <td>0</td>\n",
       "      <td>0</td>\n",
       "      <td>0</td>\n",
       "      <td>0</td>\n",
       "      <td>0</td>\n",
       "      <td>1</td>\n",
       "      <td>1</td>\n",
       "    </tr>\n",
       "  </tbody>\n",
       "</table>\n",
       "</div>"
      ],
      "text/plain": [
       "   VehicleType_convertible  VehicleType_coupe  VehicleType_other  \\\n",
       "0                        0                  0                  0   \n",
       "2                        0                  0                  0   \n",
       "3                        0                  0                  0   \n",
       "4                        0                  0                  0   \n",
       "5                        0                  0                  0   \n",
       "\n",
       "   VehicleType_sedan  VehicleType_small  VehicleType_suv  VehicleType_wagon  \\\n",
       "0                  1                  0                0                  0   \n",
       "2                  0                  0                1                  0   \n",
       "3                  0                  1                0                  0   \n",
       "4                  0                  1                0                  0   \n",
       "5                  1                  0                0                  0   \n",
       "\n",
       "   Gearbox_manual  FuelType_electric  FuelType_gasoline  FuelType_hybrid  \\\n",
       "0               1                  0                  0                0   \n",
       "2               0                  0                  1                0   \n",
       "3               1                  0                  0                0   \n",
       "4               1                  0                  1                0   \n",
       "5               1                  0                  0                0   \n",
       "\n",
       "   FuelType_lpg  FuelType_other  FuelType_petrol  NotRepaired_yes  \n",
       "0             0               0                1                0  \n",
       "2             0               0                0                0  \n",
       "3             0               0                1                0  \n",
       "4             0               0                0                0  \n",
       "5             0               0                1                1  "
      ]
     },
     "metadata": {},
     "output_type": "display_data"
    },
    {
     "name": "stdout",
     "output_type": "stream",
     "text": [
      "(333983, 15)\n"
     ]
    }
   ],
   "source": [
    "df_ohe = pd.get_dummies(df.loc[:, ohe_columns], drop_first=True)\n",
    "df_ohe = pd.get_dummies(df_ohe, drop_first=False)\n",
    "display(df.head())\n",
    "print(df.shape)\n",
    "display(df_ohe.head())\n",
    "print(df_ohe.shape)"
   ]
  },
  {
   "cell_type": "code",
   "execution_count": 32,
   "metadata": {},
   "outputs": [],
   "source": [
    "data2_ohe = pd.get_dummies(data2.loc[:, ohe_columns], drop_first=True)\n",
    "data2_ohe = pd.get_dummies(data2_ohe, drop_first=False)"
   ]
  },
  {
   "cell_type": "code",
   "execution_count": 33,
   "metadata": {},
   "outputs": [
    {
     "data": {
      "text/html": [
       "<div>\n",
       "<style scoped>\n",
       "    .dataframe tbody tr th:only-of-type {\n",
       "        vertical-align: middle;\n",
       "    }\n",
       "\n",
       "    .dataframe tbody tr th {\n",
       "        vertical-align: top;\n",
       "    }\n",
       "\n",
       "    .dataframe thead th {\n",
       "        text-align: right;\n",
       "    }\n",
       "</style>\n",
       "<table border=\"1\" class=\"dataframe\">\n",
       "  <thead>\n",
       "    <tr style=\"text-align: right;\">\n",
       "      <th></th>\n",
       "      <th>0</th>\n",
       "      <th>1</th>\n",
       "    </tr>\n",
       "  </thead>\n",
       "  <tbody>\n",
       "    <tr>\n",
       "      <td>0</td>\n",
       "      <td>116.0</td>\n",
       "      <td>37.0</td>\n",
       "    </tr>\n",
       "    <tr>\n",
       "      <td>1</td>\n",
       "      <td>117.0</td>\n",
       "      <td>14.0</td>\n",
       "    </tr>\n",
       "    <tr>\n",
       "      <td>2</td>\n",
       "      <td>116.0</td>\n",
       "      <td>37.0</td>\n",
       "    </tr>\n",
       "    <tr>\n",
       "      <td>3</td>\n",
       "      <td>101.0</td>\n",
       "      <td>31.0</td>\n",
       "    </tr>\n",
       "    <tr>\n",
       "      <td>4</td>\n",
       "      <td>11.0</td>\n",
       "      <td>2.0</td>\n",
       "    </tr>\n",
       "  </tbody>\n",
       "</table>\n",
       "</div>"
      ],
      "text/plain": [
       "       0     1\n",
       "0  116.0  37.0\n",
       "1  117.0  14.0\n",
       "2  116.0  37.0\n",
       "3  101.0  31.0\n",
       "4   11.0   2.0"
      ]
     },
     "metadata": {},
     "output_type": "display_data"
    },
    {
     "name": "stdout",
     "output_type": "stream",
     "text": [
      "(333983, 2)\n"
     ]
    }
   ],
   "source": [
    "encoder = OrdinalEncoder()\n",
    "df_ord = pd.DataFrame(encoder.fit_transform(df.loc[:, ord_columns]), )\n",
    "display(df_ord.head())\n",
    "print(df_ord.shape)"
   ]
  },
  {
   "cell_type": "code",
   "execution_count": 34,
   "metadata": {},
   "outputs": [
    {
     "name": "stdout",
     "output_type": "stream",
     "text": [
      "       0     1\n",
      "0  116.0  37.0\n",
      "1  101.0  31.0\n",
      "2   11.0   2.0\n",
      "3    8.0  25.0\n",
      "4  166.0  37.0\n"
     ]
    }
   ],
   "source": [
    "encoder = OrdinalEncoder()\n",
    "data2_ord = pd.DataFrame(encoder.fit_transform(data2.loc[:, ord_columns]), )\n",
    "data2 = data2.drop(columns=['VehicleType', 'Gearbox', 'FuelType', 'NotRepaired','Model', 'Brand'])\n",
    "print(data2_ord.head())"
   ]
  },
  {
   "cell_type": "code",
   "execution_count": 35,
   "metadata": {
    "scrolled": true
   },
   "outputs": [
    {
     "name": "stdout",
     "output_type": "stream",
     "text": [
      "0    0\n",
      "1    0\n",
      "dtype: int64\n"
     ]
    }
   ],
   "source": [
    "print(df_ord.isnull().sum())"
   ]
  },
  {
   "cell_type": "code",
   "execution_count": 36,
   "metadata": {},
   "outputs": [
    {
     "data": {
      "text/html": [
       "<div>\n",
       "<style scoped>\n",
       "    .dataframe tbody tr th:only-of-type {\n",
       "        vertical-align: middle;\n",
       "    }\n",
       "\n",
       "    .dataframe tbody tr th {\n",
       "        vertical-align: top;\n",
       "    }\n",
       "\n",
       "    .dataframe thead th {\n",
       "        text-align: right;\n",
       "    }\n",
       "</style>\n",
       "<table border=\"1\" class=\"dataframe\">\n",
       "  <thead>\n",
       "    <tr style=\"text-align: right;\">\n",
       "      <th></th>\n",
       "      <th>Price</th>\n",
       "      <th>VehicleType</th>\n",
       "      <th>RegistrationYear</th>\n",
       "      <th>Gearbox</th>\n",
       "      <th>Power</th>\n",
       "      <th>Model</th>\n",
       "      <th>Kilometer</th>\n",
       "      <th>FuelType</th>\n",
       "      <th>Brand</th>\n",
       "      <th>NotRepaired</th>\n",
       "      <th>NumberOfPictures</th>\n",
       "    </tr>\n",
       "  </thead>\n",
       "  <tbody>\n",
       "    <tr>\n",
       "      <td>0</td>\n",
       "      <td>480.0</td>\n",
       "      <td>sedan</td>\n",
       "      <td>1993.0</td>\n",
       "      <td>manual</td>\n",
       "      <td>75.0</td>\n",
       "      <td>golf</td>\n",
       "      <td>150000.0</td>\n",
       "      <td>petrol</td>\n",
       "      <td>volkswagen</td>\n",
       "      <td>no</td>\n",
       "      <td>0.0</td>\n",
       "    </tr>\n",
       "    <tr>\n",
       "      <td>2</td>\n",
       "      <td>9800.0</td>\n",
       "      <td>suv</td>\n",
       "      <td>2004.0</td>\n",
       "      <td>auto</td>\n",
       "      <td>163.0</td>\n",
       "      <td>grand</td>\n",
       "      <td>125000.0</td>\n",
       "      <td>gasoline</td>\n",
       "      <td>jeep</td>\n",
       "      <td>no</td>\n",
       "      <td>0.0</td>\n",
       "    </tr>\n",
       "    <tr>\n",
       "      <td>3</td>\n",
       "      <td>1500.0</td>\n",
       "      <td>small</td>\n",
       "      <td>2001.0</td>\n",
       "      <td>manual</td>\n",
       "      <td>75.0</td>\n",
       "      <td>golf</td>\n",
       "      <td>150000.0</td>\n",
       "      <td>petrol</td>\n",
       "      <td>volkswagen</td>\n",
       "      <td>no</td>\n",
       "      <td>0.0</td>\n",
       "    </tr>\n",
       "    <tr>\n",
       "      <td>4</td>\n",
       "      <td>3600.0</td>\n",
       "      <td>small</td>\n",
       "      <td>2008.0</td>\n",
       "      <td>manual</td>\n",
       "      <td>69.0</td>\n",
       "      <td>fabia</td>\n",
       "      <td>90000.0</td>\n",
       "      <td>gasoline</td>\n",
       "      <td>skoda</td>\n",
       "      <td>no</td>\n",
       "      <td>0.0</td>\n",
       "    </tr>\n",
       "    <tr>\n",
       "      <td>5</td>\n",
       "      <td>650.0</td>\n",
       "      <td>sedan</td>\n",
       "      <td>1995.0</td>\n",
       "      <td>manual</td>\n",
       "      <td>102.0</td>\n",
       "      <td>3er</td>\n",
       "      <td>150000.0</td>\n",
       "      <td>petrol</td>\n",
       "      <td>bmw</td>\n",
       "      <td>yes</td>\n",
       "      <td>0.0</td>\n",
       "    </tr>\n",
       "  </tbody>\n",
       "</table>\n",
       "</div>"
      ],
      "text/plain": [
       "    Price VehicleType  RegistrationYear Gearbox  Power  Model  Kilometer  \\\n",
       "0   480.0       sedan            1993.0  manual   75.0   golf   150000.0   \n",
       "2  9800.0         suv            2004.0    auto  163.0  grand   125000.0   \n",
       "3  1500.0       small            2001.0  manual   75.0   golf   150000.0   \n",
       "4  3600.0       small            2008.0  manual   69.0  fabia    90000.0   \n",
       "5   650.0       sedan            1995.0  manual  102.0    3er   150000.0   \n",
       "\n",
       "   FuelType       Brand NotRepaired  NumberOfPictures  \n",
       "0    petrol  volkswagen          no               0.0  \n",
       "2  gasoline        jeep          no               0.0  \n",
       "3    petrol  volkswagen          no               0.0  \n",
       "4  gasoline       skoda          no               0.0  \n",
       "5    petrol         bmw         yes               0.0  "
      ]
     },
     "metadata": {},
     "output_type": "display_data"
    },
    {
     "data": {
      "text/html": [
       "<div>\n",
       "<style scoped>\n",
       "    .dataframe tbody tr th:only-of-type {\n",
       "        vertical-align: middle;\n",
       "    }\n",
       "\n",
       "    .dataframe tbody tr th {\n",
       "        vertical-align: top;\n",
       "    }\n",
       "\n",
       "    .dataframe thead th {\n",
       "        text-align: right;\n",
       "    }\n",
       "</style>\n",
       "<table border=\"1\" class=\"dataframe\">\n",
       "  <thead>\n",
       "    <tr style=\"text-align: right;\">\n",
       "      <th></th>\n",
       "      <th>Price</th>\n",
       "      <th>RegistrationYear</th>\n",
       "      <th>Power</th>\n",
       "      <th>Kilometer</th>\n",
       "      <th>NumberOfPictures</th>\n",
       "    </tr>\n",
       "  </thead>\n",
       "  <tbody>\n",
       "    <tr>\n",
       "      <td>0</td>\n",
       "      <td>480.0</td>\n",
       "      <td>1993.0</td>\n",
       "      <td>75.0</td>\n",
       "      <td>150000.0</td>\n",
       "      <td>0.0</td>\n",
       "    </tr>\n",
       "    <tr>\n",
       "      <td>2</td>\n",
       "      <td>9800.0</td>\n",
       "      <td>2004.0</td>\n",
       "      <td>163.0</td>\n",
       "      <td>125000.0</td>\n",
       "      <td>0.0</td>\n",
       "    </tr>\n",
       "    <tr>\n",
       "      <td>3</td>\n",
       "      <td>1500.0</td>\n",
       "      <td>2001.0</td>\n",
       "      <td>75.0</td>\n",
       "      <td>150000.0</td>\n",
       "      <td>0.0</td>\n",
       "    </tr>\n",
       "    <tr>\n",
       "      <td>4</td>\n",
       "      <td>3600.0</td>\n",
       "      <td>2008.0</td>\n",
       "      <td>69.0</td>\n",
       "      <td>90000.0</td>\n",
       "      <td>0.0</td>\n",
       "    </tr>\n",
       "    <tr>\n",
       "      <td>5</td>\n",
       "      <td>650.0</td>\n",
       "      <td>1995.0</td>\n",
       "      <td>102.0</td>\n",
       "      <td>150000.0</td>\n",
       "      <td>0.0</td>\n",
       "    </tr>\n",
       "  </tbody>\n",
       "</table>\n",
       "</div>"
      ],
      "text/plain": [
       "    Price  RegistrationYear  Power  Kilometer  NumberOfPictures\n",
       "0   480.0            1993.0   75.0   150000.0               0.0\n",
       "2  9800.0            2004.0  163.0   125000.0               0.0\n",
       "3  1500.0            2001.0   75.0   150000.0               0.0\n",
       "4  3600.0            2008.0   69.0    90000.0               0.0\n",
       "5   650.0            1995.0  102.0   150000.0               0.0"
      ]
     },
     "metadata": {},
     "output_type": "display_data"
    },
    {
     "name": "stdout",
     "output_type": "stream",
     "text": [
      "(333983, 5)\n"
     ]
    }
   ],
   "source": [
    "display(df.head())\n",
    "df = df.drop(columns=['VehicleType', 'Gearbox', 'FuelType', 'NotRepaired','Model', 'Brand'])\n",
    "display(df.head())\n",
    "print(df.shape)"
   ]
  },
  {
   "cell_type": "markdown",
   "metadata": {},
   "source": [
    "Объединим наш основной датафрейм с закодированными данными."
   ]
  },
  {
   "cell_type": "code",
   "execution_count": 37,
   "metadata": {
    "scrolled": true
   },
   "outputs": [
    {
     "data": {
      "text/html": [
       "<div>\n",
       "<style scoped>\n",
       "    .dataframe tbody tr th:only-of-type {\n",
       "        vertical-align: middle;\n",
       "    }\n",
       "\n",
       "    .dataframe tbody tr th {\n",
       "        vertical-align: top;\n",
       "    }\n",
       "\n",
       "    .dataframe thead th {\n",
       "        text-align: right;\n",
       "    }\n",
       "</style>\n",
       "<table border=\"1\" class=\"dataframe\">\n",
       "  <thead>\n",
       "    <tr style=\"text-align: right;\">\n",
       "      <th></th>\n",
       "      <th>Price</th>\n",
       "      <th>RegistrationYear</th>\n",
       "      <th>Power</th>\n",
       "      <th>Kilometer</th>\n",
       "      <th>NumberOfPictures</th>\n",
       "      <th>0</th>\n",
       "      <th>1</th>\n",
       "      <th>VehicleType_convertible</th>\n",
       "      <th>VehicleType_coupe</th>\n",
       "      <th>VehicleType_other</th>\n",
       "      <th>...</th>\n",
       "      <th>VehicleType_suv</th>\n",
       "      <th>VehicleType_wagon</th>\n",
       "      <th>Gearbox_manual</th>\n",
       "      <th>FuelType_electric</th>\n",
       "      <th>FuelType_gasoline</th>\n",
       "      <th>FuelType_hybrid</th>\n",
       "      <th>FuelType_lpg</th>\n",
       "      <th>FuelType_other</th>\n",
       "      <th>FuelType_petrol</th>\n",
       "      <th>NotRepaired_yes</th>\n",
       "    </tr>\n",
       "  </thead>\n",
       "  <tbody>\n",
       "    <tr>\n",
       "      <td>0</td>\n",
       "      <td>480.0</td>\n",
       "      <td>1993.0</td>\n",
       "      <td>75.0</td>\n",
       "      <td>150000.0</td>\n",
       "      <td>0.0</td>\n",
       "      <td>116.0</td>\n",
       "      <td>37.0</td>\n",
       "      <td>0</td>\n",
       "      <td>0</td>\n",
       "      <td>0</td>\n",
       "      <td>...</td>\n",
       "      <td>0</td>\n",
       "      <td>0</td>\n",
       "      <td>1</td>\n",
       "      <td>0</td>\n",
       "      <td>0</td>\n",
       "      <td>0</td>\n",
       "      <td>0</td>\n",
       "      <td>0</td>\n",
       "      <td>1</td>\n",
       "      <td>0</td>\n",
       "    </tr>\n",
       "    <tr>\n",
       "      <td>1</td>\n",
       "      <td>9800.0</td>\n",
       "      <td>2004.0</td>\n",
       "      <td>163.0</td>\n",
       "      <td>125000.0</td>\n",
       "      <td>0.0</td>\n",
       "      <td>117.0</td>\n",
       "      <td>14.0</td>\n",
       "      <td>0</td>\n",
       "      <td>0</td>\n",
       "      <td>0</td>\n",
       "      <td>...</td>\n",
       "      <td>1</td>\n",
       "      <td>0</td>\n",
       "      <td>0</td>\n",
       "      <td>0</td>\n",
       "      <td>1</td>\n",
       "      <td>0</td>\n",
       "      <td>0</td>\n",
       "      <td>0</td>\n",
       "      <td>0</td>\n",
       "      <td>0</td>\n",
       "    </tr>\n",
       "    <tr>\n",
       "      <td>2</td>\n",
       "      <td>1500.0</td>\n",
       "      <td>2001.0</td>\n",
       "      <td>75.0</td>\n",
       "      <td>150000.0</td>\n",
       "      <td>0.0</td>\n",
       "      <td>116.0</td>\n",
       "      <td>37.0</td>\n",
       "      <td>0</td>\n",
       "      <td>0</td>\n",
       "      <td>0</td>\n",
       "      <td>...</td>\n",
       "      <td>0</td>\n",
       "      <td>0</td>\n",
       "      <td>1</td>\n",
       "      <td>0</td>\n",
       "      <td>0</td>\n",
       "      <td>0</td>\n",
       "      <td>0</td>\n",
       "      <td>0</td>\n",
       "      <td>1</td>\n",
       "      <td>0</td>\n",
       "    </tr>\n",
       "    <tr>\n",
       "      <td>3</td>\n",
       "      <td>3600.0</td>\n",
       "      <td>2008.0</td>\n",
       "      <td>69.0</td>\n",
       "      <td>90000.0</td>\n",
       "      <td>0.0</td>\n",
       "      <td>101.0</td>\n",
       "      <td>31.0</td>\n",
       "      <td>0</td>\n",
       "      <td>0</td>\n",
       "      <td>0</td>\n",
       "      <td>...</td>\n",
       "      <td>0</td>\n",
       "      <td>0</td>\n",
       "      <td>1</td>\n",
       "      <td>0</td>\n",
       "      <td>1</td>\n",
       "      <td>0</td>\n",
       "      <td>0</td>\n",
       "      <td>0</td>\n",
       "      <td>0</td>\n",
       "      <td>0</td>\n",
       "    </tr>\n",
       "    <tr>\n",
       "      <td>4</td>\n",
       "      <td>650.0</td>\n",
       "      <td>1995.0</td>\n",
       "      <td>102.0</td>\n",
       "      <td>150000.0</td>\n",
       "      <td>0.0</td>\n",
       "      <td>11.0</td>\n",
       "      <td>2.0</td>\n",
       "      <td>0</td>\n",
       "      <td>0</td>\n",
       "      <td>0</td>\n",
       "      <td>...</td>\n",
       "      <td>0</td>\n",
       "      <td>0</td>\n",
       "      <td>1</td>\n",
       "      <td>0</td>\n",
       "      <td>0</td>\n",
       "      <td>0</td>\n",
       "      <td>0</td>\n",
       "      <td>0</td>\n",
       "      <td>1</td>\n",
       "      <td>1</td>\n",
       "    </tr>\n",
       "  </tbody>\n",
       "</table>\n",
       "<p>5 rows × 22 columns</p>\n",
       "</div>"
      ],
      "text/plain": [
       "    Price  RegistrationYear  Power  Kilometer  NumberOfPictures      0     1  \\\n",
       "0   480.0            1993.0   75.0   150000.0               0.0  116.0  37.0   \n",
       "1  9800.0            2004.0  163.0   125000.0               0.0  117.0  14.0   \n",
       "2  1500.0            2001.0   75.0   150000.0               0.0  116.0  37.0   \n",
       "3  3600.0            2008.0   69.0    90000.0               0.0  101.0  31.0   \n",
       "4   650.0            1995.0  102.0   150000.0               0.0   11.0   2.0   \n",
       "\n",
       "   VehicleType_convertible  VehicleType_coupe  VehicleType_other  ...  \\\n",
       "0                        0                  0                  0  ...   \n",
       "1                        0                  0                  0  ...   \n",
       "2                        0                  0                  0  ...   \n",
       "3                        0                  0                  0  ...   \n",
       "4                        0                  0                  0  ...   \n",
       "\n",
       "   VehicleType_suv  VehicleType_wagon  Gearbox_manual  FuelType_electric  \\\n",
       "0                0                  0               1                  0   \n",
       "1                1                  0               0                  0   \n",
       "2                0                  0               1                  0   \n",
       "3                0                  0               1                  0   \n",
       "4                0                  0               1                  0   \n",
       "\n",
       "   FuelType_gasoline  FuelType_hybrid  FuelType_lpg  FuelType_other  \\\n",
       "0                  0                0             0               0   \n",
       "1                  1                0             0               0   \n",
       "2                  0                0             0               0   \n",
       "3                  1                0             0               0   \n",
       "4                  0                0             0               0   \n",
       "\n",
       "   FuelType_petrol  NotRepaired_yes  \n",
       "0                1                0  \n",
       "1                0                0  \n",
       "2                1                0  \n",
       "3                0                0  \n",
       "4                1                1  \n",
       "\n",
       "[5 rows x 22 columns]"
      ]
     },
     "metadata": {},
     "output_type": "display_data"
    },
    {
     "name": "stdout",
     "output_type": "stream",
     "text": [
      "(333983, 22)\n"
     ]
    }
   ],
   "source": [
    "# Объединим полученные датафреймы в единый:\n",
    "df.reset_index(drop=True, inplace=True)\n",
    "df['0']=df_ord[0]\n",
    "df['1']=df_ord[1]\n",
    "df_ohe.reset_index(drop=True, inplace=True)\n",
    "df = df.join([df_ohe])\n",
    "display(df.head())\n",
    "print(df.shape)"
   ]
  },
  {
   "cell_type": "code",
   "execution_count": 38,
   "metadata": {},
   "outputs": [
    {
     "data": {
      "text/html": [
       "<div>\n",
       "<style scoped>\n",
       "    .dataframe tbody tr th:only-of-type {\n",
       "        vertical-align: middle;\n",
       "    }\n",
       "\n",
       "    .dataframe tbody tr th {\n",
       "        vertical-align: top;\n",
       "    }\n",
       "\n",
       "    .dataframe thead th {\n",
       "        text-align: right;\n",
       "    }\n",
       "</style>\n",
       "<table border=\"1\" class=\"dataframe\">\n",
       "  <thead>\n",
       "    <tr style=\"text-align: right;\">\n",
       "      <th></th>\n",
       "      <th>Price</th>\n",
       "      <th>RegistrationYear</th>\n",
       "      <th>Power</th>\n",
       "      <th>Kilometer</th>\n",
       "      <th>NumberOfPictures</th>\n",
       "      <th>0</th>\n",
       "      <th>1</th>\n",
       "      <th>VehicleType_convertible</th>\n",
       "      <th>VehicleType_coupe</th>\n",
       "      <th>VehicleType_other</th>\n",
       "      <th>...</th>\n",
       "      <th>VehicleType_suv</th>\n",
       "      <th>VehicleType_wagon</th>\n",
       "      <th>Gearbox_manual</th>\n",
       "      <th>FuelType_electric</th>\n",
       "      <th>FuelType_gasoline</th>\n",
       "      <th>FuelType_hybrid</th>\n",
       "      <th>FuelType_lpg</th>\n",
       "      <th>FuelType_other</th>\n",
       "      <th>FuelType_petrol</th>\n",
       "      <th>NotRepaired_yes</th>\n",
       "    </tr>\n",
       "  </thead>\n",
       "  <tbody>\n",
       "    <tr>\n",
       "      <td>0</td>\n",
       "      <td>1500.0</td>\n",
       "      <td>2001.0</td>\n",
       "      <td>0.150</td>\n",
       "      <td>1.000000</td>\n",
       "      <td>0.0</td>\n",
       "      <td>116.0</td>\n",
       "      <td>37.0</td>\n",
       "      <td>0</td>\n",
       "      <td>0</td>\n",
       "      <td>0</td>\n",
       "      <td>...</td>\n",
       "      <td>0</td>\n",
       "      <td>0</td>\n",
       "      <td>1</td>\n",
       "      <td>0</td>\n",
       "      <td>0</td>\n",
       "      <td>0</td>\n",
       "      <td>0</td>\n",
       "      <td>0</td>\n",
       "      <td>1</td>\n",
       "      <td>0</td>\n",
       "    </tr>\n",
       "    <tr>\n",
       "      <td>1</td>\n",
       "      <td>3600.0</td>\n",
       "      <td>2008.0</td>\n",
       "      <td>0.138</td>\n",
       "      <td>0.586207</td>\n",
       "      <td>0.0</td>\n",
       "      <td>101.0</td>\n",
       "      <td>31.0</td>\n",
       "      <td>0</td>\n",
       "      <td>0</td>\n",
       "      <td>0</td>\n",
       "      <td>...</td>\n",
       "      <td>0</td>\n",
       "      <td>0</td>\n",
       "      <td>1</td>\n",
       "      <td>0</td>\n",
       "      <td>1</td>\n",
       "      <td>0</td>\n",
       "      <td>0</td>\n",
       "      <td>0</td>\n",
       "      <td>0</td>\n",
       "      <td>0</td>\n",
       "    </tr>\n",
       "    <tr>\n",
       "      <td>2</td>\n",
       "      <td>650.0</td>\n",
       "      <td>1995.0</td>\n",
       "      <td>0.204</td>\n",
       "      <td>1.000000</td>\n",
       "      <td>0.0</td>\n",
       "      <td>11.0</td>\n",
       "      <td>2.0</td>\n",
       "      <td>0</td>\n",
       "      <td>0</td>\n",
       "      <td>0</td>\n",
       "      <td>...</td>\n",
       "      <td>0</td>\n",
       "      <td>0</td>\n",
       "      <td>1</td>\n",
       "      <td>0</td>\n",
       "      <td>0</td>\n",
       "      <td>0</td>\n",
       "      <td>0</td>\n",
       "      <td>0</td>\n",
       "      <td>1</td>\n",
       "      <td>1</td>\n",
       "    </tr>\n",
       "    <tr>\n",
       "      <td>3</td>\n",
       "      <td>2200.0</td>\n",
       "      <td>2004.0</td>\n",
       "      <td>0.218</td>\n",
       "      <td>1.000000</td>\n",
       "      <td>0.0</td>\n",
       "      <td>8.0</td>\n",
       "      <td>25.0</td>\n",
       "      <td>1</td>\n",
       "      <td>0</td>\n",
       "      <td>0</td>\n",
       "      <td>...</td>\n",
       "      <td>0</td>\n",
       "      <td>0</td>\n",
       "      <td>1</td>\n",
       "      <td>0</td>\n",
       "      <td>0</td>\n",
       "      <td>0</td>\n",
       "      <td>0</td>\n",
       "      <td>0</td>\n",
       "      <td>1</td>\n",
       "      <td>0</td>\n",
       "    </tr>\n",
       "    <tr>\n",
       "      <td>4</td>\n",
       "      <td>0.0</td>\n",
       "      <td>1980.0</td>\n",
       "      <td>0.100</td>\n",
       "      <td>0.241379</td>\n",
       "      <td>0.0</td>\n",
       "      <td>166.0</td>\n",
       "      <td>37.0</td>\n",
       "      <td>0</td>\n",
       "      <td>0</td>\n",
       "      <td>0</td>\n",
       "      <td>...</td>\n",
       "      <td>0</td>\n",
       "      <td>0</td>\n",
       "      <td>1</td>\n",
       "      <td>0</td>\n",
       "      <td>0</td>\n",
       "      <td>0</td>\n",
       "      <td>0</td>\n",
       "      <td>0</td>\n",
       "      <td>1</td>\n",
       "      <td>0</td>\n",
       "    </tr>\n",
       "  </tbody>\n",
       "</table>\n",
       "<p>5 rows × 22 columns</p>\n",
       "</div>"
      ],
      "text/plain": [
       "    Price  RegistrationYear  Power  Kilometer  NumberOfPictures      0     1  \\\n",
       "0  1500.0            2001.0  0.150   1.000000               0.0  116.0  37.0   \n",
       "1  3600.0            2008.0  0.138   0.586207               0.0  101.0  31.0   \n",
       "2   650.0            1995.0  0.204   1.000000               0.0   11.0   2.0   \n",
       "3  2200.0            2004.0  0.218   1.000000               0.0    8.0  25.0   \n",
       "4     0.0            1980.0  0.100   0.241379               0.0  166.0  37.0   \n",
       "\n",
       "   VehicleType_convertible  VehicleType_coupe  VehicleType_other  ...  \\\n",
       "0                        0                  0                  0  ...   \n",
       "1                        0                  0                  0  ...   \n",
       "2                        0                  0                  0  ...   \n",
       "3                        1                  0                  0  ...   \n",
       "4                        0                  0                  0  ...   \n",
       "\n",
       "   VehicleType_suv  VehicleType_wagon  Gearbox_manual  FuelType_electric  \\\n",
       "0                0                  0               1                  0   \n",
       "1                0                  0               1                  0   \n",
       "2                0                  0               1                  0   \n",
       "3                0                  0               1                  0   \n",
       "4                0                  0               1                  0   \n",
       "\n",
       "   FuelType_gasoline  FuelType_hybrid  FuelType_lpg  FuelType_other  \\\n",
       "0                  0                0             0               0   \n",
       "1                  1                0             0               0   \n",
       "2                  0                0             0               0   \n",
       "3                  0                0             0               0   \n",
       "4                  0                0             0               0   \n",
       "\n",
       "   FuelType_petrol  NotRepaired_yes  \n",
       "0                1                0  \n",
       "1                0                0  \n",
       "2                1                1  \n",
       "3                1                0  \n",
       "4                1                0  \n",
       "\n",
       "[5 rows x 22 columns]"
      ]
     },
     "metadata": {},
     "output_type": "display_data"
    },
    {
     "name": "stdout",
     "output_type": "stream",
     "text": [
      "(245530, 22)\n"
     ]
    }
   ],
   "source": [
    "data2.reset_index(drop=True, inplace=True)\n",
    "data2['0']=data2_ord[0]\n",
    "data2['1']=data2_ord[1]\n",
    "data2_ohe.reset_index(drop=True, inplace=True)\n",
    "data2 = data2.join([data2_ohe])\n",
    "\n",
    "scaler = MinMaxScaler()\n",
    "data2[['Power','Kilometer']] = scaler.fit_transform(data2[['Power','Kilometer']])\n",
    "display(data2.head())\n",
    "print(data2.shape)"
   ]
  },
  {
   "cell_type": "code",
   "execution_count": 39,
   "metadata": {},
   "outputs": [
    {
     "name": "stdout",
     "output_type": "stream",
     "text": [
      "Price                      0\n",
      "RegistrationYear           0\n",
      "Power                      0\n",
      "Kilometer                  0\n",
      "NumberOfPictures           0\n",
      "0                          0\n",
      "1                          0\n",
      "VehicleType_convertible    0\n",
      "VehicleType_coupe          0\n",
      "VehicleType_other          0\n",
      "VehicleType_sedan          0\n",
      "VehicleType_small          0\n",
      "VehicleType_suv            0\n",
      "VehicleType_wagon          0\n",
      "Gearbox_manual             0\n",
      "FuelType_electric          0\n",
      "FuelType_gasoline          0\n",
      "FuelType_hybrid            0\n",
      "FuelType_lpg               0\n",
      "FuelType_other             0\n",
      "FuelType_petrol            0\n",
      "NotRepaired_yes            0\n",
      "dtype: int64\n"
     ]
    }
   ],
   "source": [
    "print(df.isnull().sum())"
   ]
  },
  {
   "cell_type": "markdown",
   "metadata": {},
   "source": [
    "Осталось масштабировать признаки, чтобы такие признаки, как пробег, не превышали многократно остальные."
   ]
  },
  {
   "cell_type": "code",
   "execution_count": 40,
   "metadata": {},
   "outputs": [
    {
     "name": "stdout",
     "output_type": "stream",
     "text": [
      "         Price  RegistrationYear  Power  Kilometer  NumberOfPictures      0  \\\n",
      "0        480.0            1993.0  0.150   1.000000               0.0  116.0   \n",
      "1       9800.0            2004.0  0.326   0.827586               0.0  117.0   \n",
      "2       1500.0            2001.0  0.150   1.000000               0.0  116.0   \n",
      "3       3600.0            2008.0  0.138   0.586207               0.0  101.0   \n",
      "4        650.0            1995.0  0.204   1.000000               0.0   11.0   \n",
      "...        ...               ...    ...        ...               ...    ...   \n",
      "333978  1150.0            2000.0  0.250   1.000000               0.0  249.0   \n",
      "333979     0.0            2005.0  0.150   1.000000               0.0   78.0   \n",
      "333980  1199.0            2000.0  0.202   0.827586               0.0  106.0   \n",
      "333981  9200.0            1996.0  0.204   1.000000               0.0  224.0   \n",
      "333982  3400.0            2002.0  0.200   1.000000               0.0  116.0   \n",
      "\n",
      "           1  VehicleType_convertible  VehicleType_coupe  VehicleType_other  \\\n",
      "0       37.0                        0                  0                  0   \n",
      "1       14.0                        0                  0                  0   \n",
      "2       37.0                        0                  0                  0   \n",
      "3       31.0                        0                  0                  0   \n",
      "4        2.0                        0                  0                  0   \n",
      "...      ...                      ...                ...                ...   \n",
      "333978  24.0                        0                  0                  0   \n",
      "333979  22.0                        0                  0                  0   \n",
      "333980  32.0                        1                  0                  0   \n",
      "333981  37.0                        0                  0                  0   \n",
      "333982  37.0                        0                  0                  0   \n",
      "\n",
      "        ...  VehicleType_suv  VehicleType_wagon  Gearbox_manual  \\\n",
      "0       ...                0                  0               1   \n",
      "1       ...                1                  0               0   \n",
      "2       ...                0                  0               1   \n",
      "3       ...                0                  0               1   \n",
      "4       ...                0                  0               1   \n",
      "...     ...              ...                ...             ...   \n",
      "333978  ...                0                  0               1   \n",
      "333979  ...                0                  0               1   \n",
      "333980  ...                0                  0               0   \n",
      "333981  ...                0                  0               1   \n",
      "333982  ...                0                  1               1   \n",
      "\n",
      "        FuelType_electric  FuelType_gasoline  FuelType_hybrid  FuelType_lpg  \\\n",
      "0                       0                  0                0             0   \n",
      "1                       0                  1                0             0   \n",
      "2                       0                  0                0             0   \n",
      "3                       0                  1                0             0   \n",
      "4                       0                  0                0             0   \n",
      "...                   ...                ...              ...           ...   \n",
      "333978                  0                  0                0             0   \n",
      "333979                  0                  0                0             0   \n",
      "333980                  0                  0                0             0   \n",
      "333981                  0                  1                0             0   \n",
      "333982                  0                  1                0             0   \n",
      "\n",
      "        FuelType_other  FuelType_petrol  NotRepaired_yes  \n",
      "0                    0                1                0  \n",
      "1                    0                0                0  \n",
      "2                    0                1                0  \n",
      "3                    0                0                0  \n",
      "4                    0                1                1  \n",
      "...                ...              ...              ...  \n",
      "333978               0                1                0  \n",
      "333979               0                1                1  \n",
      "333980               0                1                0  \n",
      "333981               0                0                0  \n",
      "333982               0                0                0  \n",
      "\n",
      "[333983 rows x 22 columns]\n"
     ]
    }
   ],
   "source": [
    "data = df\n",
    "scaler = MinMaxScaler()\n",
    "data[['Power','Kilometer']] = scaler.fit_transform(data[['Power','Kilometer']])\n",
    "\n",
    "print(data)"
   ]
  },
  {
   "cell_type": "markdown",
   "metadata": {},
   "source": [
    "<div class=\"alert alert-info\"> Проведена замена аномалий на NaN с последующей обработкой прпоущенных значений, а также с удалением всех пропущенных значений на альтернативном датафрейме. </div>"
   ]
  },
  {
   "cell_type": "markdown",
   "metadata": {},
   "source": [
    "1) [Работа с аномалиями](#vibros)\n",
    "2) [Альтернативный датафрейм](#data2)"
   ]
  },
  {
   "cell_type": "markdown",
   "metadata": {},
   "source": [
    "<a id='shag_2'></a>"
   ]
  },
  {
   "cell_type": "markdown",
   "metadata": {},
   "source": [
    "## Обучение моделей"
   ]
  },
  {
   "cell_type": "code",
   "execution_count": 41,
   "metadata": {},
   "outputs": [
    {
     "name": "stdout",
     "output_type": "stream",
     "text": [
      "(333983, 21) (333983,)\n"
     ]
    }
   ],
   "source": [
    "#data = data.head(10000)\n",
    "x = data.drop('Price', axis=1)\n",
    "y = data['Price']\n",
    "print(x.shape, y.shape)\n",
    "\n",
    "x_train, x_test, y_train, y_test = train_test_split(x, y,  test_size=0.85, random_state=123)"
   ]
  },
  {
   "cell_type": "code",
   "execution_count": 42,
   "metadata": {},
   "outputs": [
    {
     "name": "stdout",
     "output_type": "stream",
     "text": [
      "(245530, 21) (245530,)\n"
     ]
    }
   ],
   "source": [
    "#data = data.head(10000)\n",
    "x2 = data2.drop('Price', axis=1)\n",
    "y2 = data2['Price']\n",
    "print(x2.shape, y2.shape)\n",
    "\n",
    "x2_train, x2_test, y2_train, y2_test = train_test_split(x2, y2,  test_size=0.85, random_state=123)"
   ]
  },
  {
   "cell_type": "code",
   "execution_count": 43,
   "metadata": {},
   "outputs": [],
   "source": [
    "df_TestModels = pd.DataFrame()"
   ]
  },
  {
   "cell_type": "markdown",
   "metadata": {},
   "source": [
    "### Модель линейной регрессии"
   ]
  },
  {
   "cell_type": "code",
   "execution_count": 44,
   "metadata": {
    "scrolled": true
   },
   "outputs": [
    {
     "name": "stdout",
     "output_type": "stream",
     "text": [
      "CPU times: user 3 µs, sys: 0 ns, total: 3 µs\n",
      "Wall time: 5.48 µs\n",
      "Fitting 3 folds for each of 4 candidates, totalling 12 fits\n",
      "[CV] fit_intercept=True, normalize=True ..............................\n",
      "[CV] .. fit_intercept=True, normalize=True, score=0.548, total=   0.0s\n",
      "[CV] fit_intercept=True, normalize=True ..............................\n"
     ]
    },
    {
     "name": "stderr",
     "output_type": "stream",
     "text": [
      "[Parallel(n_jobs=1)]: Using backend SequentialBackend with 1 concurrent workers.\n",
      "[Parallel(n_jobs=1)]: Done   1 out of   1 | elapsed:    0.1s remaining:    0.0s\n"
     ]
    },
    {
     "name": "stdout",
     "output_type": "stream",
     "text": [
      "[CV] .. fit_intercept=True, normalize=True, score=0.558, total=   0.1s\n",
      "[CV] fit_intercept=True, normalize=True ..............................\n",
      "[CV] .. fit_intercept=True, normalize=True, score=0.564, total=   0.2s\n",
      "[CV] fit_intercept=True, normalize=False .............................\n"
     ]
    },
    {
     "name": "stderr",
     "output_type": "stream",
     "text": [
      "[Parallel(n_jobs=1)]: Done   2 out of   2 | elapsed:    0.2s remaining:    0.0s\n"
     ]
    },
    {
     "name": "stdout",
     "output_type": "stream",
     "text": [
      "[CV] . fit_intercept=True, normalize=False, score=0.548, total=   0.2s\n",
      "[CV] fit_intercept=True, normalize=False .............................\n",
      "[CV] . fit_intercept=True, normalize=False, score=0.558, total=   0.2s\n",
      "[CV] fit_intercept=True, normalize=False .............................\n",
      "[CV] . fit_intercept=True, normalize=False, score=0.564, total=   0.2s\n",
      "[CV] fit_intercept=False, normalize=True .............................\n",
      "[CV] . fit_intercept=False, normalize=True, score=0.500, total=   0.2s\n",
      "[CV] fit_intercept=False, normalize=True .............................\n",
      "[CV] . fit_intercept=False, normalize=True, score=0.506, total=   0.2s\n",
      "[CV] fit_intercept=False, normalize=True .............................\n",
      "[CV] . fit_intercept=False, normalize=True, score=0.514, total=   0.2s\n",
      "[CV] fit_intercept=False, normalize=False ............................\n",
      "[CV]  fit_intercept=False, normalize=False, score=0.500, total=   0.2s\n",
      "[CV] fit_intercept=False, normalize=False ............................\n",
      "[CV]  fit_intercept=False, normalize=False, score=0.506, total=   0.3s\n",
      "[CV] fit_intercept=False, normalize=False ............................\n",
      "[CV]  fit_intercept=False, normalize=False, score=0.514, total=   0.2s\n"
     ]
    },
    {
     "name": "stderr",
     "output_type": "stream",
     "text": [
      "[Parallel(n_jobs=1)]: Done  12 out of  12 | elapsed:    2.3s finished\n"
     ]
    },
    {
     "name": "stdout",
     "output_type": "stream",
     "text": [
      "RMSE: 3027.03\n",
      "2.644628024660051\n"
     ]
    }
   ],
   "source": [
    "%time\n",
    "start_time = timeit.default_timer()\n",
    "model = LinearRegression()\n",
    "parameters = {'fit_intercept':[True,False], 'normalize':[True,False]}\n",
    "grid = GridSearchCV(model,parameters, cv=3,verbose=3)\n",
    "grid.fit(x_train, y_train)\n",
    "RMSE = np.sqrt(((grid.predict(x_test) - y_test) ** 2).mean())\n",
    "print(\"RMSE: %.2f\" % RMSE)\n",
    "elapsed = timeit.default_timer() - start_time\n",
    "print(elapsed)"
   ]
  },
  {
   "cell_type": "markdown",
   "metadata": {},
   "source": [
    "Wall time: 5.48 µs\n",
    "RMSE: 3027.03"
   ]
  },
  {
   "cell_type": "code",
   "execution_count": 45,
   "metadata": {},
   "outputs": [],
   "source": [
    "tmp = pd.DataFrame([[model, elapsed, RMSE, 'date1']])\n",
    "df_TestModels = df_TestModels.append(tmp)"
   ]
  },
  {
   "cell_type": "code",
   "execution_count": 46,
   "metadata": {},
   "outputs": [
    {
     "name": "stdout",
     "output_type": "stream",
     "text": [
      "CPU times: user 2 µs, sys: 0 ns, total: 2 µs\n",
      "Wall time: 6.2 µs\n",
      "Fitting 3 folds for each of 4 candidates, totalling 12 fits\n",
      "[CV] fit_intercept=True, normalize=True ..............................\n",
      "[CV] .. fit_intercept=True, normalize=True, score=0.614, total=   0.0s\n",
      "[CV] fit_intercept=True, normalize=True ..............................\n",
      "[CV] .. fit_intercept=True, normalize=True, score=0.615, total=   0.2s\n",
      "[CV] fit_intercept=True, normalize=True ..............................\n"
     ]
    },
    {
     "name": "stderr",
     "output_type": "stream",
     "text": [
      "[Parallel(n_jobs=1)]: Using backend SequentialBackend with 1 concurrent workers.\n",
      "[Parallel(n_jobs=1)]: Done   1 out of   1 | elapsed:    0.0s remaining:    0.0s\n",
      "[Parallel(n_jobs=1)]: Done   2 out of   2 | elapsed:    0.2s remaining:    0.0s\n"
     ]
    },
    {
     "name": "stdout",
     "output_type": "stream",
     "text": [
      "[CV] .. fit_intercept=True, normalize=True, score=0.624, total=   0.2s\n",
      "[CV] fit_intercept=True, normalize=False .............................\n",
      "[CV] . fit_intercept=True, normalize=False, score=0.614, total=   0.2s\n",
      "[CV] fit_intercept=True, normalize=False .............................\n",
      "[CV] . fit_intercept=True, normalize=False, score=0.615, total=   0.2s\n",
      "[CV] fit_intercept=True, normalize=False .............................\n",
      "[CV] . fit_intercept=True, normalize=False, score=0.624, total=   0.2s\n",
      "[CV] fit_intercept=False, normalize=True .............................\n",
      "[CV] . fit_intercept=False, normalize=True, score=0.546, total=   0.3s\n",
      "[CV] fit_intercept=False, normalize=True .............................\n",
      "[CV] . fit_intercept=False, normalize=True, score=0.550, total=   0.2s\n",
      "[CV] fit_intercept=False, normalize=True .............................\n",
      "[CV] . fit_intercept=False, normalize=True, score=0.553, total=   0.2s\n",
      "[CV] fit_intercept=False, normalize=False ............................\n",
      "[CV]  fit_intercept=False, normalize=False, score=0.546, total=   0.2s\n",
      "[CV] fit_intercept=False, normalize=False ............................\n",
      "[CV]  fit_intercept=False, normalize=False, score=0.550, total=   0.2s\n",
      "[CV] fit_intercept=False, normalize=False ............................\n",
      "[CV]  fit_intercept=False, normalize=False, score=0.553, total=   0.3s\n"
     ]
    },
    {
     "name": "stderr",
     "output_type": "stream",
     "text": [
      "[Parallel(n_jobs=1)]: Done  12 out of  12 | elapsed:    2.4s finished\n"
     ]
    },
    {
     "name": "stdout",
     "output_type": "stream",
     "text": [
      "RMSE: 2909.26\n",
      "2.6962619787082076\n"
     ]
    }
   ],
   "source": [
    "%time\n",
    "start_time = timeit.default_timer()\n",
    "model = LinearRegression()\n",
    "parameters = {'fit_intercept':[True,False], 'normalize':[True,False]}\n",
    "grid = GridSearchCV(model,parameters, cv=3,verbose=3)\n",
    "grid.fit(x2_train, y2_train)\n",
    "#print (\"r2 / variance : \", grid.best_score_)\n",
    "print(\"RMSE: %.2f\" % np.sqrt(((grid.predict(x2_test) - y2_test) ** 2).mean()))\n",
    "elapsed = timeit.default_timer() - start_time\n",
    "print(elapsed)"
   ]
  },
  {
   "cell_type": "markdown",
   "metadata": {},
   "source": [
    "Результаты модели на альтернативном датафрейме оказались лучше:\n",
    "Wall time: 5.48 µs\n",
    "RMSE: 2909.26    "
   ]
  },
  {
   "cell_type": "code",
   "execution_count": 47,
   "metadata": {},
   "outputs": [],
   "source": [
    "tmp = pd.DataFrame([[model, elapsed, RMSE, 'date2']])\n",
    "df_TestModels = df_TestModels.append(tmp)"
   ]
  },
  {
   "cell_type": "code",
   "execution_count": 48,
   "metadata": {},
   "outputs": [
    {
     "name": "stdout",
     "output_type": "stream",
     "text": [
      "RMSE: 3027.03\n",
      "0.49748309049755335\n",
      "CPU times: user 216 ms, sys: 295 ms, total: 511 ms\n",
      "Wall time: 498 ms\n"
     ]
    }
   ],
   "source": [
    "%%time\n",
    "start_time = timeit.default_timer()\n",
    "model = LinearRegression()\n",
    "model.fit(x_train, y_train)\n",
    "predictions = model.predict(x_test)\n",
    "#print(\"r2/variance: \", model.score(x_test,y_test))\n",
    "print(\"RMSE: %.2f\" % np.sqrt(((model.predict(x_test) - y_test) ** 2).mean()))\n",
    "elapsed = timeit.default_timer() - start_time\n",
    "print(elapsed)"
   ]
  },
  {
   "cell_type": "markdown",
   "metadata": {},
   "source": [
    "RMSE: 3564.66\n",
    "CPU times: user 220 ms, sys: 242 ms, total: 462 ms\n",
    "Wall time: 413 ms"
   ]
  },
  {
   "cell_type": "code",
   "execution_count": 49,
   "metadata": {},
   "outputs": [],
   "source": [
    "tmp = pd.DataFrame([[model, elapsed, RMSE, 'date1']])\n",
    "df_TestModels = df_TestModels.append(tmp)"
   ]
  },
  {
   "cell_type": "markdown",
   "metadata": {},
   "source": [
    "### Проверка на адекватность"
   ]
  },
  {
   "cell_type": "code",
   "execution_count": 50,
   "metadata": {},
   "outputs": [
    {
     "name": "stdout",
     "output_type": "stream",
     "text": [
      "RMSE= 6390.294219182217\n",
      "0.0940582538023591\n",
      "CPU times: user 20.9 ms, sys: 16.4 ms, total: 37.3 ms\n",
      "Wall time: 94.2 ms\n"
     ]
    }
   ],
   "source": [
    "%%time\n",
    "start_time = timeit.default_timer()\n",
    "dummy_clf = DummyClassifier(strategy=\"most_frequent\", random_state=12345)\n",
    "dummy_clf.fit(x_train,y_train) \n",
    "predict_test = dummy_clf.predict(x_test)\n",
    "RMSE = np.sqrt(((predict_test - y_test) ** 2).mean())\n",
    "print('RMSE=', RMSE)\n",
    "elapsed = timeit.default_timer() - start_time\n",
    "print(elapsed)"
   ]
  },
  {
   "cell_type": "code",
   "execution_count": 51,
   "metadata": {},
   "outputs": [],
   "source": [
    "tmp = pd.DataFrame([[model, elapsed, RMSE, 'date1']])\n",
    "df_TestModels = df_TestModels.append(tmp)"
   ]
  },
  {
   "cell_type": "markdown",
   "metadata": {},
   "source": [
    "RMSE= 6388.4298108989815\n",
    "CPU times: user 13.1 ms, sys: 17 µs, total: 13.1 ms\n",
    "Wall time: 15.1 ms"
   ]
  },
  {
   "cell_type": "code",
   "execution_count": 52,
   "metadata": {},
   "outputs": [
    {
     "name": "stdout",
     "output_type": "stream",
     "text": [
      "RMSE= 5937.866657969617\n",
      "0.0063303615897893906\n",
      "CPU times: user 6.89 ms, sys: 0 ns, total: 6.89 ms\n",
      "Wall time: 6.4 ms\n"
     ]
    }
   ],
   "source": [
    "%%time\n",
    "start_time = timeit.default_timer()\n",
    "dummy_clf = DummyClassifier(strategy=\"most_frequent\", random_state=12345)\n",
    "dummy_clf.fit(x2_train,y2_train) \n",
    "predict_test = dummy_clf.predict(x2_test)\n",
    "RMSE = np.sqrt(((predict_test - y2_test) ** 2).mean())\n",
    "print('RMSE=', RMSE)\n",
    "elapsed = timeit.default_timer() - start_time\n",
    "print(elapsed)"
   ]
  },
  {
   "cell_type": "code",
   "execution_count": 53,
   "metadata": {},
   "outputs": [],
   "source": [
    "tmp = pd.DataFrame([[model, elapsed, RMSE, 'date2']])\n",
    "df_TestModels = df_TestModels.append(tmp)"
   ]
  },
  {
   "cell_type": "markdown",
   "metadata": {},
   "source": [
    "### model LGBM"
   ]
  },
  {
   "cell_type": "code",
   "execution_count": 54,
   "metadata": {},
   "outputs": [
    {
     "ename": "NameError",
     "evalue": "name 'n_estimators' is not defined",
     "output_type": "error",
     "traceback": [
      "\u001b[0;31m---------------------------------------------------------------------------\u001b[0m",
      "\u001b[0;31mNameError\u001b[0m                                 Traceback (most recent call last)",
      "\u001b[0;32m<timed exec>\u001b[0m in \u001b[0;36m<module>\u001b[0;34m\u001b[0m\n",
      "\u001b[0;31mNameError\u001b[0m: name 'n_estimators' is not defined"
     ]
    }
   ],
   "source": [
    "%%time\n",
    "best_RMSE = 10000\n",
    "best_n_estimators = 0\n",
    "best_m_depth = 0\n",
    "for maxdepth in range(1, 16, 5):\n",
    "    for nestimators in range(1, 100, 35):\n",
    "        start_time = timeit.default_timer()\n",
    "        model = LGBMRegressor(boosting_type='gbdt', objective='regression', num_leaves=1200,\n",
    "                                    learning_rate=0.17, n_estimators=nestimators, max_depth=maxdepth,\n",
    "                                    metric='rmse', bagging_fraction=0.8, feature_fraction=0.8, reg_lambda=0.9)\n",
    "        model.fit(x_train, y_train) \n",
    "        predict_test = model.predict(x_test)\n",
    "        RMSE = np.sqrt(((predict_test - y_test) ** 2).mean())\n",
    "        if RMSE < best_RMSE:\n",
    "            best_RMSE = RMSE\n",
    "            best_n_estimators = n_estimators\n",
    "            best_m_depth = max_depth\n",
    "    print(model,': ',RMSE)\n",
    "    elapsed = timeit.default_timer() - start_time\n",
    "    print(elapsed)\n",
    "print('best_RMSE =', RMSE,'best_n_estimators =', n_estimators,  'best_m_depth =', max_depth)"
   ]
  },
  {
   "cell_type": "code",
   "execution_count": 55,
   "metadata": {},
   "outputs": [],
   "source": [
    "tmp = pd.DataFrame([[model, elapsed, RMSE, 'date1']])\n",
    "df_TestModels = df_TestModels.append(tmp)"
   ]
  },
  {
   "cell_type": "markdown",
   "metadata": {},
   "source": [
    "### SVR"
   ]
  },
  {
   "cell_type": "code",
   "execution_count": 56,
   "metadata": {},
   "outputs": [
    {
     "name": "stdout",
     "output_type": "stream",
     "text": [
      "SVR(C=1.0, cache_size=200, coef0=0.0, degree=3, epsilon=0.1,\n",
      "    gamma='auto_deprecated', kernel='linear', max_iter=-1, shrinking=True,\n",
      "    tol=0.001, verbose=False) :  3789.1415003840375\n",
      "393.8748297346756\n",
      "CPU times: user 6min 33s, sys: 385 ms, total: 6min 33s\n",
      "Wall time: 6min 33s\n"
     ]
    }
   ],
   "source": [
    "%%time\n",
    "start_time = timeit.default_timer()\n",
    "model = SVR(kernel='linear')\n",
    "model.fit(x_train, y_train) \n",
    "predict_test = model.predict(x_test)\n",
    "RMSE = np.sqrt(((predict_test - y_test) ** 2).mean())\n",
    "print(model,': ',RMSE)\n",
    "elapsed = timeit.default_timer() - start_time\n",
    "print(elapsed)"
   ]
  },
  {
   "cell_type": "markdown",
   "metadata": {},
   "source": [
    "Wall time: 6min 29s\n",
    "SVR(C=1.0, cache_size=200, coef0=0.0, degree=3, epsilon=0.1,\n",
    "    gamma='auto_deprecated', kernel='linear', max_iter=-1, shrinking=True,\n",
    "    tol=0.001, verbose=False) :  3789.1415003840375"
   ]
  },
  {
   "cell_type": "code",
   "execution_count": 57,
   "metadata": {},
   "outputs": [],
   "source": [
    "tmp = pd.DataFrame([[model, elapsed, RMSE, 'date1']])\n",
    "df_TestModels = df_TestModels.append(tmp)"
   ]
  },
  {
   "cell_type": "code",
   "execution_count": 58,
   "metadata": {},
   "outputs": [
    {
     "name": "stdout",
     "output_type": "stream",
     "text": [
      "SVR(C=1.0, cache_size=200, coef0=0.0, degree=3, epsilon=0.1,\n",
      "    gamma='auto_deprecated', kernel='linear', max_iter=-1, shrinking=True,\n",
      "    tol=0.001, verbose=False) :  3598.206500208032\n",
      "212.7836989192292\n",
      "CPU times: user 3min 32s, sys: 229 ms, total: 3min 32s\n",
      "Wall time: 3min 32s\n"
     ]
    }
   ],
   "source": [
    "%%time\n",
    "start_time = timeit.default_timer()\n",
    "model = SVR(kernel='linear')\n",
    "model.fit(x2_train, y2_train) \n",
    "predict_test = model.predict(x2_test)\n",
    "RMSE = np.sqrt(((predict_test - y2_test) ** 2).mean())\n",
    "print(model,': ',RMSE)\n",
    "elapsed = timeit.default_timer() - start_time\n",
    "print(elapsed)"
   ]
  },
  {
   "cell_type": "code",
   "execution_count": 59,
   "metadata": {},
   "outputs": [],
   "source": [
    "tmp = pd.DataFrame([[model, elapsed, RMSE, 'date2']])\n",
    "df_TestModels = df_TestModels.append(tmp)"
   ]
  },
  {
   "cell_type": "markdown",
   "metadata": {},
   "source": [
    "### KNeighborsRegressor"
   ]
  },
  {
   "cell_type": "code",
   "execution_count": 60,
   "metadata": {},
   "outputs": [
    {
     "name": "stdout",
     "output_type": "stream",
     "text": [
      "KNeighborsRegressor(algorithm='auto', leaf_size=30, metric='minkowski',\n",
      "                    metric_params=None, n_jobs=None, n_neighbors=6, p=2,\n",
      "                    weights='uniform') :  2122.94501373304\n",
      "8.314380896277726\n",
      "CPU times: user 8.21 s, sys: 99.9 ms, total: 8.31 s\n",
      "Wall time: 8.31 s\n"
     ]
    }
   ],
   "source": [
    "%%time\n",
    "start_time = timeit.default_timer()\n",
    "model = KNeighborsRegressor(n_neighbors=6)\n",
    "model.fit(x_train, y_train) \n",
    "predict_test = model.predict(x_test)\n",
    "RMSE = np.sqrt(((predict_test - y_test) ** 2).mean())\n",
    "print(model,': ',RMSE)\n",
    "elapsed = timeit.default_timer() - start_time\n",
    "print(elapsed)"
   ]
  },
  {
   "cell_type": "markdown",
   "metadata": {},
   "source": [
    "Wall time: 7.81 s\n",
    "KNeighborsRegressor(algorithm='auto', leaf_size=30, metric='minkowski',\n",
    "                    metric_params=None, n_jobs=None, n_neighbors=6, p=2,\n",
    "                    weights='uniform') :  2122.94501373304"
   ]
  },
  {
   "cell_type": "code",
   "execution_count": 61,
   "metadata": {},
   "outputs": [],
   "source": [
    "tmp = pd.DataFrame([[model, elapsed, RMSE, 'date1']])\n",
    "df_TestModels = df_TestModels.append(tmp)"
   ]
  },
  {
   "cell_type": "code",
   "execution_count": 62,
   "metadata": {},
   "outputs": [
    {
     "name": "stdout",
     "output_type": "stream",
     "text": [
      "KNeighborsRegressor(algorithm='auto', leaf_size=30, metric='minkowski',\n",
      "                    metric_params=None, n_jobs=None, n_neighbors=6, p=2,\n",
      "                    weights='uniform') :  2030.379338848077\n",
      "5.222069791518152\n",
      "CPU times: user 5.14 s, sys: 75.9 ms, total: 5.21 s\n",
      "Wall time: 5.22 s\n"
     ]
    }
   ],
   "source": [
    "%%time\n",
    "start_time = timeit.default_timer()\n",
    "model = KNeighborsRegressor(n_neighbors=6)\n",
    "model.fit(x2_train, y2_train) \n",
    "predict_test = model.predict(x2_test)\n",
    "RMSE = np.sqrt(((predict_test - y2_test) ** 2).mean())\n",
    "print(model,': ',RMSE)\n",
    "elapsed = timeit.default_timer() - start_time\n",
    "print(elapsed)"
   ]
  },
  {
   "cell_type": "code",
   "execution_count": 63,
   "metadata": {},
   "outputs": [],
   "source": [
    "tmp = pd.DataFrame([[model, elapsed, RMSE, 'date2']])\n",
    "df_TestModels = df_TestModels.append(tmp)"
   ]
  },
  {
   "cell_type": "markdown",
   "metadata": {},
   "source": [
    "<a id='shag_3'></a>"
   ]
  },
  {
   "cell_type": "markdown",
   "metadata": {},
   "source": [
    "## Анализ моделей"
   ]
  },
  {
   "cell_type": "code",
   "execution_count": 65,
   "metadata": {},
   "outputs": [
    {
     "data": {
      "text/html": [
       "<div>\n",
       "<style scoped>\n",
       "    .dataframe tbody tr th:only-of-type {\n",
       "        vertical-align: middle;\n",
       "    }\n",
       "\n",
       "    .dataframe tbody tr th {\n",
       "        vertical-align: top;\n",
       "    }\n",
       "\n",
       "    .dataframe thead th {\n",
       "        text-align: right;\n",
       "    }\n",
       "</style>\n",
       "<table border=\"1\" class=\"dataframe\">\n",
       "  <thead>\n",
       "    <tr style=\"text-align: right;\">\n",
       "      <th></th>\n",
       "      <th>0</th>\n",
       "      <th>1</th>\n",
       "      <th>2</th>\n",
       "      <th>3</th>\n",
       "    </tr>\n",
       "  </thead>\n",
       "  <tbody>\n",
       "    <tr>\n",
       "      <td>0</td>\n",
       "      <td>LinearRegression(copy_X=True, fit_intercept=Tr...</td>\n",
       "      <td>2.644628</td>\n",
       "      <td>3027.029916</td>\n",
       "      <td>date1</td>\n",
       "    </tr>\n",
       "    <tr>\n",
       "      <td>0</td>\n",
       "      <td>LinearRegression(copy_X=True, fit_intercept=Tr...</td>\n",
       "      <td>2.696262</td>\n",
       "      <td>3027.029916</td>\n",
       "      <td>date2</td>\n",
       "    </tr>\n",
       "    <tr>\n",
       "      <td>0</td>\n",
       "      <td>LinearRegression(copy_X=True, fit_intercept=Tr...</td>\n",
       "      <td>0.497483</td>\n",
       "      <td>3027.029916</td>\n",
       "      <td>date1</td>\n",
       "    </tr>\n",
       "    <tr>\n",
       "      <td>0</td>\n",
       "      <td>LinearRegression(copy_X=True, fit_intercept=Tr...</td>\n",
       "      <td>0.094058</td>\n",
       "      <td>6390.294219</td>\n",
       "      <td>date1</td>\n",
       "    </tr>\n",
       "    <tr>\n",
       "      <td>0</td>\n",
       "      <td>LinearRegression(copy_X=True, fit_intercept=Tr...</td>\n",
       "      <td>0.006330</td>\n",
       "      <td>5937.866658</td>\n",
       "      <td>date2</td>\n",
       "    </tr>\n",
       "    <tr>\n",
       "      <td>0</td>\n",
       "      <td>LGBMRegressor(bagging_fraction=0.8, boosting_t...</td>\n",
       "      <td>0.006330</td>\n",
       "      <td>4305.947244</td>\n",
       "      <td>date1</td>\n",
       "    </tr>\n",
       "    <tr>\n",
       "      <td>0</td>\n",
       "      <td>SVR(C=1.0, cache_size=200, coef0=0.0, degree=3...</td>\n",
       "      <td>393.874830</td>\n",
       "      <td>3789.141500</td>\n",
       "      <td>date1</td>\n",
       "    </tr>\n",
       "    <tr>\n",
       "      <td>0</td>\n",
       "      <td>SVR(C=1.0, cache_size=200, coef0=0.0, degree=3...</td>\n",
       "      <td>212.783699</td>\n",
       "      <td>3598.206500</td>\n",
       "      <td>date2</td>\n",
       "    </tr>\n",
       "    <tr>\n",
       "      <td>0</td>\n",
       "      <td>KNeighborsRegressor(algorithm='auto', leaf_siz...</td>\n",
       "      <td>8.314381</td>\n",
       "      <td>2122.945014</td>\n",
       "      <td>date1</td>\n",
       "    </tr>\n",
       "    <tr>\n",
       "      <td>0</td>\n",
       "      <td>KNeighborsRegressor(algorithm='auto', leaf_siz...</td>\n",
       "      <td>5.222070</td>\n",
       "      <td>2030.379339</td>\n",
       "      <td>date2</td>\n",
       "    </tr>\n",
       "  </tbody>\n",
       "</table>\n",
       "</div>"
      ],
      "text/plain": [
       "                                                   0           1            2  \\\n",
       "0  LinearRegression(copy_X=True, fit_intercept=Tr...    2.644628  3027.029916   \n",
       "0  LinearRegression(copy_X=True, fit_intercept=Tr...    2.696262  3027.029916   \n",
       "0  LinearRegression(copy_X=True, fit_intercept=Tr...    0.497483  3027.029916   \n",
       "0  LinearRegression(copy_X=True, fit_intercept=Tr...    0.094058  6390.294219   \n",
       "0  LinearRegression(copy_X=True, fit_intercept=Tr...    0.006330  5937.866658   \n",
       "0  LGBMRegressor(bagging_fraction=0.8, boosting_t...    0.006330  4305.947244   \n",
       "0  SVR(C=1.0, cache_size=200, coef0=0.0, degree=3...  393.874830  3789.141500   \n",
       "0  SVR(C=1.0, cache_size=200, coef0=0.0, degree=3...  212.783699  3598.206500   \n",
       "0  KNeighborsRegressor(algorithm='auto', leaf_siz...    8.314381  2122.945014   \n",
       "0  KNeighborsRegressor(algorithm='auto', leaf_siz...    5.222070  2030.379339   \n",
       "\n",
       "       3  \n",
       "0  date1  \n",
       "0  date2  \n",
       "0  date1  \n",
       "0  date1  \n",
       "0  date2  \n",
       "0  date1  \n",
       "0  date1  \n",
       "0  date2  \n",
       "0  date1  \n",
       "0  date2  "
      ]
     },
     "metadata": {},
     "output_type": "display_data"
    }
   ],
   "source": [
    "display(df_TestModels)"
   ]
  },
  {
   "cell_type": "markdown",
   "metadata": {},
   "source": [
    "Лучше всего себя показала модель KNeighborsRegressor (RMSE 2030.379339, time 5.222070). Можно также заметить, что в качество моделей на альтернативном датафрейме date2 немного лучше, чем на основном date1. Т.е. в данном случае удаление пропущенных значений более целесообразно."
   ]
  },
  {
   "cell_type": "markdown",
   "metadata": {},
   "source": [
    "## Чек-лист проверки"
   ]
  },
  {
   "cell_type": "markdown",
   "metadata": {},
   "source": [
    "Поставьте 'x' в выполненных пунктах. Далее нажмите Shift+Enter."
   ]
  },
  {
   "cell_type": "markdown",
   "metadata": {},
   "source": [
    "- [x]  Jupyter Notebook открыт\n",
    "- [x]  Весь код выполняется без ошибок\n",
    "- [x]  Ячейки с кодом расположены в порядке исполнения\n",
    "- [x]  Выполнена загрузка и подготовка данных\n",
    "- [x]  Выполнено обучение моделей\n",
    "- [x]  Есть анализ скорости работы и качества моделей"
   ]
  }
 ],
 "metadata": {
  "kernelspec": {
   "display_name": "Python 3",
   "language": "python",
   "name": "python3"
  },
  "language_info": {
   "codemirror_mode": {
    "name": "ipython",
    "version": 3
   },
   "file_extension": ".py",
   "mimetype": "text/x-python",
   "name": "python",
   "nbconvert_exporter": "python",
   "pygments_lexer": "ipython3",
   "version": "3.8.3"
  },
  "toc": {
   "base_numbering": 1,
   "nav_menu": {},
   "number_sections": true,
   "sideBar": true,
   "skip_h1_title": true,
   "title_cell": "Table of Contents",
   "title_sidebar": "Contents",
   "toc_cell": false,
   "toc_position": {},
   "toc_section_display": true,
   "toc_window_display": false
  }
 },
 "nbformat": 4,
 "nbformat_minor": 2
}
