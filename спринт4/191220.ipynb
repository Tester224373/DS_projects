{
 "cells": [
  {
   "cell_type": "markdown",
   "metadata": {},
   "source": [
    "# Рекомендация тарифов"
   ]
  },
  {
   "cell_type": "markdown",
   "metadata": {},
   "source": [
    "В вашем распоряжении данные о поведении клиентов, которые уже перешли на эти тарифы (из проекта курса «Статистический анализ данных»). Нужно построить модель для задачи классификации, которая выберет подходящий тариф. Предобработка данных не понадобится — вы её уже сделали.\n",
    "\n",
    "Постройте модель с максимально большим значением *accuracy*. Чтобы сдать проект успешно, нужно довести долю правильных ответов по крайней мере до 0.75. Проверьте *accuracy* на тестовой выборке самостоятельно."
   ]
  },
  {
   "cell_type": "markdown",
   "metadata": {},
   "source": [
    "1. [Откройте и изучите файл](#shag_1)\n",
    "2. [Разбейте данные на выборки](#shag_2)\n",
    "3. [Исследуйте модели. Модель дерево.](#shag_3)\n",
    "4. [Модель случайный лес](#shag_4)\n",
    "5. [Проверьте модели на тестовой выборке](#shag_5)\n",
    "6. [Проверьте модели на адекватность](#shag_6)\n",
    "7. [Выводы](#shag_7)"
   ]
  },
  {
   "cell_type": "markdown",
   "metadata": {},
   "source": [
    "<a id='shag_1'></a>"
   ]
  },
  {
   "cell_type": "markdown",
   "metadata": {},
   "source": [
    "## 1. Откройте и изучите файл"
   ]
  },
  {
   "cell_type": "code",
   "execution_count": 17,
   "metadata": {},
   "outputs": [],
   "source": [
    "import pandas as pd\n",
    "import numpy as np\n",
    "import matplotlib.pyplot as plt\n",
    "import seaborn as sns; sns.set(style=\"ticks\", color_codes=True)\n",
    "import datetime\n",
    "import plotly.graph_objs as go\n",
    "from scipy import stats as st\n",
    "from scipy.stats import bartlett\n",
    "from plotly.offline import download_plotlyjs, init_notebook_mode, plot, iplot\n",
    "import pandas as pd\n",
    "from sklearn.ensemble import RandomForestRegressor\n",
    "from sklearn.model_selection import train_test_split\n",
    "from sklearn.metrics import mean_squared_error\n",
    "from sklearn.ensemble import RandomForestClassifier\n",
    "from sklearn.tree import DecisionTreeClassifier\n",
    "from sklearn.linear_model import LogisticRegression\n",
    "from sklearn.metrics import accuracy_score\n",
    "from sklearn.dummy import DummyClassifier\n"
   ]
  },
  {
   "cell_type": "code",
   "execution_count": 18,
   "metadata": {},
   "outputs": [
    {
     "name": "stdout",
     "output_type": "stream",
     "text": [
      "      calls  minutes  messages   mb_used  is_ultra\n",
      "0      40.0   311.90      83.0  19915.42         0\n",
      "1      85.0   516.75      56.0  22696.96         0\n",
      "2      77.0   467.66      86.0  21060.45         0\n",
      "3     106.0   745.53      81.0   8437.39         1\n",
      "4      66.0   418.74       1.0  14502.75         0\n",
      "...     ...      ...       ...       ...       ...\n",
      "3209  122.0   910.98      20.0  35124.90         1\n",
      "3210   25.0   190.36       0.0   3275.61         0\n",
      "3211   97.0   634.44      70.0  13974.06         0\n",
      "3212   64.0   462.32      90.0  31239.78         0\n",
      "3213   80.0   566.09       6.0  29480.52         1\n",
      "\n",
      "[3214 rows x 5 columns]\n"
     ]
    }
   ],
   "source": [
    "df = pd.read_csv('/datasets/users_behavior.csv')\n",
    "print(df)"
   ]
  },
  {
   "cell_type": "markdown",
   "metadata": {},
   "source": [
    "У моделей будет 4 признака: количество сообщений, мегабайт, минут и звонков, и 1 целевой параметр: тариф."
   ]
  },
  {
   "cell_type": "markdown",
   "metadata": {},
   "source": [
    "<a id='shag_2'></a>"
   ]
  },
  {
   "cell_type": "markdown",
   "metadata": {},
   "source": [
    "## 2. Разбейте данные на выборки"
   ]
  },
  {
   "cell_type": "code",
   "execution_count": 19,
   "metadata": {},
   "outputs": [],
   "source": [
    "features = df.drop('is_ultra',1)\n",
    "target = df['is_ultra']\n",
    "\n",
    "features2, features_test, target2, target_test = train_test_split(\n",
    "    features, target, test_size=0.20, random_state=12345) \n",
    "\n",
    "features_train, features_valid, target_train, target_valid = train_test_split(\n",
    "    features2, target2, test_size=0.25, random_state=12345) "
   ]
  },
  {
   "cell_type": "markdown",
   "metadata": {},
   "source": [
    "Разбил данные в пропорции 3:1:1 на обучающую выборку, валидационную и тестовую."
   ]
  },
  {
   "cell_type": "markdown",
   "metadata": {},
   "source": [
    "<a id='shag_3'></a>"
   ]
  },
  {
   "cell_type": "markdown",
   "metadata": {},
   "source": [
    "## 3. Исследуйте модели"
   ]
  },
  {
   "cell_type": "markdown",
   "metadata": {},
   "source": []
  },
  {
   "cell_type": "markdown",
   "metadata": {},
   "source": [
    "Исследуем модель дерево."
   ]
  },
  {
   "cell_type": "code",
   "execution_count": 20,
   "metadata": {},
   "outputs": [
    {
     "name": "stdout",
     "output_type": "stream",
     "text": [
      "точность 0.7744945567651633\n",
      "модель DecisionTreeClassifier(class_weight=None, criterion='gini', max_depth=7,\n",
      "                       max_features=None, max_leaf_nodes=None,\n",
      "                       min_impurity_decrease=0.0, min_impurity_split=None,\n",
      "                       min_samples_leaf=1, min_samples_split=2,\n",
      "                       min_weight_fraction_leaf=0.0, presort=False,\n",
      "                       random_state=12345, splitter='best')\n",
      "глубина 7\n"
     ]
    }
   ],
   "source": [
    "best_accuracy = 0\n",
    "best_result = 10000\n",
    "best_depth = 0\n",
    "for depth in range(1, 30):\n",
    "    model = DecisionTreeClassifier(random_state=12345, max_depth=depth)\n",
    "    model.fit(features_train,target_train)\n",
    "    predictions_valid = model.predict(features_valid) \n",
    "    accuracy = accuracy_score(target_valid, predictions_valid)\n",
    "    if accuracy > best_accuracy:\n",
    "        best_accuracy = accuracy\n",
    "        best_model = model\n",
    "        best_depth = depth\n",
    "print('точность', best_accuracy)    \n",
    "print('модель', best_model)\n",
    "print('глубина', best_depth)"
   ]
  },
  {
   "cell_type": "markdown",
   "metadata": {},
   "source": [
    "<a id='shag_4'></a>"
   ]
  },
  {
   "cell_type": "markdown",
   "metadata": {},
   "source": [
    "Исследуем модель \"случайный лес\"."
   ]
  },
  {
   "cell_type": "code",
   "execution_count": 21,
   "metadata": {},
   "outputs": [
    {
     "name": "stdout",
     "output_type": "stream",
     "text": [
      "Точность наилучшей модели на валидационной выборке: 0.80248833592535 Количество деревьев: 110 Максимальная глубина: 48\n"
     ]
    }
   ],
   "source": [
    "best_accuracy = 0\n",
    "best_result = 10000\n",
    "best_est = 0\n",
    "best_depth = 0\n",
    "for est in range(10, 121, 10):\n",
    "    for depth in range (10, 50, 2):\n",
    "        model = RandomForestClassifier(random_state=12345, n_estimators=est, max_depth=depth)\n",
    "        model.fit(features_train,target_train)\n",
    "        predictions_valid = model.predict(features_valid)\n",
    "        accuracy = accuracy_score(target_valid, predictions_valid)\n",
    "        if accuracy > best_accuracy:\n",
    "            best_accuracy = accuracy\n",
    "            best_model = model\n",
    "            best_est = est\n",
    "            best_depth = depth\n",
    "\n",
    "print(\"Точность наилучшей модели на валидационной выборке:\", best_accuracy, \"Количество деревьев:\", best_est,\n",
    "      \"Максимальная глубина:\", depth)"
   ]
  },
  {
   "cell_type": "markdown",
   "metadata": {},
   "source": [
    "<a id='shag_5'></a>"
   ]
  },
  {
   "cell_type": "markdown",
   "metadata": {},
   "source": [
    "## 4. Проверьте модель на тестовой выборке"
   ]
  },
  {
   "cell_type": "code",
   "execution_count": 22,
   "metadata": {},
   "outputs": [
    {
     "name": "stdout",
     "output_type": "stream",
     "text": [
      "Точность наилучшей модели: 0.7884914463452566\n"
     ]
    }
   ],
   "source": [
    "model = RandomForestClassifier(random_state=12345, n_estimators=110, max_depth=48)\n",
    "model.fit(features_train,target_train) \n",
    "predictions_test = model.predict(features_test)\n",
    "\n",
    "accuracy = accuracy_score(target_test, predictions_test)\n",
    "print(\"Точность наилучшей модели:\", accuracy)"
   ]
  },
  {
   "cell_type": "markdown",
   "metadata": {},
   "source": [
    "<a id='shag_6'></a>"
   ]
  },
  {
   "cell_type": "markdown",
   "metadata": {},
   "source": [
    "## 5. (бонус) Проверьте модели на адекватность"
   ]
  },
  {
   "cell_type": "code",
   "execution_count": 23,
   "metadata": {},
   "outputs": [
    {
     "name": "stdout",
     "output_type": "stream",
     "text": [
      "Точность простой модели: 0.6951788491446346\n"
     ]
    }
   ],
   "source": [
    "dummy_clf = DummyClassifier(strategy=\"most_frequent\", random_state=12345)\n",
    "dummy_clf.fit(features_train,target_train) \n",
    "predictions_valid = dummy_clf.predict(features_test)\n",
    "#dummy_clf.score(X, y)\n",
    "accuracy = accuracy_score(target_test, predictions_valid)\n",
    "print(\"Точность простой модели:\", accuracy)"
   ]
  },
  {
   "cell_type": "markdown",
   "metadata": {},
   "source": [
    "<a id='shag_7'></a>"
   ]
  },
  {
   "cell_type": "markdown",
   "metadata": {},
   "source": [
    "## Выводы"
   ]
  },
  {
   "cell_type": "markdown",
   "metadata": {},
   "source": [
    "Модель дерева показа точность равную 0.77, модель случайный лес - 0.80. В результате лучшей моделью признан случайный лес с параметрами Количество деревьев: 110 Максимальная глубина: 48. На тестовой выборке данная модель показала точность 0.788, что лучше простой модели с точностью 0.69."
   ]
  },
  {
   "cell_type": "markdown",
   "metadata": {},
   "source": [
    "## Чек-лист готовности проекта"
   ]
  },
  {
   "cell_type": "markdown",
   "metadata": {},
   "source": [
    "Поставьте 'x' в выполненных пунктах. Далее нажмите Shift+Enter."
   ]
  },
  {
   "cell_type": "markdown",
   "metadata": {},
   "source": [
    "- [x] Jupyter Notebook открыт\n",
    "- [x] Весь код исполняется без ошибок\n",
    "- [x] Ячейки с кодом расположены в порядке исполнения\n",
    "- [x] Выполнено задание 1: данные загружены и изучены\n",
    "- [x] Выполнено задание 2: данные разбиты на три выборки\n",
    "- [x] Выполнено задание 3: проведено исследование моделей\n",
    "    - [x] Рассмотрено больше одной модели\n",
    "    - [x] Рассмотрено хотя бы 3 значения гипепараметров для какой-нибудь модели\n",
    "    - [x] Написаны выводы по результатам исследования\n",
    "- [x] Выполнено задание 3: Проведено тестирование\n",
    "- [x] Удалось достичь accuracy не меньше 0.75\n"
   ]
  }
 ],
 "metadata": {
  "kernelspec": {
   "display_name": "Python 3",
   "language": "python",
   "name": "python3"
  },
  "language_info": {
   "codemirror_mode": {
    "name": "ipython",
    "version": 3
   },
   "file_extension": ".py",
   "mimetype": "text/x-python",
   "name": "python",
   "nbconvert_exporter": "python",
   "pygments_lexer": "ipython3",
   "version": "3.8.3"
  }
 },
 "nbformat": 4,
 "nbformat_minor": 2
}
