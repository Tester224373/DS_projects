{
 "cells": [
  {
   "cell_type": "markdown",
   "metadata": {},
   "source": [
    "# Отток клиентов"
   ]
  },
  {
   "cell_type": "markdown",
   "metadata": {},
   "source": [
    "Из «Бета-Банка» стали уходить клиенты. Каждый месяц. Немного, но заметно. Банковские маркетологи посчитали: сохранять текущих клиентов дешевле, чем привлекать новых.\n",
    "\n",
    "Нужно спрогнозировать, уйдёт клиент из банка в ближайшее время или нет. Вам предоставлены исторические данные о поведении клиентов и расторжении договоров с банком. \n",
    "\n",
    "Постройте модель с предельно большим значением *F1*-меры. Чтобы сдать проект успешно, нужно довести метрику до 0.59. Проверьте *F1*-меру на тестовой выборке самостоятельно.\n",
    "\n",
    "Дополнительно измеряйте *AUC-ROC*, сравнивайте её значение с *F1*-мерой.\n",
    "\n",
    "Источник данных: [https://www.kaggle.com/barelydedicated/bank-customer-churn-modeling](https://www.kaggle.com/barelydedicated/bank-customer-churn-modeling)"
   ]
  },
  {
   "cell_type": "markdown",
   "metadata": {},
   "source": [
    "1. [ПОДГОТОВКА ДАННЫХ](#shag_1)\n",
    "\n",
    "2. [ИССЛЕДОВАНИЕ ЗАДАЧИ](#shag_2)\n",
    "\n",
    "3. [БОРЬБА С ДИСБАЛАНСОМ](#shag_3)\n",
    "\n",
    "4. [ТЕСТИРОВАНИЕ МОДЕЛИ](#shag_4)\n"
   ]
  },
  {
   "cell_type": "markdown",
   "metadata": {},
   "source": [
    "<a id='shag_1'></a>"
   ]
  },
  {
   "cell_type": "markdown",
   "metadata": {},
   "source": [
    "# 1. Подготовка данных"
   ]
  },
  {
   "cell_type": "markdown",
   "metadata": {},
   "source": [
    "Нужно спрогнозировать, уйдёт клиент из банка в ближайшее время или нет. Вам предоставлены исторические данные о поведении клиентов и расторжении договоров с банком.\n",
    "Постройте модель с предельно большим значением F1-меры. Чтобы сдать проект успешно, нужно довести метрику до 0.59. Проверьте F1-меру на тестовой выборке самостоятельно.\n",
    "Дополнительно измеряйте AUC-ROC, сравнивайте её значение с F1-мерой.\n",
    "Инструкция по выполнению проекта\n",
    "Загрузите и подготовьте данные. Поясните порядок действий.\n",
    "Исследуйте баланс классов, обучите модель без учёта дисбаланса. Кратко опишите выводы.\n",
    "Улучшите качество модели, учитывая дисбаланс классов. Обучите разные модели и найдите лучшую. Кратко опишите выводы.\n",
    "Проведите финальное тестирование.\n",
    "\n",
    "Как вы готовите данные к обучению? Все ли типы признаков обрабатываете?\n",
    "Хорошо ли поясняете этапы предобработки?\n",
    "Как исследуете баланс классов?\n",
    "Изучаете ли модель без учёта дисбаланса классов?\n",
    "Какие выводы об исследовании задачи делаете?\n",
    "Корректно ли разбиваете данные на выборки?\n",
    "Как работаете с несбалансированными классами?\n",
    "Правильно ли проводите обучение, валидацию и финальное тестирование модели?\n",
    "Насколько высокое значение F1-меры получаете?\n",
    "Изучаете ли значения метрики AUC-ROC?\n",
    "Следите за структурой проекта и поддерживаете аккуратность кода?"
   ]
  },
  {
   "cell_type": "code",
   "execution_count": 4,
   "metadata": {},
   "outputs": [],
   "source": [
    "import pandas as pd\n",
    "import numpy as np\n",
    "import matplotlib.pyplot as plt\n",
    "import seaborn as sns; sns.set(style=\"ticks\", color_codes=True)\n",
    "import datetime\n",
    "#import plotly.graph_objs as go\n",
    "from scipy import stats as st\n",
    "from scipy.stats import bartlett\n",
    "#from plotly.offline import download_plotlyjs, init_notebook_mode, plot, iplot\n",
    "import pandas as pd\n",
    "from sklearn.ensemble import RandomForestRegressor\n",
    "from sklearn.model_selection import train_test_split\n",
    "from sklearn.ensemble import RandomForestClassifier\n",
    "from sklearn.tree import DecisionTreeClassifier\n",
    "from sklearn.linear_model import LogisticRegression\n",
    "from sklearn.dummy import DummyClassifier\n",
    "from sklearn.preprocessing import OrdinalEncoder, StandardScaler\n",
    "from sklearn.utils import shuffle\n",
    "from sklearn.metrics import precision_score, recall_score, roc_auc_score, f1_score, accuracy_score\n",
    "import random\n",
    "from sklearn.datasets import load_breast_cancer\n",
    "import warnings"
   ]
  },
  {
   "cell_type": "code",
   "execution_count": 5,
   "metadata": {},
   "outputs": [
    {
     "data": {
      "text/html": [
       "<div>\n",
       "<style scoped>\n",
       "    .dataframe tbody tr th:only-of-type {\n",
       "        vertical-align: middle;\n",
       "    }\n",
       "\n",
       "    .dataframe tbody tr th {\n",
       "        vertical-align: top;\n",
       "    }\n",
       "\n",
       "    .dataframe thead th {\n",
       "        text-align: right;\n",
       "    }\n",
       "</style>\n",
       "<table border=\"1\" class=\"dataframe\">\n",
       "  <thead>\n",
       "    <tr style=\"text-align: right;\">\n",
       "      <th></th>\n",
       "      <th>RowNumber</th>\n",
       "      <th>CustomerId</th>\n",
       "      <th>Surname</th>\n",
       "      <th>CreditScore</th>\n",
       "      <th>Geography</th>\n",
       "      <th>Gender</th>\n",
       "      <th>Age</th>\n",
       "      <th>Tenure</th>\n",
       "      <th>Balance</th>\n",
       "      <th>NumOfProducts</th>\n",
       "      <th>HasCrCard</th>\n",
       "      <th>IsActiveMember</th>\n",
       "      <th>EstimatedSalary</th>\n",
       "      <th>Exited</th>\n",
       "    </tr>\n",
       "  </thead>\n",
       "  <tbody>\n",
       "    <tr>\n",
       "      <td>0</td>\n",
       "      <td>1</td>\n",
       "      <td>15634602</td>\n",
       "      <td>Hargrave</td>\n",
       "      <td>619</td>\n",
       "      <td>France</td>\n",
       "      <td>Female</td>\n",
       "      <td>42</td>\n",
       "      <td>2.0</td>\n",
       "      <td>0.00</td>\n",
       "      <td>1</td>\n",
       "      <td>1</td>\n",
       "      <td>1</td>\n",
       "      <td>101348.88</td>\n",
       "      <td>1</td>\n",
       "    </tr>\n",
       "    <tr>\n",
       "      <td>1</td>\n",
       "      <td>2</td>\n",
       "      <td>15647311</td>\n",
       "      <td>Hill</td>\n",
       "      <td>608</td>\n",
       "      <td>Spain</td>\n",
       "      <td>Female</td>\n",
       "      <td>41</td>\n",
       "      <td>1.0</td>\n",
       "      <td>83807.86</td>\n",
       "      <td>1</td>\n",
       "      <td>0</td>\n",
       "      <td>1</td>\n",
       "      <td>112542.58</td>\n",
       "      <td>0</td>\n",
       "    </tr>\n",
       "    <tr>\n",
       "      <td>2</td>\n",
       "      <td>3</td>\n",
       "      <td>15619304</td>\n",
       "      <td>Onio</td>\n",
       "      <td>502</td>\n",
       "      <td>France</td>\n",
       "      <td>Female</td>\n",
       "      <td>42</td>\n",
       "      <td>8.0</td>\n",
       "      <td>159660.80</td>\n",
       "      <td>3</td>\n",
       "      <td>1</td>\n",
       "      <td>0</td>\n",
       "      <td>113931.57</td>\n",
       "      <td>1</td>\n",
       "    </tr>\n",
       "    <tr>\n",
       "      <td>3</td>\n",
       "      <td>4</td>\n",
       "      <td>15701354</td>\n",
       "      <td>Boni</td>\n",
       "      <td>699</td>\n",
       "      <td>France</td>\n",
       "      <td>Female</td>\n",
       "      <td>39</td>\n",
       "      <td>1.0</td>\n",
       "      <td>0.00</td>\n",
       "      <td>2</td>\n",
       "      <td>0</td>\n",
       "      <td>0</td>\n",
       "      <td>93826.63</td>\n",
       "      <td>0</td>\n",
       "    </tr>\n",
       "    <tr>\n",
       "      <td>4</td>\n",
       "      <td>5</td>\n",
       "      <td>15737888</td>\n",
       "      <td>Mitchell</td>\n",
       "      <td>850</td>\n",
       "      <td>Spain</td>\n",
       "      <td>Female</td>\n",
       "      <td>43</td>\n",
       "      <td>2.0</td>\n",
       "      <td>125510.82</td>\n",
       "      <td>1</td>\n",
       "      <td>1</td>\n",
       "      <td>1</td>\n",
       "      <td>79084.10</td>\n",
       "      <td>0</td>\n",
       "    </tr>\n",
       "    <tr>\n",
       "      <td>...</td>\n",
       "      <td>...</td>\n",
       "      <td>...</td>\n",
       "      <td>...</td>\n",
       "      <td>...</td>\n",
       "      <td>...</td>\n",
       "      <td>...</td>\n",
       "      <td>...</td>\n",
       "      <td>...</td>\n",
       "      <td>...</td>\n",
       "      <td>...</td>\n",
       "      <td>...</td>\n",
       "      <td>...</td>\n",
       "      <td>...</td>\n",
       "      <td>...</td>\n",
       "    </tr>\n",
       "    <tr>\n",
       "      <td>9995</td>\n",
       "      <td>9996</td>\n",
       "      <td>15606229</td>\n",
       "      <td>Obijiaku</td>\n",
       "      <td>771</td>\n",
       "      <td>France</td>\n",
       "      <td>Male</td>\n",
       "      <td>39</td>\n",
       "      <td>5.0</td>\n",
       "      <td>0.00</td>\n",
       "      <td>2</td>\n",
       "      <td>1</td>\n",
       "      <td>0</td>\n",
       "      <td>96270.64</td>\n",
       "      <td>0</td>\n",
       "    </tr>\n",
       "    <tr>\n",
       "      <td>9996</td>\n",
       "      <td>9997</td>\n",
       "      <td>15569892</td>\n",
       "      <td>Johnstone</td>\n",
       "      <td>516</td>\n",
       "      <td>France</td>\n",
       "      <td>Male</td>\n",
       "      <td>35</td>\n",
       "      <td>10.0</td>\n",
       "      <td>57369.61</td>\n",
       "      <td>1</td>\n",
       "      <td>1</td>\n",
       "      <td>1</td>\n",
       "      <td>101699.77</td>\n",
       "      <td>0</td>\n",
       "    </tr>\n",
       "    <tr>\n",
       "      <td>9997</td>\n",
       "      <td>9998</td>\n",
       "      <td>15584532</td>\n",
       "      <td>Liu</td>\n",
       "      <td>709</td>\n",
       "      <td>France</td>\n",
       "      <td>Female</td>\n",
       "      <td>36</td>\n",
       "      <td>7.0</td>\n",
       "      <td>0.00</td>\n",
       "      <td>1</td>\n",
       "      <td>0</td>\n",
       "      <td>1</td>\n",
       "      <td>42085.58</td>\n",
       "      <td>1</td>\n",
       "    </tr>\n",
       "    <tr>\n",
       "      <td>9998</td>\n",
       "      <td>9999</td>\n",
       "      <td>15682355</td>\n",
       "      <td>Sabbatini</td>\n",
       "      <td>772</td>\n",
       "      <td>Germany</td>\n",
       "      <td>Male</td>\n",
       "      <td>42</td>\n",
       "      <td>3.0</td>\n",
       "      <td>75075.31</td>\n",
       "      <td>2</td>\n",
       "      <td>1</td>\n",
       "      <td>0</td>\n",
       "      <td>92888.52</td>\n",
       "      <td>1</td>\n",
       "    </tr>\n",
       "    <tr>\n",
       "      <td>9999</td>\n",
       "      <td>10000</td>\n",
       "      <td>15628319</td>\n",
       "      <td>Walker</td>\n",
       "      <td>792</td>\n",
       "      <td>France</td>\n",
       "      <td>Female</td>\n",
       "      <td>28</td>\n",
       "      <td>NaN</td>\n",
       "      <td>130142.79</td>\n",
       "      <td>1</td>\n",
       "      <td>1</td>\n",
       "      <td>0</td>\n",
       "      <td>38190.78</td>\n",
       "      <td>0</td>\n",
       "    </tr>\n",
       "  </tbody>\n",
       "</table>\n",
       "<p>10000 rows × 14 columns</p>\n",
       "</div>"
      ],
      "text/plain": [
       "      RowNumber  CustomerId    Surname  CreditScore Geography  Gender  Age  \\\n",
       "0             1    15634602   Hargrave          619    France  Female   42   \n",
       "1             2    15647311       Hill          608     Spain  Female   41   \n",
       "2             3    15619304       Onio          502    France  Female   42   \n",
       "3             4    15701354       Boni          699    France  Female   39   \n",
       "4             5    15737888   Mitchell          850     Spain  Female   43   \n",
       "...         ...         ...        ...          ...       ...     ...  ...   \n",
       "9995       9996    15606229   Obijiaku          771    France    Male   39   \n",
       "9996       9997    15569892  Johnstone          516    France    Male   35   \n",
       "9997       9998    15584532        Liu          709    France  Female   36   \n",
       "9998       9999    15682355  Sabbatini          772   Germany    Male   42   \n",
       "9999      10000    15628319     Walker          792    France  Female   28   \n",
       "\n",
       "      Tenure    Balance  NumOfProducts  HasCrCard  IsActiveMember  \\\n",
       "0        2.0       0.00              1          1               1   \n",
       "1        1.0   83807.86              1          0               1   \n",
       "2        8.0  159660.80              3          1               0   \n",
       "3        1.0       0.00              2          0               0   \n",
       "4        2.0  125510.82              1          1               1   \n",
       "...      ...        ...            ...        ...             ...   \n",
       "9995     5.0       0.00              2          1               0   \n",
       "9996    10.0   57369.61              1          1               1   \n",
       "9997     7.0       0.00              1          0               1   \n",
       "9998     3.0   75075.31              2          1               0   \n",
       "9999     NaN  130142.79              1          1               0   \n",
       "\n",
       "      EstimatedSalary  Exited  \n",
       "0           101348.88       1  \n",
       "1           112542.58       0  \n",
       "2           113931.57       1  \n",
       "3            93826.63       0  \n",
       "4            79084.10       0  \n",
       "...               ...     ...  \n",
       "9995         96270.64       0  \n",
       "9996        101699.77       0  \n",
       "9997         42085.58       1  \n",
       "9998         92888.52       1  \n",
       "9999         38190.78       0  \n",
       "\n",
       "[10000 rows x 14 columns]"
      ]
     },
     "metadata": {},
     "output_type": "display_data"
    },
    {
     "name": "stdout",
     "output_type": "stream",
     "text": [
      "<class 'pandas.core.frame.DataFrame'>\n",
      "RangeIndex: 10000 entries, 0 to 9999\n",
      "Data columns (total 14 columns):\n",
      "RowNumber          10000 non-null int64\n",
      "CustomerId         10000 non-null int64\n",
      "Surname            10000 non-null object\n",
      "CreditScore        10000 non-null int64\n",
      "Geography          10000 non-null object\n",
      "Gender             10000 non-null object\n",
      "Age                10000 non-null int64\n",
      "Tenure             9091 non-null float64\n",
      "Balance            10000 non-null float64\n",
      "NumOfProducts      10000 non-null int64\n",
      "HasCrCard          10000 non-null int64\n",
      "IsActiveMember     10000 non-null int64\n",
      "EstimatedSalary    10000 non-null float64\n",
      "Exited             10000 non-null int64\n",
      "dtypes: float64(3), int64(8), object(3)\n",
      "memory usage: 1.1+ MB\n",
      "None\n"
     ]
    }
   ],
   "source": [
    "data = pd.read_csv('/datasets/Churn.csv')\n",
    "display(data)\n",
    "print(data.info())"
   ]
  },
  {
   "cell_type": "markdown",
   "metadata": {},
   "source": [
    "Номер строки, айди и имя не влияют на результат. Избавимся от этих столбцов. Также видим, что Tenure имеет пропущенные значения."
   ]
  },
  {
   "cell_type": "code",
   "execution_count": 6,
   "metadata": {},
   "outputs": [],
   "source": [
    "data = data.drop(['RowNumber', 'CustomerId', 'Surname'], axis=1)\n",
    "#data.Tenure.fillna(0, inplace=True)"
   ]
  },
  {
   "cell_type": "code",
   "execution_count": 7,
   "metadata": {},
   "outputs": [
    {
     "data": {
      "text/html": [
       "<style  type=\"text/css\" >\n",
       "    #T_dd230890_5b46_11eb_9d1a_02420a39b8fbrow0_col0 {\n",
       "            background-color:  #b40426;\n",
       "            color:  #f1f1f1;\n",
       "        }    #T_dd230890_5b46_11eb_9d1a_02420a39b8fbrow0_col1 {\n",
       "            background-color:  #4257c9;\n",
       "            color:  #f1f1f1;\n",
       "        }    #T_dd230890_5b46_11eb_9d1a_02420a39b8fbrow0_col2 {\n",
       "            background-color:  #4358cb;\n",
       "            color:  #f1f1f1;\n",
       "        }    #T_dd230890_5b46_11eb_9d1a_02420a39b8fbrow0_col3 {\n",
       "            background-color:  #88abfd;\n",
       "            color:  #000000;\n",
       "        }    #T_dd230890_5b46_11eb_9d1a_02420a39b8fbrow0_col4 {\n",
       "            background-color:  #8badfd;\n",
       "            color:  #000000;\n",
       "        }    #T_dd230890_5b46_11eb_9d1a_02420a39b8fbrow0_col5 {\n",
       "            background-color:  #3d50c3;\n",
       "            color:  #f1f1f1;\n",
       "        }    #T_dd230890_5b46_11eb_9d1a_02420a39b8fbrow0_col6 {\n",
       "            background-color:  #6c8ff1;\n",
       "            color:  #000000;\n",
       "        }    #T_dd230890_5b46_11eb_9d1a_02420a39b8fbrow0_col7 {\n",
       "            background-color:  #3d50c3;\n",
       "            color:  #f1f1f1;\n",
       "        }    #T_dd230890_5b46_11eb_9d1a_02420a39b8fbrow0_col8 {\n",
       "            background-color:  #5d7ce6;\n",
       "            color:  #000000;\n",
       "        }    #T_dd230890_5b46_11eb_9d1a_02420a39b8fbrow1_col0 {\n",
       "            background-color:  #4055c8;\n",
       "            color:  #f1f1f1;\n",
       "        }    #T_dd230890_5b46_11eb_9d1a_02420a39b8fbrow1_col1 {\n",
       "            background-color:  #b40426;\n",
       "            color:  #f1f1f1;\n",
       "        }    #T_dd230890_5b46_11eb_9d1a_02420a39b8fbrow1_col2 {\n",
       "            background-color:  #3f53c6;\n",
       "            color:  #f1f1f1;\n",
       "        }    #T_dd230890_5b46_11eb_9d1a_02420a39b8fbrow1_col3 {\n",
       "            background-color:  #8fb1fe;\n",
       "            color:  #000000;\n",
       "        }    #T_dd230890_5b46_11eb_9d1a_02420a39b8fbrow1_col4 {\n",
       "            background-color:  #7ea1fa;\n",
       "            color:  #000000;\n",
       "        }    #T_dd230890_5b46_11eb_9d1a_02420a39b8fbrow1_col5 {\n",
       "            background-color:  #3b4cc0;\n",
       "            color:  #f1f1f1;\n",
       "        }    #T_dd230890_5b46_11eb_9d1a_02420a39b8fbrow1_col6 {\n",
       "            background-color:  #7ea1fa;\n",
       "            color:  #000000;\n",
       "        }    #T_dd230890_5b46_11eb_9d1a_02420a39b8fbrow1_col7 {\n",
       "            background-color:  #3c4ec2;\n",
       "            color:  #f1f1f1;\n",
       "        }    #T_dd230890_5b46_11eb_9d1a_02420a39b8fbrow1_col8 {\n",
       "            background-color:  #bad0f8;\n",
       "            color:  #000000;\n",
       "        }    #T_dd230890_5b46_11eb_9d1a_02420a39b8fbrow2_col0 {\n",
       "            background-color:  #4257c9;\n",
       "            color:  #f1f1f1;\n",
       "        }    #T_dd230890_5b46_11eb_9d1a_02420a39b8fbrow2_col1 {\n",
       "            background-color:  #3f53c6;\n",
       "            color:  #f1f1f1;\n",
       "        }    #T_dd230890_5b46_11eb_9d1a_02420a39b8fbrow2_col2 {\n",
       "            background-color:  #b40426;\n",
       "            color:  #f1f1f1;\n",
       "        }    #T_dd230890_5b46_11eb_9d1a_02420a39b8fbrow2_col3 {\n",
       "            background-color:  #85a8fc;\n",
       "            color:  #000000;\n",
       "        }    #T_dd230890_5b46_11eb_9d1a_02420a39b8fbrow2_col4 {\n",
       "            background-color:  #8badfd;\n",
       "            color:  #000000;\n",
       "        }    #T_dd230890_5b46_11eb_9d1a_02420a39b8fbrow2_col5 {\n",
       "            background-color:  #465ecf;\n",
       "            color:  #f1f1f1;\n",
       "        }    #T_dd230890_5b46_11eb_9d1a_02420a39b8fbrow2_col6 {\n",
       "            background-color:  #5b7ae5;\n",
       "            color:  #000000;\n",
       "        }    #T_dd230890_5b46_11eb_9d1a_02420a39b8fbrow2_col7 {\n",
       "            background-color:  #4055c8;\n",
       "            color:  #f1f1f1;\n",
       "        }    #T_dd230890_5b46_11eb_9d1a_02420a39b8fbrow2_col8 {\n",
       "            background-color:  #5f7fe8;\n",
       "            color:  #000000;\n",
       "        }    #T_dd230890_5b46_11eb_9d1a_02420a39b8fbrow3_col0 {\n",
       "            background-color:  #445acc;\n",
       "            color:  #f1f1f1;\n",
       "        }    #T_dd230890_5b46_11eb_9d1a_02420a39b8fbrow3_col1 {\n",
       "            background-color:  #4b64d5;\n",
       "            color:  #f1f1f1;\n",
       "        }    #T_dd230890_5b46_11eb_9d1a_02420a39b8fbrow3_col2 {\n",
       "            background-color:  #4257c9;\n",
       "            color:  #f1f1f1;\n",
       "        }    #T_dd230890_5b46_11eb_9d1a_02420a39b8fbrow3_col3 {\n",
       "            background-color:  #b40426;\n",
       "            color:  #f1f1f1;\n",
       "        }    #T_dd230890_5b46_11eb_9d1a_02420a39b8fbrow3_col4 {\n",
       "            background-color:  #3b4cc0;\n",
       "            color:  #f1f1f1;\n",
       "        }    #T_dd230890_5b46_11eb_9d1a_02420a39b8fbrow3_col5 {\n",
       "            background-color:  #3b4cc0;\n",
       "            color:  #f1f1f1;\n",
       "        }    #T_dd230890_5b46_11eb_9d1a_02420a39b8fbrow3_col6 {\n",
       "            background-color:  #6282ea;\n",
       "            color:  #000000;\n",
       "        }    #T_dd230890_5b46_11eb_9d1a_02420a39b8fbrow3_col7 {\n",
       "            background-color:  #4257c9;\n",
       "            color:  #f1f1f1;\n",
       "        }    #T_dd230890_5b46_11eb_9d1a_02420a39b8fbrow3_col8 {\n",
       "            background-color:  #88abfd;\n",
       "            color:  #000000;\n",
       "        }    #T_dd230890_5b46_11eb_9d1a_02420a39b8fbrow4_col0 {\n",
       "            background-color:  #455cce;\n",
       "            color:  #f1f1f1;\n",
       "        }    #T_dd230890_5b46_11eb_9d1a_02420a39b8fbrow4_col1 {\n",
       "            background-color:  #3b4cc0;\n",
       "            color:  #f1f1f1;\n",
       "        }    #T_dd230890_5b46_11eb_9d1a_02420a39b8fbrow4_col2 {\n",
       "            background-color:  #465ecf;\n",
       "            color:  #f1f1f1;\n",
       "        }    #T_dd230890_5b46_11eb_9d1a_02420a39b8fbrow4_col3 {\n",
       "            background-color:  #3b4cc0;\n",
       "            color:  #f1f1f1;\n",
       "        }    #T_dd230890_5b46_11eb_9d1a_02420a39b8fbrow4_col4 {\n",
       "            background-color:  #b40426;\n",
       "            color:  #f1f1f1;\n",
       "        }    #T_dd230890_5b46_11eb_9d1a_02420a39b8fbrow4_col5 {\n",
       "            background-color:  #3f53c6;\n",
       "            color:  #f1f1f1;\n",
       "        }    #T_dd230890_5b46_11eb_9d1a_02420a39b8fbrow4_col6 {\n",
       "            background-color:  #6788ee;\n",
       "            color:  #000000;\n",
       "        }    #T_dd230890_5b46_11eb_9d1a_02420a39b8fbrow4_col7 {\n",
       "            background-color:  #4257c9;\n",
       "            color:  #f1f1f1;\n",
       "        }    #T_dd230890_5b46_11eb_9d1a_02420a39b8fbrow4_col8 {\n",
       "            background-color:  #5673e0;\n",
       "            color:  #000000;\n",
       "        }    #T_dd230890_5b46_11eb_9d1a_02420a39b8fbrow5_col0 {\n",
       "            background-color:  #4055c8;\n",
       "            color:  #f1f1f1;\n",
       "        }    #T_dd230890_5b46_11eb_9d1a_02420a39b8fbrow5_col1 {\n",
       "            background-color:  #3f53c6;\n",
       "            color:  #f1f1f1;\n",
       "        }    #T_dd230890_5b46_11eb_9d1a_02420a39b8fbrow5_col2 {\n",
       "            background-color:  #4b64d5;\n",
       "            color:  #f1f1f1;\n",
       "        }    #T_dd230890_5b46_11eb_9d1a_02420a39b8fbrow5_col3 {\n",
       "            background-color:  #82a6fb;\n",
       "            color:  #000000;\n",
       "        }    #T_dd230890_5b46_11eb_9d1a_02420a39b8fbrow5_col4 {\n",
       "            background-color:  #88abfd;\n",
       "            color:  #000000;\n",
       "        }    #T_dd230890_5b46_11eb_9d1a_02420a39b8fbrow5_col5 {\n",
       "            background-color:  #b40426;\n",
       "            color:  #f1f1f1;\n",
       "        }    #T_dd230890_5b46_11eb_9d1a_02420a39b8fbrow5_col6 {\n",
       "            background-color:  #6180e9;\n",
       "            color:  #000000;\n",
       "        }    #T_dd230890_5b46_11eb_9d1a_02420a39b8fbrow5_col7 {\n",
       "            background-color:  #3b4cc0;\n",
       "            color:  #f1f1f1;\n",
       "        }    #T_dd230890_5b46_11eb_9d1a_02420a39b8fbrow5_col8 {\n",
       "            background-color:  #6282ea;\n",
       "            color:  #000000;\n",
       "        }    #T_dd230890_5b46_11eb_9d1a_02420a39b8fbrow6_col0 {\n",
       "            background-color:  #4a63d3;\n",
       "            color:  #f1f1f1;\n",
       "        }    #T_dd230890_5b46_11eb_9d1a_02420a39b8fbrow6_col1 {\n",
       "            background-color:  #5d7ce6;\n",
       "            color:  #000000;\n",
       "        }    #T_dd230890_5b46_11eb_9d1a_02420a39b8fbrow6_col2 {\n",
       "            background-color:  #3b4cc0;\n",
       "            color:  #f1f1f1;\n",
       "        }    #T_dd230890_5b46_11eb_9d1a_02420a39b8fbrow6_col3 {\n",
       "            background-color:  #84a7fc;\n",
       "            color:  #000000;\n",
       "        }    #T_dd230890_5b46_11eb_9d1a_02420a39b8fbrow6_col4 {\n",
       "            background-color:  #89acfd;\n",
       "            color:  #000000;\n",
       "        }    #T_dd230890_5b46_11eb_9d1a_02420a39b8fbrow6_col5 {\n",
       "            background-color:  #3b4cc0;\n",
       "            color:  #f1f1f1;\n",
       "        }    #T_dd230890_5b46_11eb_9d1a_02420a39b8fbrow6_col6 {\n",
       "            background-color:  #b40426;\n",
       "            color:  #f1f1f1;\n",
       "        }    #T_dd230890_5b46_11eb_9d1a_02420a39b8fbrow6_col7 {\n",
       "            background-color:  #3b4cc0;\n",
       "            color:  #f1f1f1;\n",
       "        }    #T_dd230890_5b46_11eb_9d1a_02420a39b8fbrow6_col8 {\n",
       "            background-color:  #3b4cc0;\n",
       "            color:  #f1f1f1;\n",
       "        }    #T_dd230890_5b46_11eb_9d1a_02420a39b8fbrow7_col0 {\n",
       "            background-color:  #4257c9;\n",
       "            color:  #f1f1f1;\n",
       "        }    #T_dd230890_5b46_11eb_9d1a_02420a39b8fbrow7_col1 {\n",
       "            background-color:  #4055c8;\n",
       "            color:  #f1f1f1;\n",
       "        }    #T_dd230890_5b46_11eb_9d1a_02420a39b8fbrow7_col2 {\n",
       "            background-color:  #465ecf;\n",
       "            color:  #f1f1f1;\n",
       "        }    #T_dd230890_5b46_11eb_9d1a_02420a39b8fbrow7_col3 {\n",
       "            background-color:  #8badfd;\n",
       "            color:  #000000;\n",
       "        }    #T_dd230890_5b46_11eb_9d1a_02420a39b8fbrow7_col4 {\n",
       "            background-color:  #8badfd;\n",
       "            color:  #000000;\n",
       "        }    #T_dd230890_5b46_11eb_9d1a_02420a39b8fbrow7_col5 {\n",
       "            background-color:  #3c4ec2;\n",
       "            color:  #f1f1f1;\n",
       "        }    #T_dd230890_5b46_11eb_9d1a_02420a39b8fbrow7_col6 {\n",
       "            background-color:  #6282ea;\n",
       "            color:  #000000;\n",
       "        }    #T_dd230890_5b46_11eb_9d1a_02420a39b8fbrow7_col7 {\n",
       "            background-color:  #b40426;\n",
       "            color:  #f1f1f1;\n",
       "        }    #T_dd230890_5b46_11eb_9d1a_02420a39b8fbrow7_col8 {\n",
       "            background-color:  #688aef;\n",
       "            color:  #000000;\n",
       "        }    #T_dd230890_5b46_11eb_9d1a_02420a39b8fbrow8_col0 {\n",
       "            background-color:  #3b4cc0;\n",
       "            color:  #f1f1f1;\n",
       "        }    #T_dd230890_5b46_11eb_9d1a_02420a39b8fbrow8_col1 {\n",
       "            background-color:  #a1c0ff;\n",
       "            color:  #000000;\n",
       "        }    #T_dd230890_5b46_11eb_9d1a_02420a39b8fbrow8_col2 {\n",
       "            background-color:  #3e51c5;\n",
       "            color:  #f1f1f1;\n",
       "        }    #T_dd230890_5b46_11eb_9d1a_02420a39b8fbrow8_col3 {\n",
       "            background-color:  #a6c4fe;\n",
       "            color:  #000000;\n",
       "        }    #T_dd230890_5b46_11eb_9d1a_02420a39b8fbrow8_col4 {\n",
       "            background-color:  #7a9df8;\n",
       "            color:  #000000;\n",
       "        }    #T_dd230890_5b46_11eb_9d1a_02420a39b8fbrow8_col5 {\n",
       "            background-color:  #3c4ec2;\n",
       "            color:  #f1f1f1;\n",
       "        }    #T_dd230890_5b46_11eb_9d1a_02420a39b8fbrow8_col6 {\n",
       "            background-color:  #3b4cc0;\n",
       "            color:  #f1f1f1;\n",
       "        }    #T_dd230890_5b46_11eb_9d1a_02420a39b8fbrow8_col7 {\n",
       "            background-color:  #4055c8;\n",
       "            color:  #f1f1f1;\n",
       "        }    #T_dd230890_5b46_11eb_9d1a_02420a39b8fbrow8_col8 {\n",
       "            background-color:  #b40426;\n",
       "            color:  #f1f1f1;\n",
       "        }</style><table id=\"T_dd230890_5b46_11eb_9d1a_02420a39b8fb\" ><thead>    <tr>        <th class=\"blank level0\" ></th>        <th class=\"col_heading level0 col0\" >CreditScore</th>        <th class=\"col_heading level0 col1\" >Age</th>        <th class=\"col_heading level0 col2\" >Tenure</th>        <th class=\"col_heading level0 col3\" >Balance</th>        <th class=\"col_heading level0 col4\" >NumOfProducts</th>        <th class=\"col_heading level0 col5\" >HasCrCard</th>        <th class=\"col_heading level0 col6\" >IsActiveMember</th>        <th class=\"col_heading level0 col7\" >EstimatedSalary</th>        <th class=\"col_heading level0 col8\" >Exited</th>    </tr></thead><tbody>\n",
       "                <tr>\n",
       "                        <th id=\"T_dd230890_5b46_11eb_9d1a_02420a39b8fblevel0_row0\" class=\"row_heading level0 row0\" >CreditScore</th>\n",
       "                        <td id=\"T_dd230890_5b46_11eb_9d1a_02420a39b8fbrow0_col0\" class=\"data row0 col0\" >1</td>\n",
       "                        <td id=\"T_dd230890_5b46_11eb_9d1a_02420a39b8fbrow0_col1\" class=\"data row0 col1\" >-0.004</td>\n",
       "                        <td id=\"T_dd230890_5b46_11eb_9d1a_02420a39b8fbrow0_col2\" class=\"data row0 col2\" >-6.2e-05</td>\n",
       "                        <td id=\"T_dd230890_5b46_11eb_9d1a_02420a39b8fbrow0_col3\" class=\"data row0 col3\" >0.0063</td>\n",
       "                        <td id=\"T_dd230890_5b46_11eb_9d1a_02420a39b8fbrow0_col4\" class=\"data row0 col4\" >0.012</td>\n",
       "                        <td id=\"T_dd230890_5b46_11eb_9d1a_02420a39b8fbrow0_col5\" class=\"data row0 col5\" >-0.0055</td>\n",
       "                        <td id=\"T_dd230890_5b46_11eb_9d1a_02420a39b8fbrow0_col6\" class=\"data row0 col6\" >0.026</td>\n",
       "                        <td id=\"T_dd230890_5b46_11eb_9d1a_02420a39b8fbrow0_col7\" class=\"data row0 col7\" >-0.0014</td>\n",
       "                        <td id=\"T_dd230890_5b46_11eb_9d1a_02420a39b8fbrow0_col8\" class=\"data row0 col8\" >-0.027</td>\n",
       "            </tr>\n",
       "            <tr>\n",
       "                        <th id=\"T_dd230890_5b46_11eb_9d1a_02420a39b8fblevel0_row1\" class=\"row_heading level0 row1\" >Age</th>\n",
       "                        <td id=\"T_dd230890_5b46_11eb_9d1a_02420a39b8fbrow1_col0\" class=\"data row1 col0\" >-0.004</td>\n",
       "                        <td id=\"T_dd230890_5b46_11eb_9d1a_02420a39b8fbrow1_col1\" class=\"data row1 col1\" >1</td>\n",
       "                        <td id=\"T_dd230890_5b46_11eb_9d1a_02420a39b8fbrow1_col2\" class=\"data row1 col2\" >-0.013</td>\n",
       "                        <td id=\"T_dd230890_5b46_11eb_9d1a_02420a39b8fbrow1_col3\" class=\"data row1 col3\" >0.028</td>\n",
       "                        <td id=\"T_dd230890_5b46_11eb_9d1a_02420a39b8fbrow1_col4\" class=\"data row1 col4\" >-0.031</td>\n",
       "                        <td id=\"T_dd230890_5b46_11eb_9d1a_02420a39b8fbrow1_col5\" class=\"data row1 col5\" >-0.012</td>\n",
       "                        <td id=\"T_dd230890_5b46_11eb_9d1a_02420a39b8fbrow1_col6\" class=\"data row1 col6\" >0.085</td>\n",
       "                        <td id=\"T_dd230890_5b46_11eb_9d1a_02420a39b8fbrow1_col7\" class=\"data row1 col7\" >-0.0072</td>\n",
       "                        <td id=\"T_dd230890_5b46_11eb_9d1a_02420a39b8fbrow1_col8\" class=\"data row1 col8\" >0.29</td>\n",
       "            </tr>\n",
       "            <tr>\n",
       "                        <th id=\"T_dd230890_5b46_11eb_9d1a_02420a39b8fblevel0_row2\" class=\"row_heading level0 row2\" >Tenure</th>\n",
       "                        <td id=\"T_dd230890_5b46_11eb_9d1a_02420a39b8fbrow2_col0\" class=\"data row2 col0\" >-6.2e-05</td>\n",
       "                        <td id=\"T_dd230890_5b46_11eb_9d1a_02420a39b8fbrow2_col1\" class=\"data row2 col1\" >-0.013</td>\n",
       "                        <td id=\"T_dd230890_5b46_11eb_9d1a_02420a39b8fbrow2_col2\" class=\"data row2 col2\" >1</td>\n",
       "                        <td id=\"T_dd230890_5b46_11eb_9d1a_02420a39b8fbrow2_col3\" class=\"data row2 col3\" >-0.0079</td>\n",
       "                        <td id=\"T_dd230890_5b46_11eb_9d1a_02420a39b8fbrow2_col4\" class=\"data row2 col4\" >0.012</td>\n",
       "                        <td id=\"T_dd230890_5b46_11eb_9d1a_02420a39b8fbrow2_col5\" class=\"data row2 col5\" >0.027</td>\n",
       "                        <td id=\"T_dd230890_5b46_11eb_9d1a_02420a39b8fbrow2_col6\" class=\"data row2 col6\" >-0.032</td>\n",
       "                        <td id=\"T_dd230890_5b46_11eb_9d1a_02420a39b8fbrow2_col7\" class=\"data row2 col7\" >0.011</td>\n",
       "                        <td id=\"T_dd230890_5b46_11eb_9d1a_02420a39b8fbrow2_col8\" class=\"data row2 col8\" >-0.017</td>\n",
       "            </tr>\n",
       "            <tr>\n",
       "                        <th id=\"T_dd230890_5b46_11eb_9d1a_02420a39b8fblevel0_row3\" class=\"row_heading level0 row3\" >Balance</th>\n",
       "                        <td id=\"T_dd230890_5b46_11eb_9d1a_02420a39b8fbrow3_col0\" class=\"data row3 col0\" >0.0063</td>\n",
       "                        <td id=\"T_dd230890_5b46_11eb_9d1a_02420a39b8fbrow3_col1\" class=\"data row3 col1\" >0.028</td>\n",
       "                        <td id=\"T_dd230890_5b46_11eb_9d1a_02420a39b8fbrow3_col2\" class=\"data row3 col2\" >-0.0079</td>\n",
       "                        <td id=\"T_dd230890_5b46_11eb_9d1a_02420a39b8fbrow3_col3\" class=\"data row3 col3\" >1</td>\n",
       "                        <td id=\"T_dd230890_5b46_11eb_9d1a_02420a39b8fbrow3_col4\" class=\"data row3 col4\" >-0.3</td>\n",
       "                        <td id=\"T_dd230890_5b46_11eb_9d1a_02420a39b8fbrow3_col5\" class=\"data row3 col5\" >-0.015</td>\n",
       "                        <td id=\"T_dd230890_5b46_11eb_9d1a_02420a39b8fbrow3_col6\" class=\"data row3 col6\" >-0.01</td>\n",
       "                        <td id=\"T_dd230890_5b46_11eb_9d1a_02420a39b8fbrow3_col7\" class=\"data row3 col7\" >0.013</td>\n",
       "                        <td id=\"T_dd230890_5b46_11eb_9d1a_02420a39b8fbrow3_col8\" class=\"data row3 col8\" >0.12</td>\n",
       "            </tr>\n",
       "            <tr>\n",
       "                        <th id=\"T_dd230890_5b46_11eb_9d1a_02420a39b8fblevel0_row4\" class=\"row_heading level0 row4\" >NumOfProducts</th>\n",
       "                        <td id=\"T_dd230890_5b46_11eb_9d1a_02420a39b8fbrow4_col0\" class=\"data row4 col0\" >0.012</td>\n",
       "                        <td id=\"T_dd230890_5b46_11eb_9d1a_02420a39b8fbrow4_col1\" class=\"data row4 col1\" >-0.031</td>\n",
       "                        <td id=\"T_dd230890_5b46_11eb_9d1a_02420a39b8fbrow4_col2\" class=\"data row4 col2\" >0.012</td>\n",
       "                        <td id=\"T_dd230890_5b46_11eb_9d1a_02420a39b8fbrow4_col3\" class=\"data row4 col3\" >-0.3</td>\n",
       "                        <td id=\"T_dd230890_5b46_11eb_9d1a_02420a39b8fbrow4_col4\" class=\"data row4 col4\" >1</td>\n",
       "                        <td id=\"T_dd230890_5b46_11eb_9d1a_02420a39b8fbrow4_col5\" class=\"data row4 col5\" >0.0032</td>\n",
       "                        <td id=\"T_dd230890_5b46_11eb_9d1a_02420a39b8fbrow4_col6\" class=\"data row4 col6\" >0.0096</td>\n",
       "                        <td id=\"T_dd230890_5b46_11eb_9d1a_02420a39b8fbrow4_col7\" class=\"data row4 col7\" >0.014</td>\n",
       "                        <td id=\"T_dd230890_5b46_11eb_9d1a_02420a39b8fbrow4_col8\" class=\"data row4 col8\" >-0.048</td>\n",
       "            </tr>\n",
       "            <tr>\n",
       "                        <th id=\"T_dd230890_5b46_11eb_9d1a_02420a39b8fblevel0_row5\" class=\"row_heading level0 row5\" >HasCrCard</th>\n",
       "                        <td id=\"T_dd230890_5b46_11eb_9d1a_02420a39b8fbrow5_col0\" class=\"data row5 col0\" >-0.0055</td>\n",
       "                        <td id=\"T_dd230890_5b46_11eb_9d1a_02420a39b8fbrow5_col1\" class=\"data row5 col1\" >-0.012</td>\n",
       "                        <td id=\"T_dd230890_5b46_11eb_9d1a_02420a39b8fbrow5_col2\" class=\"data row5 col2\" >0.027</td>\n",
       "                        <td id=\"T_dd230890_5b46_11eb_9d1a_02420a39b8fbrow5_col3\" class=\"data row5 col3\" >-0.015</td>\n",
       "                        <td id=\"T_dd230890_5b46_11eb_9d1a_02420a39b8fbrow5_col4\" class=\"data row5 col4\" >0.0032</td>\n",
       "                        <td id=\"T_dd230890_5b46_11eb_9d1a_02420a39b8fbrow5_col5\" class=\"data row5 col5\" >1</td>\n",
       "                        <td id=\"T_dd230890_5b46_11eb_9d1a_02420a39b8fbrow5_col6\" class=\"data row5 col6\" >-0.012</td>\n",
       "                        <td id=\"T_dd230890_5b46_11eb_9d1a_02420a39b8fbrow5_col7\" class=\"data row5 col7\" >-0.0099</td>\n",
       "                        <td id=\"T_dd230890_5b46_11eb_9d1a_02420a39b8fbrow5_col8\" class=\"data row5 col8\" >-0.0071</td>\n",
       "            </tr>\n",
       "            <tr>\n",
       "                        <th id=\"T_dd230890_5b46_11eb_9d1a_02420a39b8fblevel0_row6\" class=\"row_heading level0 row6\" >IsActiveMember</th>\n",
       "                        <td id=\"T_dd230890_5b46_11eb_9d1a_02420a39b8fbrow6_col0\" class=\"data row6 col0\" >0.026</td>\n",
       "                        <td id=\"T_dd230890_5b46_11eb_9d1a_02420a39b8fbrow6_col1\" class=\"data row6 col1\" >0.085</td>\n",
       "                        <td id=\"T_dd230890_5b46_11eb_9d1a_02420a39b8fbrow6_col2\" class=\"data row6 col2\" >-0.032</td>\n",
       "                        <td id=\"T_dd230890_5b46_11eb_9d1a_02420a39b8fbrow6_col3\" class=\"data row6 col3\" >-0.01</td>\n",
       "                        <td id=\"T_dd230890_5b46_11eb_9d1a_02420a39b8fbrow6_col4\" class=\"data row6 col4\" >0.0096</td>\n",
       "                        <td id=\"T_dd230890_5b46_11eb_9d1a_02420a39b8fbrow6_col5\" class=\"data row6 col5\" >-0.012</td>\n",
       "                        <td id=\"T_dd230890_5b46_11eb_9d1a_02420a39b8fbrow6_col6\" class=\"data row6 col6\" >1</td>\n",
       "                        <td id=\"T_dd230890_5b46_11eb_9d1a_02420a39b8fbrow6_col7\" class=\"data row6 col7\" >-0.011</td>\n",
       "                        <td id=\"T_dd230890_5b46_11eb_9d1a_02420a39b8fbrow6_col8\" class=\"data row6 col8\" >-0.16</td>\n",
       "            </tr>\n",
       "            <tr>\n",
       "                        <th id=\"T_dd230890_5b46_11eb_9d1a_02420a39b8fblevel0_row7\" class=\"row_heading level0 row7\" >EstimatedSalary</th>\n",
       "                        <td id=\"T_dd230890_5b46_11eb_9d1a_02420a39b8fbrow7_col0\" class=\"data row7 col0\" >-0.0014</td>\n",
       "                        <td id=\"T_dd230890_5b46_11eb_9d1a_02420a39b8fbrow7_col1\" class=\"data row7 col1\" >-0.0072</td>\n",
       "                        <td id=\"T_dd230890_5b46_11eb_9d1a_02420a39b8fbrow7_col2\" class=\"data row7 col2\" >0.011</td>\n",
       "                        <td id=\"T_dd230890_5b46_11eb_9d1a_02420a39b8fbrow7_col3\" class=\"data row7 col3\" >0.013</td>\n",
       "                        <td id=\"T_dd230890_5b46_11eb_9d1a_02420a39b8fbrow7_col4\" class=\"data row7 col4\" >0.014</td>\n",
       "                        <td id=\"T_dd230890_5b46_11eb_9d1a_02420a39b8fbrow7_col5\" class=\"data row7 col5\" >-0.0099</td>\n",
       "                        <td id=\"T_dd230890_5b46_11eb_9d1a_02420a39b8fbrow7_col6\" class=\"data row7 col6\" >-0.011</td>\n",
       "                        <td id=\"T_dd230890_5b46_11eb_9d1a_02420a39b8fbrow7_col7\" class=\"data row7 col7\" >1</td>\n",
       "                        <td id=\"T_dd230890_5b46_11eb_9d1a_02420a39b8fbrow7_col8\" class=\"data row7 col8\" >0.012</td>\n",
       "            </tr>\n",
       "            <tr>\n",
       "                        <th id=\"T_dd230890_5b46_11eb_9d1a_02420a39b8fblevel0_row8\" class=\"row_heading level0 row8\" >Exited</th>\n",
       "                        <td id=\"T_dd230890_5b46_11eb_9d1a_02420a39b8fbrow8_col0\" class=\"data row8 col0\" >-0.027</td>\n",
       "                        <td id=\"T_dd230890_5b46_11eb_9d1a_02420a39b8fbrow8_col1\" class=\"data row8 col1\" >0.29</td>\n",
       "                        <td id=\"T_dd230890_5b46_11eb_9d1a_02420a39b8fbrow8_col2\" class=\"data row8 col2\" >-0.017</td>\n",
       "                        <td id=\"T_dd230890_5b46_11eb_9d1a_02420a39b8fbrow8_col3\" class=\"data row8 col3\" >0.12</td>\n",
       "                        <td id=\"T_dd230890_5b46_11eb_9d1a_02420a39b8fbrow8_col4\" class=\"data row8 col4\" >-0.048</td>\n",
       "                        <td id=\"T_dd230890_5b46_11eb_9d1a_02420a39b8fbrow8_col5\" class=\"data row8 col5\" >-0.0071</td>\n",
       "                        <td id=\"T_dd230890_5b46_11eb_9d1a_02420a39b8fbrow8_col6\" class=\"data row8 col6\" >-0.16</td>\n",
       "                        <td id=\"T_dd230890_5b46_11eb_9d1a_02420a39b8fbrow8_col7\" class=\"data row8 col7\" >0.012</td>\n",
       "                        <td id=\"T_dd230890_5b46_11eb_9d1a_02420a39b8fbrow8_col8\" class=\"data row8 col8\" >1</td>\n",
       "            </tr>\n",
       "    </tbody></table>"
      ],
      "text/plain": [
       "<pandas.io.formats.style.Styler at 0x7f6141cb8850>"
      ]
     },
     "execution_count": 7,
     "metadata": {},
     "output_type": "execute_result"
    }
   ],
   "source": [
    "#plt.matshow(data.corr())\n",
    "#plt.show()\n",
    "corr = data.corr()\n",
    "corr.style.background_gradient(cmap='coolwarm').set_precision(2)"
   ]
  },
  {
   "cell_type": "markdown",
   "metadata": {},
   "source": [
    "<div class=\"alert alert-info\">  До заполнения пропущенных значений проверили, с чем коррелирует признак Tenure. Есть слабая корреляция с балансом. Заполним пропущенные значения Tenure случайным значением. </div>"
   ]
  },
  {
   "cell_type": "code",
   "execution_count": 8,
   "metadata": {},
   "outputs": [
    {
     "name": "stdout",
     "output_type": "stream",
     "text": [
      "<class 'pandas.core.frame.DataFrame'>\n",
      "RangeIndex: 10000 entries, 0 to 9999\n",
      "Data columns (total 11 columns):\n",
      "CreditScore        10000 non-null int64\n",
      "Geography          10000 non-null object\n",
      "Gender             10000 non-null object\n",
      "Age                10000 non-null int64\n",
      "Tenure             10000 non-null float64\n",
      "Balance            10000 non-null float64\n",
      "NumOfProducts      10000 non-null int64\n",
      "HasCrCard          10000 non-null int64\n",
      "IsActiveMember     10000 non-null int64\n",
      "EstimatedSalary    10000 non-null float64\n",
      "Exited             10000 non-null int64\n",
      "dtypes: float64(3), int64(6), object(2)\n",
      "memory usage: 859.5+ KB\n",
      "None\n"
     ]
    }
   ],
   "source": [
    "data.Tenure.fillna(random.randint(0,10), inplace=True)  \n",
    "print(data.info())"
   ]
  },
  {
   "cell_type": "markdown",
   "metadata": {},
   "source": [
    "Есть категориальные признаки: пол и страна. "
   ]
  },
  {
   "cell_type": "code",
   "execution_count": 9,
   "metadata": {},
   "outputs": [],
   "source": [
    "features = data.drop('Exited',1)\n",
    "target = data['Exited']\n",
    "features = pd.get_dummies(features, drop_first=True)"
   ]
  },
  {
   "cell_type": "markdown",
   "metadata": {},
   "source": [
    "Разделим данные на выборки и проверим размеры выборок."
   ]
  },
  {
   "cell_type": "code",
   "execution_count": 10,
   "metadata": {},
   "outputs": [
    {
     "name": "stdout",
     "output_type": "stream",
     "text": [
      "(2000, 11)\n",
      "(2000,)\n",
      "(2000, 11)\n",
      "(2000,)\n",
      "(6000, 11)\n",
      "(6000,)\n"
     ]
    }
   ],
   "source": [
    "features_t, features_valid, target_t, target_valid = train_test_split(\n",
    "    features, target, test_size=0.20, random_state=12345) \n",
    "\n",
    "features_train, features_test, target_train, target_test = train_test_split(\n",
    "    features_t, target_t, test_size=0.25, random_state=12345) \n",
    "print(features_test.shape)\n",
    "print(target_test.shape)\n",
    "print(features_valid.shape)\n",
    "print(target_valid.shape)\n",
    "print(features_train.shape)\n",
    "print(target_train.shape)"
   ]
  },
  {
   "cell_type": "code",
   "execution_count": 11,
   "metadata": {},
   "outputs": [
    {
     "data": {
      "text/html": [
       "<div>\n",
       "<style scoped>\n",
       "    .dataframe tbody tr th:only-of-type {\n",
       "        vertical-align: middle;\n",
       "    }\n",
       "\n",
       "    .dataframe tbody tr th {\n",
       "        vertical-align: top;\n",
       "    }\n",
       "\n",
       "    .dataframe thead th {\n",
       "        text-align: right;\n",
       "    }\n",
       "</style>\n",
       "<table border=\"1\" class=\"dataframe\">\n",
       "  <thead>\n",
       "    <tr style=\"text-align: right;\">\n",
       "      <th></th>\n",
       "      <th>Gender</th>\n",
       "      <th>Geography</th>\n",
       "      <th>counts</th>\n",
       "    </tr>\n",
       "  </thead>\n",
       "  <tbody>\n",
       "    <tr>\n",
       "      <td>0</td>\n",
       "      <td>Female</td>\n",
       "      <td>France</td>\n",
       "      <td>2261</td>\n",
       "    </tr>\n",
       "    <tr>\n",
       "      <td>1</td>\n",
       "      <td>Female</td>\n",
       "      <td>Germany</td>\n",
       "      <td>1193</td>\n",
       "    </tr>\n",
       "    <tr>\n",
       "      <td>2</td>\n",
       "      <td>Female</td>\n",
       "      <td>Spain</td>\n",
       "      <td>1089</td>\n",
       "    </tr>\n",
       "    <tr>\n",
       "      <td>3</td>\n",
       "      <td>Male</td>\n",
       "      <td>France</td>\n",
       "      <td>2753</td>\n",
       "    </tr>\n",
       "    <tr>\n",
       "      <td>4</td>\n",
       "      <td>Male</td>\n",
       "      <td>Germany</td>\n",
       "      <td>1316</td>\n",
       "    </tr>\n",
       "    <tr>\n",
       "      <td>5</td>\n",
       "      <td>Male</td>\n",
       "      <td>Spain</td>\n",
       "      <td>1388</td>\n",
       "    </tr>\n",
       "  </tbody>\n",
       "</table>\n",
       "</div>"
      ],
      "text/plain": [
       "   Gender Geography  counts\n",
       "0  Female    France    2261\n",
       "1  Female   Germany    1193\n",
       "2  Female     Spain    1089\n",
       "3    Male    France    2753\n",
       "4    Male   Germany    1316\n",
       "5    Male     Spain    1388"
      ]
     },
     "execution_count": 11,
     "metadata": {},
     "output_type": "execute_result"
    }
   ],
   "source": [
    "data.groupby(['Gender', 'Geography']).size().reset_index(name='counts')"
   ]
  },
  {
   "cell_type": "markdown",
   "metadata": {},
   "source": [
    "Количество значений по признакам достаточное, чтобы не было перевеса на один из признаков."
   ]
  },
  {
   "cell_type": "markdown",
   "metadata": {},
   "source": [
    "<a id='shag_2'></a>"
   ]
  },
  {
   "cell_type": "markdown",
   "metadata": {},
   "source": [
    "# 2. Исследование задачи"
   ]
  },
  {
   "cell_type": "markdown",
   "metadata": {},
   "source": [
    "Для повторяющегося кода введем функцию"
   ]
  },
  {
   "cell_type": "code",
   "execution_count": 12,
   "metadata": {},
   "outputs": [],
   "source": [
    "def DecisionTreeClassifier_class_weight(features, target, class_w):\n",
    "    best_score = 0\n",
    "    best_depth = 0\n",
    "    best_auc_roc = 0\n",
    "    for depth in range(1, 16, 1):\n",
    "        model = DecisionTreeClassifier(class_weight=class_w, max_depth=depth, random_state=12345).fit(features, target)\n",
    "        f1 = f1_score(target_valid, model.predict(features_valid))\n",
    "        probabilities_valid = model.predict_proba(features_valid)\n",
    "        probabilities_one_valid = probabilities_valid[:, 1]\n",
    "        auc_roc = roc_auc_score(target_valid, probabilities_one_valid, average=None)\n",
    "        if f1 > best_score:\n",
    "            best_score = f1\n",
    "            best_depth = depth\n",
    "            best_auc_roc = auc_roc\n",
    "    print('Лучший f1_score: ', best_score,'Лучшая глубина: ', best_depth, 'best_auc_roc', best_auc_roc)"
   ]
  },
  {
   "cell_type": "code",
   "execution_count": 29,
   "metadata": {},
   "outputs": [],
   "source": [
    "def RandomForestClassifier_build(features, target):\n",
    "    best_score = 0\n",
    "    best_depth = 0\n",
    "    best_auc_roc = 0\n",
    "    best_n_est = 0\n",
    "    for depth in range(1, 16, 1):\n",
    "        for n_est in range(10, 150, 10):\n",
    "            model = RandomForestClassifier(max_depth=depth, n_estimators=n_est, random_state=12345).fit(features, target)\n",
    "            f1 = f1_score(target_test, model.predict(features_valid))\n",
    "            probabilities_valid = model.predict_proba(features_valid)\n",
    "            probabilities_one_valid = probabilities_valid[:, 1]\n",
    "            auc_roc = roc_auc_score(target_test, probabilities_one_valid, average=None)\n",
    "            if f1 > best_score:\n",
    "                best_score = f1\n",
    "                best_depth = depth\n",
    "                best_auc_roc = auc_roc\n",
    "                best_n_est = n_est\n",
    "    print('Лучший f1_score: ', best_score,'Лучшая глубина: ', best_depth, 'best_auc_roc', best_auc_roc, \n",
    "      'best_n_estimators', best_n_est)"
   ]
  },
  {
   "cell_type": "code",
   "execution_count": 19,
   "metadata": {},
   "outputs": [
    {
     "name": "stdout",
     "output_type": "stream",
     "text": [
      "Лучший f1_score:  0.5608011444921316 Лучшая глубина:  5 best_auc_roc 0.8468610376210971\n"
     ]
    }
   ],
   "source": [
    "DecisionTreeClassifier_class_weight(features_train, target_train, None)\n",
    "warnings.filterwarnings('ignore')"
   ]
  },
  {
   "cell_type": "markdown",
   "metadata": {},
   "source": [
    "В нашей модели значение F1 не достигает необходимого по условию 0.59. Проверим также другую модель на данной выборке."
   ]
  },
  {
   "cell_type": "code",
   "execution_count": 20,
   "metadata": {},
   "outputs": [
    {
     "name": "stdout",
     "output_type": "stream",
     "text": [
      "Лучший f1_score:  0.2490974729241877 Лучшая solver:  saga best_auc_roc 0.7514393207388735\n"
     ]
    }
   ],
   "source": [
    "def LogisticRegression_class_weight(features, target):\n",
    "    best_score = 0\n",
    "    best_depth = 0\n",
    "    best_auc_roc = 0\n",
    "    for solver in ['newton-cg', 'lbfgs', 'liblinear', 'sag', 'saga']:\n",
    "        model = LogisticRegression(solver=solver, random_state=12345).fit(features, target)\n",
    "        f1 = f1_score(target_valid, model.predict(features_valid))\n",
    "        probabilities_valid = model.predict_proba(features_valid)\n",
    "        probabilities_one_valid = probabilities_valid[:, 1]\n",
    "        auc_roc = roc_auc_score(target_valid, probabilities_one_valid, average=None)\n",
    "        if f1 > best_score:\n",
    "            best_solver = solver\n",
    "            best_score = f1\n",
    "            best_auc_roc = auc_roc\n",
    "    print('Лучший f1_score: ', best_score,'Лучшая solver: ', solver, 'best_auc_roc', best_auc_roc)\n",
    "LogisticRegression_class_weight(features_train, target_train)"
   ]
  },
  {
   "cell_type": "markdown",
   "metadata": {},
   "source": [
    "В данном случае f1_score еще ниже = 0.28."
   ]
  },
  {
   "cell_type": "markdown",
   "metadata": {},
   "source": [
    "<div class=\"alert alert-info\"> Попробуем модель случайного леса </div>"
   ]
  },
  {
   "cell_type": "code",
   "execution_count": 21,
   "metadata": {},
   "outputs": [
    {
     "name": "stdout",
     "output_type": "stream",
     "text": [
      "Лучший f1_score:  0.19005847953216376 Лучшая глубина:  13 best_auc_roc 0.5036813385067054 best_n_estimators 5\n"
     ]
    }
   ],
   "source": [
    "RandomForestClassifier_build(features_train, target_train)"
   ]
  },
  {
   "cell_type": "code",
   "execution_count": 22,
   "metadata": {},
   "outputs": [
    {
     "name": "stdout",
     "output_type": "stream",
     "text": [
      "7963\n",
      "2037\n"
     ]
    }
   ],
   "source": [
    "print(target[target == 0].count())\n",
    "print(target[target == 1].count())"
   ]
  },
  {
   "cell_type": "markdown",
   "metadata": {},
   "source": [
    "Видим, что значений класса 1 примерно в 4 раза меньше, чем значений класса 0."
   ]
  },
  {
   "cell_type": "markdown",
   "metadata": {},
   "source": [
    "<a id='shag_3'></a>"
   ]
  },
  {
   "cell_type": "markdown",
   "metadata": {},
   "source": [
    "# 3. Борьба с дисбалансом"
   ]
  },
  {
   "cell_type": "markdown",
   "metadata": {},
   "source": [
    "Попробуем модель DecisionTreeClassifier со значением параметра class_weight = 'balanced':"
   ]
  },
  {
   "cell_type": "code",
   "execution_count": 23,
   "metadata": {},
   "outputs": [
    {
     "name": "stdout",
     "output_type": "stream",
     "text": [
      "Лучший f1_score:  0.601593625498008 Лучшая глубина:  8 best_auc_roc 0.8089645079212888\n"
     ]
    }
   ],
   "source": [
    "DecisionTreeClassifier_class_weight(features_train, target_train, 'balanced')"
   ]
  },
  {
   "cell_type": "markdown",
   "metadata": {},
   "source": [
    "Теперь f1_score = 0.60 и удовлетворяет условию. При этом значение  auc_roc стало 0.80, вместо 0.84."
   ]
  },
  {
   "cell_type": "markdown",
   "metadata": {},
   "source": [
    "Увеличим выборку с классом 1 в 4 раза:"
   ]
  },
  {
   "cell_type": "code",
   "execution_count": 24,
   "metadata": {},
   "outputs": [],
   "source": [
    "#увеличение выборки\n",
    "def upsample(features, target, repeat):\n",
    "    features_zeros = features[target == 0]\n",
    "    features_ones = features[target == 1]\n",
    "    target_zeros = target[target == 0]\n",
    "    target_ones = target[target == 1]\n",
    "\n",
    "    features_upsampled = pd.concat([features_zeros] + [features_ones] * repeat)\n",
    "    target_upsampled = pd.concat([target_zeros] + [target_ones] * repeat)\n",
    "    \n",
    "    features_upsampled, target_upsampled = shuffle(\n",
    "        features_upsampled, target_upsampled, random_state=12345)\n",
    "    \n",
    "    return features_upsampled, target_upsampled\n",
    "\n",
    "features_upsampled, target_upsampled = upsample(features_train, target_train, 4)"
   ]
  },
  {
   "cell_type": "code",
   "execution_count": 25,
   "metadata": {},
   "outputs": [
    {
     "name": "stdout",
     "output_type": "stream",
     "text": [
      "Лучший f1_score:  0.5994005994005994 Лучшая глубина:  8 best_auc_roc 0.8064923154341932\n"
     ]
    }
   ],
   "source": [
    "DecisionTreeClassifier_class_weight(features_upsampled, target_upsampled, None)"
   ]
  },
  {
   "cell_type": "markdown",
   "metadata": {},
   "source": [
    "Результат после ручного увеличения малочисленного класса получился аналогичным модели в параметром class_weight = 'balanced'."
   ]
  },
  {
   "cell_type": "code",
   "execution_count": 26,
   "metadata": {},
   "outputs": [
    {
     "name": "stdout",
     "output_type": "stream",
     "text": [
      "Лучший f1_score:  0.5041322314049587 Лучшая solver:  saga best_auc_roc 0.7638605805520857\n"
     ]
    }
   ],
   "source": [
    "LogisticRegression_class_weight(features_upsampled, target_upsampled)"
   ]
  },
  {
   "cell_type": "markdown",
   "metadata": {},
   "source": [
    "Модель LogisticRegression после ручного увеличения малочисленного класса стала значительно эффективнее. Но пока F1 ниже необходимого."
   ]
  },
  {
   "cell_type": "code",
   "execution_count": 27,
   "metadata": {},
   "outputs": [
    {
     "name": "stdout",
     "output_type": "stream",
     "text": [
      "Лучший f1_score:  0.2897350993377484 Лучшая глубина:  1 best_auc_roc 0.5119269963234301 best_n_estimators 45\n"
     ]
    }
   ],
   "source": [
    "RandomForestClassifier_build(features_upsampled, target_upsampled)"
   ]
  },
  {
   "cell_type": "markdown",
   "metadata": {},
   "source": [
    "Попробуем добиться баланса через уменьшение выборки"
   ]
  },
  {
   "cell_type": "code",
   "execution_count": 30,
   "metadata": {},
   "outputs": [],
   "source": [
    "def downsample(features, target, fraction):\n",
    "    features_zeros = features[target == 0]\n",
    "    features_ones = features[target == 1]\n",
    "    target_zeros = target[target == 0]\n",
    "    target_ones = target[target == 1]\n",
    "\n",
    "    features_downsampled = pd.concat(\n",
    "        [features_zeros.sample(frac=fraction, random_state=12345)] + [features_ones])\n",
    "    target_downsampled = pd.concat(\n",
    "        [target_zeros.sample(frac=fraction, random_state=12345)] + [target_ones])\n",
    "    \n",
    "    features_downsampled, target_downsampled = shuffle(\n",
    "        features_downsampled, target_downsampled, random_state=12345)\n",
    "    \n",
    "    return features_downsampled, target_downsampled\n",
    "\n",
    "features_downsampled, target_downsampled = downsample(features_train, target_train, 0.32)"
   ]
  },
  {
   "cell_type": "markdown",
   "metadata": {},
   "source": [
    "Посмотрим какого значения F1 и AUC-ROC можем добиться в зависимости от фракции"
   ]
  },
  {
   "cell_type": "code",
   "execution_count": 31,
   "metadata": {},
   "outputs": [
    {
     "name": "stdout",
     "output_type": "stream",
     "text": [
      "0.2\n",
      "Лучший f1_score:  0.5603944124897289 Лучшая глубина:  5 best_auc_roc 0.8105076741440378\n",
      "0.21\n",
      "Лучший f1_score:  0.5729076790336496 Лучшая глубина:  4 best_auc_roc 0.8300514686505744\n",
      "0.22\n",
      "Лучший f1_score:  0.579372197309417 Лучшая глубина:  6 best_auc_roc 0.8239197464234721\n",
      "0.23\n",
      "Лучший f1_score:  0.5657781599312123 Лучшая глубина:  6 best_auc_roc 0.8124550561212259\n",
      "0.24\n",
      "Лучший f1_score:  0.5790934320074006 Лучшая глубина:  6 best_auc_roc 0.8292489924382622\n",
      "0.25\n",
      "Лучший f1_score:  0.5839285714285714 Лучшая глубина:  7 best_auc_roc 0.818658986319195\n",
      "0.26\n",
      "Лучший f1_score:  0.6016096579476862 Лучшая глубина:  7 best_auc_roc 0.821499662781332\n",
      "0.27\n",
      "Лучший f1_score:  0.5962962962962963 Лучшая глубина:  6 best_auc_roc 0.8410799334793373\n",
      "0.28\n",
      "Лучший f1_score:  0.6033630069238379 Лучшая глубина:  7 best_auc_roc 0.824649270252847\n",
      "0.29\n",
      "Лучший f1_score:  0.6161825726141079 Лучшая глубина:  7 best_auc_roc 0.835289896392728\n",
      "0.3\n",
      "Лучший f1_score:  0.6115035317860747 Лучшая глубина:  7 best_auc_roc 0.8303202014081299\n",
      "0.31\n",
      "Лучший f1_score:  0.6222222222222222 Лучшая глубина:  5 best_auc_roc 0.8480334866325924\n",
      "0.32\n",
      "Лучший f1_score:  0.6262626262626263 Лучшая глубина:  5 best_auc_roc 0.8510170902123212\n",
      "0.33\n",
      "Лучший f1_score:  0.6096153846153848 Лучшая глубина:  5 best_auc_roc 0.8388690296290892\n",
      "0.34\n",
      "Лучший f1_score:  0.6262626262626263 Лучшая глубина:  5 best_auc_roc 0.8510476111072237\n",
      "0.35\n",
      "Лучший f1_score:  0.6262626262626263 Лучшая глубина:  5 best_auc_roc 0.8509337160603926\n",
      "0.36\n",
      "Лучший f1_score:  0.6162790697674418 Лучшая глубина:  5 best_auc_roc 0.8509337160603926\n",
      "0.37\n",
      "Лучший f1_score:  0.6162790697674418 Лучшая глубина:  5 best_auc_roc 0.850570442969847\n",
      "0.38\n",
      "Лучший f1_score:  0.6162790697674418 Лучшая глубина:  5 best_auc_roc 0.8506173409303067\n",
      "0.39\n",
      "Лучший f1_score:  0.6245919477693145 Лучшая глубина:  8 best_auc_roc 0.8150887860276831\n"
     ]
    }
   ],
   "source": [
    "for fraction in range(20, 40, 1):\n",
    "    features_downsampled, target_downsampled = downsample(features_train, target_train, fraction/100)\n",
    "    print(fraction/100)\n",
    "    DecisionTreeClassifier_class_weight(features_downsampled, target_downsampled, None)"
   ]
  },
  {
   "cell_type": "markdown",
   "metadata": {},
   "source": [
    "Итак, хороший результат получаем при фракции 0.32"
   ]
  },
  {
   "cell_type": "code",
   "execution_count": 32,
   "metadata": {},
   "outputs": [
    {
     "name": "stdout",
     "output_type": "stream",
     "text": [
      "Лучший f1_score:  0.6245919477693145 Лучшая глубина:  8 best_auc_roc 0.8150887860276831\n"
     ]
    }
   ],
   "source": [
    "DecisionTreeClassifier_class_weight(features_downsampled, target_downsampled, None)"
   ]
  },
  {
   "cell_type": "markdown",
   "metadata": {},
   "source": [
    "Со значением фракции 0.25 значение F1 было бы близким к значению F1, полученным при upsample. Но благодаря оптимизации фракции, удалось добиться значения F1 0.62."
   ]
  },
  {
   "cell_type": "markdown",
   "metadata": {},
   "source": [
    "<div class=\"alert alert-info\">  Проверим также модель случайного леса на сбалансированной выборке. </div>"
   ]
  },
  {
   "cell_type": "code",
   "execution_count": 34,
   "metadata": {},
   "outputs": [
    {
     "name": "stdout",
     "output_type": "stream",
     "text": [
      "Лучший f1_score:  0.25418060200668896 Лучшая глубина:  11 best_auc_roc 0.5276998469288003 best_n_estimators 10\n"
     ]
    }
   ],
   "source": [
    "RandomForestClassifier_build(features_downsampled, target_downsampled)"
   ]
  },
  {
   "cell_type": "code",
   "execution_count": 35,
   "metadata": {},
   "outputs": [
    {
     "name": "stdout",
     "output_type": "stream",
     "text": [
      "Лучший f1_score:  0.5015673981191222 Лучшая solver:  saga best_auc_roc 0.764503752581249\n"
     ]
    }
   ],
   "source": [
    "LogisticRegression_class_weight(features_downsampled, target_downsampled)"
   ]
  },
  {
   "cell_type": "markdown",
   "metadata": {},
   "source": [
    "На примере модели LogisticRegression убеждаемся, что действительно upsample и downsample приводят к равнозначной эффективности (при достаточной величине выборки)"
   ]
  },
  {
   "cell_type": "markdown",
   "metadata": {},
   "source": [
    "Используя разные подходы работы с дисбалансом - получаем примерно сопоставимые результаты.\n",
    "На разные модели эффект от работы с дисбалансом получается раззный."
   ]
  },
  {
   "cell_type": "markdown",
   "metadata": {},
   "source": [
    "Самая лучшая наша модель, на которой проведем итоговое тестирование:"
   ]
  },
  {
   "cell_type": "code",
   "execution_count": 36,
   "metadata": {},
   "outputs": [
    {
     "name": "stdout",
     "output_type": "stream",
     "text": [
      "Лучший f1_score:  0.6245919477693145 best_auc_roc 0.8150887860276831\n"
     ]
    }
   ],
   "source": [
    "model = DecisionTreeClassifier(class_weight=None, max_depth=8, random_state=12345).fit(features_downsampled, target_downsampled)\n",
    "f1 = f1_score(target_valid, model.predict(features_valid))\n",
    "probabilities_valid = model.predict_proba(features_valid)\n",
    "probabilities_one_valid = probabilities_valid[:, 1]\n",
    "auc_roc = roc_auc_score(target_valid, probabilities_one_valid, average=None)\n",
    "print('Лучший f1_score: ', f1, 'best_auc_roc', auc_roc)"
   ]
  },
  {
   "cell_type": "markdown",
   "metadata": {},
   "source": [
    "<a id='shag_4'></a>"
   ]
  },
  {
   "cell_type": "markdown",
   "metadata": {},
   "source": [
    "# 4. Тестирование модели"
   ]
  },
  {
   "cell_type": "markdown",
   "metadata": {},
   "source": [
    "<div class=\"alert alert-info\"> Убрал баланс теста </div>"
   ]
  },
  {
   "cell_type": "code",
   "execution_count": 37,
   "metadata": {},
   "outputs": [
    {
     "name": "stdout",
     "output_type": "stream",
     "text": [
      "Лучший f1_score:  0.5655577299412915 Лучшая глубина:  6 best_auc_roc 0.8169614969504975\n"
     ]
    }
   ],
   "source": [
    "features_downsampled, target_downsampled = downsample(features_train, target_train, 0.32)\n",
    "\n",
    "best_score = 0\n",
    "best_depth = 0\n",
    "best_auc_roc = 0\n",
    "for depth in range(1, 16, 1):\n",
    "    model = DecisionTreeClassifier(max_depth=depth, random_state=12345).fit(features_downsampled, target_downsampled)\n",
    "    f1 = f1_score(target_test, model.predict(features_test))\n",
    "    probabilities_valid = model.predict_proba(features_test)\n",
    "    probabilities_one_valid = probabilities_valid[:, 1]\n",
    "    auc_roc = roc_auc_score(target_test, probabilities_one_valid, average=None)\n",
    "    if f1 > best_score:\n",
    "        best_score = f1\n",
    "        best_depth = depth\n",
    "        best_auc_roc = auc_roc\n",
    "print('Лучший f1_score: ', best_score,'Лучшая глубина: ', best_depth, 'best_auc_roc', best_auc_roc)"
   ]
  },
  {
   "cell_type": "markdown",
   "metadata": {},
   "source": [
    "Наша модель успешно показала значение F1 = 0.55 при AUC_ROC = 0.79."
   ]
  },
  {
   "cell_type": "markdown",
   "metadata": {},
   "source": [
    "************************************"
   ]
  },
  {
   "cell_type": "code",
   "execution_count": 39,
   "metadata": {},
   "outputs": [
    {
     "name": "stdout",
     "output_type": "stream",
     "text": [
      "Лучший f1_score:  0.6047745358090186 Лучшая глубина:  15 best_auc_roc 0.8458693824220855\n"
     ]
    }
   ],
   "source": [
    "features_upsampled, target_upsampled = upsample(features_train, target_train, 4)\n",
    "\n",
    "best_score = 0\n",
    "best_depth = 0\n",
    "best_auc_roc = 0\n",
    "for depth in range(1, 16, 1):\n",
    "    model = RandomForestClassifier(max_depth=depth, n_estimators=100, random_state=12345).fit(features_upsampled, target_upsampled )\n",
    "    f1 = f1_score(target_test, model.predict(features_test))\n",
    "    probabilities_valid = model.predict_proba(features_test)\n",
    "    probabilities_one_valid = probabilities_valid[:, 1]\n",
    "    auc_roc = roc_auc_score(target_test, probabilities_one_valid, average=None)\n",
    "    if f1 > best_score:\n",
    "        best_score = f1\n",
    "        best_depth = depth\n",
    "        best_auc_roc = auc_roc\n",
    "print('Лучший f1_score: ', best_score,'Лучшая глубина: ', best_depth, 'best_auc_roc', best_auc_roc)"
   ]
  },
  {
   "cell_type": "code",
   "execution_count": 41,
   "metadata": {},
   "outputs": [
    {
     "name": "stdout",
     "output_type": "stream",
     "text": [
      "Лучший f1_score:  0.5926860025220682 Лучшая глубина:  8 best_auc_roc 0.8482640009282821\n"
     ]
    }
   ],
   "source": [
    "features_downsampled, target_downsampled = downsample(features_train, target_train, 0.4)\n",
    "\n",
    "best_score = 0\n",
    "best_depth = 0\n",
    "best_auc_roc = 0\n",
    "for depth in range(1, 16, 1):\n",
    "    model = RandomForestClassifier(max_depth=depth, n_estimators=100, random_state=12345).fit(features_downsampled, target_downsampled)\n",
    "    f1 = f1_score(target_test, model.predict(features_test))\n",
    "    probabilities_valid = model.predict_proba(features_test)\n",
    "    probabilities_one_valid = probabilities_valid[:, 1]\n",
    "    auc_roc = roc_auc_score(target_test, probabilities_one_valid, average=None)\n",
    "    if f1 > best_score:\n",
    "        best_score = f1\n",
    "        best_depth = depth\n",
    "        best_auc_roc = auc_roc\n",
    "print('Лучший f1_score: ', best_score,'Лучшая глубина: ', best_depth, 'best_auc_roc', best_auc_roc)"
   ]
  },
  {
   "cell_type": "markdown",
   "metadata": {},
   "source": [
    "************************************"
   ]
  },
  {
   "cell_type": "markdown",
   "metadata": {},
   "source": [
    "<div class=\"alert alert-info\"> Получили, что модели, которые были менее эффективны при сбалансированной выборке, могут показать лучший результат на несбалансированной выборке </div>"
   ]
  },
  {
   "cell_type": "code",
   "execution_count": null,
   "metadata": {},
   "outputs": [],
   "source": [
    "def barplot(x_data, y_data, x_label=\"\", y_label=\"\", title=\"\"):\n",
    "    _, ax = plt.subplots(figsize=(20,3))\n",
    "    #ax.set_figwidth(15)\n",
    "    ax.bar(x_data, y_data, color = '#539caf', align = 'center')\n",
    "    ax.errorbar(x_data, y_data, color = '#297083', ls = 'none', lw = 2, capthick = 2)\n",
    "    ax.set_ylabel(y_label)\n",
    "    ax.set_xlabel(x_label)\n",
    "    ax.set_title(title)"
   ]
  },
  {
   "cell_type": "code",
   "execution_count": null,
   "metadata": {},
   "outputs": [],
   "source": [
    "importances = model.feature_importances_\n",
    "factors=data.columns\n",
    "df = pd.DataFrame(importances)\n",
    "df['factors']=factors\n",
    "df.columns = ['values', 'factors']\n",
    "display(df)\n",
    "barplot(factors, importances, x_label=\"\", y_label=\"\", title=\"\")"
   ]
  },
  {
   "cell_type": "markdown",
   "metadata": {},
   "source": [
    "\n",
    "<div class=\"alert alert-info\"> Дополнив исследование графиков важности факторов, видим что самыми важными факторами являются Geography, CreditScore, Age, Tenure, HasCrCard. </div>"
   ]
  },
  {
   "cell_type": "markdown",
   "metadata": {},
   "source": [
    "# Чек-лист готовности проекта"
   ]
  },
  {
   "cell_type": "markdown",
   "metadata": {},
   "source": [
    "Поставьте 'x' в выполненных пунктах. Далее нажмите Shift+Enter."
   ]
  },
  {
   "cell_type": "markdown",
   "metadata": {},
   "source": [
    "- [x]  Jupyter Notebook открыт\n",
    "- [x]  Весь код выполняется без ошибок\n",
    "- [x]  Ячейки с кодом расположены в порядке исполнения\n",
    "- [x]  Выполнен шаг 1: данные подготовлены\n",
    "- [x]  Выполнен шаг 2: задача исследована\n",
    "    - [x]  Исследован баланс классов\n",
    "    - [x]  Изучены модели без учёта дисбаланса\n",
    "    - [x]  Написаны выводы по результатам исследования\n",
    "- [x]  Выполнен шаг 3: учтён дисбаланс\n",
    "    - [x]  Применено несколько способов борьбы с дисбалансом\n",
    "    - [x]  Написаны выводы по результатам исследования\n",
    "- [x]  Выполнен шаг 4: проведено тестирование\n",
    "- [x]  Удалось достичь *F1*-меры не менее 0.59\n",
    "- [x]  Исследована метрика *AUC-ROC*"
   ]
  }
 ],
 "metadata": {
  "kernelspec": {
   "display_name": "Python 3",
   "language": "python",
   "name": "python3"
  },
  "language_info": {
   "codemirror_mode": {
    "name": "ipython",
    "version": 3
   },
   "file_extension": ".py",
   "mimetype": "text/x-python",
   "name": "python",
   "nbconvert_exporter": "python",
   "pygments_lexer": "ipython3",
   "version": "3.8.3"
  }
 },
 "nbformat": 4,
 "nbformat_minor": 2
}
